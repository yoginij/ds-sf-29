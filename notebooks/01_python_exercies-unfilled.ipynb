{
 "cells": [
  {
   "cell_type": "code",
   "execution_count": 6,
   "metadata": {
    "collapsed": false
   },
   "outputs": [],
   "source": [
    "# 1. How do you create an empty list named 'mylist'?\n",
    "\n",
    "mylist = []\n",
    "mylist = list()"
   ]
  },
  {
   "cell_type": "code",
   "execution_count": 2,
   "metadata": {
    "collapsed": false
   },
   "outputs": [
    {
     "data": {
      "text/plain": [
       "True"
      ]
     },
     "execution_count": 2,
     "metadata": {},
     "output_type": "execute_result"
    }
   ],
   "source": [
    "# 2. What will the following code return? 5 > 3 or 5  < 3\n",
    "\n",
    "5 > 3 or 5  < 3"
   ]
  },
  {
   "cell_type": "code",
   "execution_count": 11,
   "metadata": {
    "collapsed": false
   },
   "outputs": [],
   "source": [
    "# 3. What will be stored in the 'nums' object? nums = range(10)\n",
    "\n",
    "nums = range(10)\n",
    "nums = ['a', 'b', 'c']"
   ]
  },
  {
   "cell_type": "code",
   "execution_count": 5,
   "metadata": {
    "collapsed": false
   },
   "outputs": [
    {
     "data": {
      "text/plain": [
       "3"
      ]
     },
     "execution_count": 5,
     "metadata": {},
     "output_type": "execute_result"
    }
   ],
   "source": [
    "# 4. How do you check the type and the length of the 'nums' object?\n",
    "\n",
    "len(nums)"
   ]
  },
  {
   "cell_type": "code",
   "execution_count": 10,
   "metadata": {
    "collapsed": false
   },
   "outputs": [
    {
     "data": {
      "text/plain": [
       "'c'"
      ]
     },
     "execution_count": 10,
     "metadata": {},
     "output_type": "execute_result"
    }
   ],
   "source": [
    "# 5. How do you return the last number in the 'nums' object?\n",
    "\n",
    "nums[len(nums) - 1]\n",
    "nums[-1]"
   ]
  },
  {
   "cell_type": "code",
   "execution_count": 11,
   "metadata": {
    "collapsed": false
   },
   "outputs": [
    {
     "data": {
      "text/plain": [
       "[0, 1, 2, 3, 4]"
      ]
     },
     "execution_count": 11,
     "metadata": {},
     "output_type": "execute_result"
    }
   ],
   "source": [
    "# 6. Slice the 'nums' object to return a list with the numbers 0,1,2, 3, 4.\n",
    "nums = range(10)\n",
    "nums[:5]"
   ]
  },
  {
   "cell_type": "code",
   "execution_count": 14,
   "metadata": {
    "collapsed": false
   },
   "outputs": [
    {
     "name": "stdout",
     "output_type": "stream",
     "text": [
      "['a', 'b', 'c', 10, 10, 11, 10]\n",
      "['a', 'b', 'c', 10, 10, 11, 10, 10]\n"
     ]
    }
   ],
   "source": [
    "# 7. What is the difference between 'nums.append(10)' and 'nums + [10]'?\n",
    "\n",
    "nums.append(10)\n",
    "print nums\n",
    "\n",
    "nums += [10]\n",
    "print nums "
   ]
  },
  {
   "cell_type": "code",
   "execution_count": 15,
   "metadata": {
    "collapsed": false
   },
   "outputs": [
    {
     "data": {
      "text/plain": [
       "1.5"
      ]
     },
     "execution_count": 15,
     "metadata": {},
     "output_type": "execute_result"
    }
   ],
   "source": [
    "# 8. How do you divide 3 by 2 and get a result of 1.5?\n",
    "\n",
    "3/2\n",
    "\n",
    "float(3)/2"
   ]
  },
  {
   "cell_type": "code",
   "execution_count": 17,
   "metadata": {
    "collapsed": false
   },
   "outputs": [
    {
     "data": {
      "text/plain": [
       "33.0"
      ]
     },
     "execution_count": 17,
     "metadata": {},
     "output_type": "execute_result"
    }
   ],
   "source": [
    "# 9. Import the 'math' module, and then use its 'sqrt' function to calculate the square root of 1089\n",
    "\n",
    "import math\n",
    "math.sqrt(1089)\n",
    "1089**.5"
   ]
  },
  {
   "cell_type": "code",
   "execution_count": 18,
   "metadata": {
    "collapsed": false
   },
   "outputs": [
    {
     "data": {
      "text/plain": [
       "{'a': 10, 'b': 20, 'c': 30}"
      ]
     },
     "execution_count": 18,
     "metadata": {},
     "output_type": "execute_result"
    }
   ],
   "source": [
    "# 10. What type of object is created by this code? d = {'a':10, 'b':20, 'c':30}\n",
    "\n",
    "\n",
    "\n",
    "d = {'a':10, 'b':20, 'c':30}\n",
    "d\n"
   ]
  },
  {
   "cell_type": "code",
   "execution_count": null,
   "metadata": {
    "collapsed": false
   },
   "outputs": [],
   "source": [
    "# 11. In the 'd' object, what are 'a', 'b', and 'c' called? What are 10, 20, and 30 called?\t\n",
    "\n",
    "# a, b, c are    \"keys\"\n",
    "# 10, 20, 30 are \"values\""
   ]
  },
  {
   "cell_type": "code",
   "execution_count": 19,
   "metadata": {
    "collapsed": false
   },
   "outputs": [
    {
     "data": {
      "text/plain": [
       "10"
      ]
     },
     "execution_count": 19,
     "metadata": {},
     "output_type": "execute_result"
    }
   ],
   "source": [
    "# 12. How do you return the 10 from the 'd' object?\n",
    "\n",
    "d['a']"
   ]
  },
  {
   "cell_type": "code",
   "execution_count": 21,
   "metadata": {
    "collapsed": false
   },
   "outputs": [
    {
     "data": {
      "text/plain": [
       "40"
      ]
     },
     "execution_count": 21,
     "metadata": {},
     "output_type": "execute_result"
    }
   ],
   "source": [
    "# 13. How do you change the 30 to a 40 in the 'd' object?\n",
    "\n",
    "d['c'] = 40\n",
    "d['c']"
   ]
  },
  {
   "cell_type": "code",
   "execution_count": 22,
   "metadata": {
    "collapsed": false
   },
   "outputs": [
    {
     "data": {
      "text/plain": [
       "'VA'"
      ]
     },
     "execution_count": 22,
     "metadata": {},
     "output_type": "execute_result"
    }
   ],
   "source": [
    "# 14. From the 'people' object what does this return?: \n",
    "people = {'Alice': ['Washington', 'DC'], 'Brandon': ['Arlington', 'VA']}\n",
    "\n",
    "people['Brandon'][1]"
   ]
  },
  {
   "cell_type": "code",
   "execution_count": 23,
   "metadata": {
    "collapsed": false
   },
   "outputs": [
    {
     "data": {
      "text/plain": [
       "12"
      ]
     },
     "execution_count": 23,
     "metadata": {},
     "output_type": "execute_result"
    }
   ],
   "source": [
    "# 15. Define a function 'calc' that takes two variables, 'a' and 'b', and returns their sum.\n",
    "\n",
    "def calc(a, b):\n",
    "    return a + b\n",
    "\n",
    "calc(5, 7)"
   ]
  },
  {
   "cell_type": "code",
   "execution_count": 25,
   "metadata": {
    "collapsed": false
   },
   "outputs": [
    {
     "name": "stdout",
     "output_type": "stream",
     "text": [
      "2\n",
      "5\n",
      "1.586931 seconds\n"
     ]
    }
   ],
   "source": [
    "# 16. The prime factors of 13195 are 5, 7, 13 and 29.  What is the largest prime factor of the number 600851475143?\n",
    "\n",
    "\n",
    "\n",
    "\n",
    "def isPrime(p):\n",
    "    for i in range(2,p):\n",
    "        if p%i == 0: return False\n",
    "    return True\n",
    "\n",
    "now = datetime.now()\n",
    "num = 10000\n",
    "for i in range(2,num):\n",
    "    if isPrime(i) and num % i == 0: print i\n",
    "print (datetime.now() - now).total_seconds(), \"seconds\"\n",
    "\n",
    "# SUPER SLOW\n",
    "\n",
    "\n",
    "\n",
    "\n"
   ]
  },
  {
   "cell_type": "code",
   "execution_count": 24,
   "metadata": {
    "collapsed": false
   },
   "outputs": [
    {
     "name": "stdout",
     "output_type": "stream",
     "text": [
      "set([6857, 839, 1471, 71]) 0.006087 seconds\n"
     ]
    }
   ],
   "source": [
    "from datetime import datetime\n",
    "\n",
    "now = datetime.now()\n",
    "num = 600851475143\n",
    "i = 2\n",
    "primes = set()\n",
    "while num != 1:\n",
    "    while num%i==0: \n",
    "        primes.add(i)\n",
    "        num /= i\n",
    "    i+=1\n",
    "primes\n",
    "print primes, (datetime.now() - now).total_seconds(), \"seconds\"\n",
    "\n",
    "# WOAH SUPER FAST\n",
    "\n"
   ]
  },
  {
   "cell_type": "code",
   "execution_count": null,
   "metadata": {
    "collapsed": true
   },
   "outputs": [],
   "source": []
  }
 ],
 "metadata": {
  "kernelspec": {
   "display_name": "Python 2",
   "language": "python",
   "name": "python2"
  },
  "language_info": {
   "codemirror_mode": {
    "name": "ipython",
    "version": 2
   },
   "file_extension": ".py",
   "mimetype": "text/x-python",
   "name": "python",
   "nbconvert_exporter": "python",
   "pygments_lexer": "ipython2",
   "version": "2.7.12"
  }
 },
 "nbformat": 4,
 "nbformat_minor": 0
}
