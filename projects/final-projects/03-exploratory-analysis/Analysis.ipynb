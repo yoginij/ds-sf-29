{
 "cells": [
  {
   "cell_type": "code",
   "execution_count": 36,
   "metadata": {
    "collapsed": false
   },
   "outputs": [],
   "source": [
    "import pandas as pd\n",
    "import numpy as np\n",
    "from sklearn.model_selection import train_test_split\n",
    "%matplotlib inline\n",
    "import sklearn.linear_model as lm\n",
    "import matplotlib.pyplot as plt\n",
    "import seaborn as sns\n",
    "\n",
    "df = pd.read_csv('/Users/yogini/Downloads/Traffic_Violations.csv')\n",
    "#df.head()\n",
    "#df['Date Of Stop'].max()\n",
    "#df.columns.values.tolist()#\n",
    "d1=df.dropna()\n",
    "\n",
    "\n",
    "train, test = train_test_split(d1, test_size = 0.2)\n"
   ]
  },
  {
   "cell_type": "code",
   "execution_count": 37,
   "metadata": {
    "collapsed": false
   },
   "outputs": [
    {
     "name": "stderr",
     "output_type": "stream",
     "text": [
      "/anaconda/lib/python2.7/site-packages/ipykernel/__main__.py:4: SettingWithCopyWarning: \n",
      "A value is trying to be set on a copy of a slice from a DataFrame.\n",
      "Try using .loc[row_indexer,col_indexer] = value instead\n",
      "\n",
      "See the caveats in the documentation: http://pandas.pydata.org/pandas-docs/stable/indexing.html#indexing-view-versus-copy\n",
      "/anaconda/lib/python2.7/site-packages/ipykernel/__main__.py:5: SettingWithCopyWarning: \n",
      "A value is trying to be set on a copy of a slice from a DataFrame.\n",
      "Try using .loc[row_indexer,col_indexer] = value instead\n",
      "\n",
      "See the caveats in the documentation: http://pandas.pydata.org/pandas-docs/stable/indexing.html#indexing-view-versus-copy\n"
     ]
    }
   ],
   "source": [
    "testyear=d1.groupby(['Date Of Stop'])\n",
    "#d=train.groupby(['Accident'])\n",
    "#testyear['Date Of Stop'].size()\n",
    "d1['stop-year']=pd.DatetimeIndex(d1['Date Of Stop']).year\n",
    "d1['stop-month']=pd.DatetimeIndex(d1['Date Of Stop']).month"
   ]
  },
  {
   "cell_type": "code",
   "execution_count": 38,
   "metadata": {
    "collapsed": false
   },
   "outputs": [
    {
     "data": {
      "text/plain": [
       "stop-year  stop-month\n",
       "2015       3                 1\n",
       "           4                 3\n",
       "           6                 1\n",
       "           10               12\n",
       "           11                5\n",
       "           12               10\n",
       "2016       1                19\n",
       "           2                14\n",
       "           3              6412\n",
       "           4             18075\n",
       "           5             16048\n",
       "           6             17307\n",
       "           7             15199\n",
       "           8             15938\n",
       "           9             14809\n",
       "           10            15197\n",
       "           11            14808\n",
       "           12             6977\n",
       "dtype: int64"
      ]
     },
     "execution_count": 38,
     "metadata": {},
     "output_type": "execute_result"
    }
   ],
   "source": [
    "d1.groupby(['stop-year','stop-month']).size()\n",
    "#tst.groupby(['stop-year'],['stop-month']).size()\n",
    "#df.groupby(['col5', 'col2']).size().groupby(level=1).max()\n"
   ]
  },
  {
   "cell_type": "code",
   "execution_count": 39,
   "metadata": {
    "collapsed": false
   },
   "outputs": [],
   "source": [
    "q=d1[(d1['stop-year'] == 2016) & (d1['stop-month'] >= 9)]"
   ]
  },
  {
   "cell_type": "code",
   "execution_count": 40,
   "metadata": {
    "collapsed": false
   },
   "outputs": [
    {
     "name": "stderr",
     "output_type": "stream",
     "text": [
      "/anaconda/lib/python2.7/site-packages/ipykernel/__main__.py:6: SettingWithCopyWarning: \n",
      "A value is trying to be set on a copy of a slice from a DataFrame.\n",
      "Try using .loc[row_indexer,col_indexer] = value instead\n",
      "\n",
      "See the caveats in the documentation: http://pandas.pydata.org/pandas-docs/stable/indexing.html#indexing-view-versus-copy\n",
      "/anaconda/lib/python2.7/site-packages/ipykernel/__main__.py:7: SettingWithCopyWarning: \n",
      "A value is trying to be set on a copy of a slice from a DataFrame.\n",
      "Try using .loc[row_indexer,col_indexer] = value instead\n",
      "\n",
      "See the caveats in the documentation: http://pandas.pydata.org/pandas-docs/stable/indexing.html#indexing-view-versus-copy\n"
     ]
    }
   ],
   "source": [
    "df_new = pd.read_csv('/Users/yogini/Downloads/Traffic_Violations_new.csv')\n",
    "#df.head()\n",
    "#df['Date Of Stop'].max()\n",
    "#df.columns.values.tolist()#\n",
    "d1_new=df_new.dropna()\n",
    "d1_new['stop-year']=pd.DatetimeIndex(d1_new['Date Of Stop']).year\n",
    "d1_new['stop-month']=pd.DatetimeIndex(d1_new['Date Of Stop']).month"
   ]
  },
  {
   "cell_type": "code",
   "execution_count": 115,
   "metadata": {
    "collapsed": false
   },
   "outputs": [
    {
     "name": "stderr",
     "output_type": "stream",
     "text": [
      "//anaconda/lib/python2.7/site-packages/pandas/core/generic.py:3430: SettingWithCopyWarning: \n",
      "A value is trying to be set on a copy of a slice from a DataFrame\n",
      "\n",
      "See the caveats in the documentation: http://pandas.pydata.org/pandas-docs/stable/indexing.html#indexing-view-versus-copy\n",
      "  \n"
     ]
    }
   ],
   "source": [
    "d1_new.Belts.replace(['No', 'Yes'], [0, 1], inplace=True)\n",
    "d1_new.Accident.replace(['No', 'Yes'], [0, 1], inplace=True)\n",
    "d1_new['Contributed To Accident'].replace(['No', 'Yes'], [0, 1], inplace=True)\n",
    "d1_new['Property Damage'].replace(['No', 'Yes',''], [0, 1,0], inplace=True)\n",
    "d1_new['HAZMAT'].replace(['No', 'Yes'], [0, 1], inplace=True)\n",
    "d1_new['Commercial Vehicle'].replace(['No', 'Yes'], [0, 1], inplace=True)\n",
    "d1_new['Alcohol'].replace(['No', 'Yes'], [0, 1], inplace=True)\n",
    "d1_new['Work Zone'].replace(['No', 'Yes'], [0, 1], inplace=True)\n",
    "d1_new['Personal Injury'].replace(['No', 'Yes',''], [0, 1,0], inplace=True)"
   ]
  },
  {
   "cell_type": "code",
   "execution_count": 116,
   "metadata": {
    "collapsed": false
   },
   "outputs": [
    {
     "data": {
      "text/plain": [
       "stop-year  stop-month\n",
       "2012       1              8496\n",
       "           2              9019\n",
       "           3             10216\n",
       "           4             10360\n",
       "           5             16078\n",
       "           6             12155\n",
       "           7             10921\n",
       "           8             11519\n",
       "           9             11019\n",
       "           10            12236\n",
       "           11            12534\n",
       "           12            11082\n",
       "2013       1             11469\n",
       "           2             11289\n",
       "           3             13479\n",
       "           4             12163\n",
       "           5             14717\n",
       "           6             10987\n",
       "           7             12724\n",
       "           8             13536\n",
       "           9             13891\n",
       "           10            12077\n",
       "           11            11777\n",
       "           12            12652\n",
       "2014       1             12238\n",
       "           2             12479\n",
       "           3             15520\n",
       "           4             17484\n",
       "           5             18650\n",
       "           6             14755\n",
       "                         ...  \n",
       "           8             15542\n",
       "           9             15832\n",
       "           10            17277\n",
       "           11            16618\n",
       "           12            14669\n",
       "2015       1             16323\n",
       "           2             14874\n",
       "           3             18500\n",
       "           4             18843\n",
       "           5             18402\n",
       "           6             16908\n",
       "           7             16948\n",
       "           8             18213\n",
       "           9             17211\n",
       "           10            17515\n",
       "           11            17369\n",
       "           12            15553\n",
       "2016       1             14288\n",
       "           2             17120\n",
       "           3             19651\n",
       "           4             18075\n",
       "           5             16048\n",
       "           6             17307\n",
       "           7             15199\n",
       "           8             15938\n",
       "           9             14809\n",
       "           10            15205\n",
       "           11            14808\n",
       "           12            14634\n",
       "2017       1              2848\n",
       "dtype: int64"
      ]
     },
     "execution_count": 116,
     "metadata": {},
     "output_type": "execute_result"
    }
   ],
   "source": [
    "d1_new.groupby(['stop-year','stop-month']).size()"
   ]
  },
  {
   "cell_type": "code",
   "execution_count": 117,
   "metadata": {
    "collapsed": false
   },
   "outputs": [],
   "source": [
    "q=d1_new[(d1_new['stop-year'] >= 2016)]"
   ]
  },
  {
   "cell_type": "code",
   "execution_count": 118,
   "metadata": {
    "collapsed": true
   },
   "outputs": [],
   "source": [
    "data_without2016=d1_new[(d1_new['stop-year'] < 2016)]"
   ]
  },
  {
   "cell_type": "code",
   "execution_count": 119,
   "metadata": {
    "collapsed": true
   },
   "outputs": [],
   "source": [
    "train, test = train_test_split(data_without2016, test_size = 0.2)"
   ]
  },
  {
   "cell_type": "code",
   "execution_count": 120,
   "metadata": {
    "collapsed": false
   },
   "outputs": [
    {
     "data": {
      "text/html": [
       "<div>\n",
       "<table border=\"1\" class=\"dataframe\">\n",
       "  <thead>\n",
       "    <tr style=\"text-align: right;\">\n",
       "      <th></th>\n",
       "      <th>Latitude</th>\n",
       "      <th>Longitude</th>\n",
       "      <th>Accident</th>\n",
       "      <th>Belts</th>\n",
       "      <th>Personal Injury</th>\n",
       "      <th>Property Damage</th>\n",
       "      <th>HAZMAT</th>\n",
       "      <th>Commercial Vehicle</th>\n",
       "      <th>Alcohol</th>\n",
       "      <th>Work Zone</th>\n",
       "      <th>Year</th>\n",
       "      <th>Contributed To Accident</th>\n",
       "      <th>stop-year</th>\n",
       "      <th>stop-month</th>\n",
       "    </tr>\n",
       "  </thead>\n",
       "  <tbody>\n",
       "    <tr>\n",
       "      <th>count</th>\n",
       "      <td>195930.000000</td>\n",
       "      <td>195930.000000</td>\n",
       "      <td>195930.0</td>\n",
       "      <td>195930.000000</td>\n",
       "      <td>195930.000000</td>\n",
       "      <td>195930.000000</td>\n",
       "      <td>195930.000000</td>\n",
       "      <td>195930.0</td>\n",
       "      <td>195930.000000</td>\n",
       "      <td>195930.000000</td>\n",
       "      <td>195930.000000</td>\n",
       "      <td>195930.000000</td>\n",
       "      <td>195930.000000</td>\n",
       "      <td>195930.000000</td>\n",
       "    </tr>\n",
       "    <tr>\n",
       "      <th>mean</th>\n",
       "      <td>39.083077</td>\n",
       "      <td>-77.111777</td>\n",
       "      <td>0.0</td>\n",
       "      <td>0.036666</td>\n",
       "      <td>0.012744</td>\n",
       "      <td>0.020737</td>\n",
       "      <td>0.000071</td>\n",
       "      <td>0.0</td>\n",
       "      <td>0.001383</td>\n",
       "      <td>0.000403</td>\n",
       "      <td>2006.686332</td>\n",
       "      <td>0.027030</td>\n",
       "      <td>2016.014536</td>\n",
       "      <td>6.249349</td>\n",
       "    </tr>\n",
       "    <tr>\n",
       "      <th>std</th>\n",
       "      <td>0.067504</td>\n",
       "      <td>0.095391</td>\n",
       "      <td>0.0</td>\n",
       "      <td>0.187941</td>\n",
       "      <td>0.112169</td>\n",
       "      <td>0.142503</td>\n",
       "      <td>0.008453</td>\n",
       "      <td>0.0</td>\n",
       "      <td>0.037165</td>\n",
       "      <td>0.020076</td>\n",
       "      <td>73.315817</td>\n",
       "      <td>0.162171</td>\n",
       "      <td>0.119685</td>\n",
       "      <td>3.432080</td>\n",
       "    </tr>\n",
       "    <tr>\n",
       "      <th>min</th>\n",
       "      <td>38.502245</td>\n",
       "      <td>-77.732257</td>\n",
       "      <td>0.0</td>\n",
       "      <td>0.000000</td>\n",
       "      <td>0.000000</td>\n",
       "      <td>0.000000</td>\n",
       "      <td>0.000000</td>\n",
       "      <td>0.0</td>\n",
       "      <td>0.000000</td>\n",
       "      <td>0.000000</td>\n",
       "      <td>0.000000</td>\n",
       "      <td>0.000000</td>\n",
       "      <td>2016.000000</td>\n",
       "      <td>1.000000</td>\n",
       "    </tr>\n",
       "    <tr>\n",
       "      <th>25%</th>\n",
       "      <td>39.036113</td>\n",
       "      <td>-77.193812</td>\n",
       "      <td>0.0</td>\n",
       "      <td>0.000000</td>\n",
       "      <td>0.000000</td>\n",
       "      <td>0.000000</td>\n",
       "      <td>0.000000</td>\n",
       "      <td>0.0</td>\n",
       "      <td>0.000000</td>\n",
       "      <td>0.000000</td>\n",
       "      <td>2003.000000</td>\n",
       "      <td>0.000000</td>\n",
       "      <td>2016.000000</td>\n",
       "      <td>3.000000</td>\n",
       "    </tr>\n",
       "    <tr>\n",
       "      <th>50%</th>\n",
       "      <td>39.071958</td>\n",
       "      <td>-77.093917</td>\n",
       "      <td>0.0</td>\n",
       "      <td>0.000000</td>\n",
       "      <td>0.000000</td>\n",
       "      <td>0.000000</td>\n",
       "      <td>0.000000</td>\n",
       "      <td>0.0</td>\n",
       "      <td>0.000000</td>\n",
       "      <td>0.000000</td>\n",
       "      <td>2007.000000</td>\n",
       "      <td>0.000000</td>\n",
       "      <td>2016.000000</td>\n",
       "      <td>6.000000</td>\n",
       "    </tr>\n",
       "    <tr>\n",
       "      <th>75%</th>\n",
       "      <td>39.133732</td>\n",
       "      <td>-77.046262</td>\n",
       "      <td>0.0</td>\n",
       "      <td>0.000000</td>\n",
       "      <td>0.000000</td>\n",
       "      <td>0.000000</td>\n",
       "      <td>0.000000</td>\n",
       "      <td>0.0</td>\n",
       "      <td>0.000000</td>\n",
       "      <td>0.000000</td>\n",
       "      <td>2012.000000</td>\n",
       "      <td>0.000000</td>\n",
       "      <td>2016.000000</td>\n",
       "      <td>9.000000</td>\n",
       "    </tr>\n",
       "    <tr>\n",
       "      <th>max</th>\n",
       "      <td>40.111822</td>\n",
       "      <td>-73.450178</td>\n",
       "      <td>0.0</td>\n",
       "      <td>1.000000</td>\n",
       "      <td>1.000000</td>\n",
       "      <td>1.000000</td>\n",
       "      <td>1.000000</td>\n",
       "      <td>0.0</td>\n",
       "      <td>1.000000</td>\n",
       "      <td>1.000000</td>\n",
       "      <td>9999.000000</td>\n",
       "      <td>1.000000</td>\n",
       "      <td>2017.000000</td>\n",
       "      <td>12.000000</td>\n",
       "    </tr>\n",
       "  </tbody>\n",
       "</table>\n",
       "</div>"
      ],
      "text/plain": [
       "            Latitude      Longitude  Accident          Belts  Personal Injury  \\\n",
       "count  195930.000000  195930.000000  195930.0  195930.000000    195930.000000   \n",
       "mean       39.083077     -77.111777       0.0       0.036666         0.012744   \n",
       "std         0.067504       0.095391       0.0       0.187941         0.112169   \n",
       "min        38.502245     -77.732257       0.0       0.000000         0.000000   \n",
       "25%        39.036113     -77.193812       0.0       0.000000         0.000000   \n",
       "50%        39.071958     -77.093917       0.0       0.000000         0.000000   \n",
       "75%        39.133732     -77.046262       0.0       0.000000         0.000000   \n",
       "max        40.111822     -73.450178       0.0       1.000000         1.000000   \n",
       "\n",
       "       Property Damage         HAZMAT  Commercial Vehicle        Alcohol  \\\n",
       "count    195930.000000  195930.000000            195930.0  195930.000000   \n",
       "mean          0.020737       0.000071                 0.0       0.001383   \n",
       "std           0.142503       0.008453                 0.0       0.037165   \n",
       "min           0.000000       0.000000                 0.0       0.000000   \n",
       "25%           0.000000       0.000000                 0.0       0.000000   \n",
       "50%           0.000000       0.000000                 0.0       0.000000   \n",
       "75%           0.000000       0.000000                 0.0       0.000000   \n",
       "max           1.000000       1.000000                 0.0       1.000000   \n",
       "\n",
       "           Work Zone           Year  Contributed To Accident      stop-year  \\\n",
       "count  195930.000000  195930.000000            195930.000000  195930.000000   \n",
       "mean        0.000403    2006.686332                 0.027030    2016.014536   \n",
       "std         0.020076      73.315817                 0.162171       0.119685   \n",
       "min         0.000000       0.000000                 0.000000    2016.000000   \n",
       "25%         0.000000    2003.000000                 0.000000    2016.000000   \n",
       "50%         0.000000    2007.000000                 0.000000    2016.000000   \n",
       "75%         0.000000    2012.000000                 0.000000    2016.000000   \n",
       "max         1.000000    9999.000000                 1.000000    2017.000000   \n",
       "\n",
       "          stop-month  \n",
       "count  195930.000000  \n",
       "mean        6.249349  \n",
       "std         3.432080  \n",
       "min         1.000000  \n",
       "25%         3.000000  \n",
       "50%         6.000000  \n",
       "75%         9.000000  \n",
       "max        12.000000  "
      ]
     },
     "execution_count": 120,
     "metadata": {},
     "output_type": "execute_result"
    }
   ],
   "source": [
    "q.describe()"
   ]
  },
  {
   "cell_type": "code",
   "execution_count": 121,
   "metadata": {
    "collapsed": false
   },
   "outputs": [
    {
     "data": {
      "text/html": [
       "<div>\n",
       "<table border=\"1\" class=\"dataframe\">\n",
       "  <thead>\n",
       "    <tr style=\"text-align: right;\">\n",
       "      <th></th>\n",
       "      <th>Latitude</th>\n",
       "      <th>Longitude</th>\n",
       "      <th>Accident</th>\n",
       "      <th>Belts</th>\n",
       "      <th>Personal Injury</th>\n",
       "      <th>Property Damage</th>\n",
       "      <th>HAZMAT</th>\n",
       "      <th>Commercial Vehicle</th>\n",
       "      <th>Alcohol</th>\n",
       "      <th>Work Zone</th>\n",
       "      <th>Year</th>\n",
       "      <th>Contributed To Accident</th>\n",
       "      <th>stop-year</th>\n",
       "      <th>stop-month</th>\n",
       "    </tr>\n",
       "  </thead>\n",
       "  <tbody>\n",
       "    <tr>\n",
       "      <th>count</th>\n",
       "      <td>544594.000000</td>\n",
       "      <td>544594.000000</td>\n",
       "      <td>544594.0</td>\n",
       "      <td>544594.000000</td>\n",
       "      <td>544594.000000</td>\n",
       "      <td>544594.000000</td>\n",
       "      <td>544594.000000</td>\n",
       "      <td>544594.000000</td>\n",
       "      <td>544594.000000</td>\n",
       "      <td>544594.000000</td>\n",
       "      <td>544594.000000</td>\n",
       "      <td>544594.000000</td>\n",
       "      <td>544594.000000</td>\n",
       "      <td>544594.000000</td>\n",
       "    </tr>\n",
       "    <tr>\n",
       "      <th>mean</th>\n",
       "      <td>39.067466</td>\n",
       "      <td>-77.097080</td>\n",
       "      <td>0.0</td>\n",
       "      <td>0.037597</td>\n",
       "      <td>0.011572</td>\n",
       "      <td>0.017453</td>\n",
       "      <td>0.000110</td>\n",
       "      <td>0.008129</td>\n",
       "      <td>0.002044</td>\n",
       "      <td>0.000149</td>\n",
       "      <td>2004.064117</td>\n",
       "      <td>0.022090</td>\n",
       "      <td>2013.682826</td>\n",
       "      <td>6.600012</td>\n",
       "    </tr>\n",
       "    <tr>\n",
       "      <th>std</th>\n",
       "      <td>1.449207</td>\n",
       "      <td>1.290649</td>\n",
       "      <td>0.0</td>\n",
       "      <td>0.190219</td>\n",
       "      <td>0.106949</td>\n",
       "      <td>0.130953</td>\n",
       "      <td>0.010496</td>\n",
       "      <td>0.089794</td>\n",
       "      <td>0.045161</td>\n",
       "      <td>0.012195</td>\n",
       "      <td>82.864441</td>\n",
       "      <td>0.146976</td>\n",
       "      <td>1.105651</td>\n",
       "      <td>3.365427</td>\n",
       "    </tr>\n",
       "    <tr>\n",
       "      <th>min</th>\n",
       "      <td>-94.610988</td>\n",
       "      <td>-77.732495</td>\n",
       "      <td>0.0</td>\n",
       "      <td>0.000000</td>\n",
       "      <td>0.000000</td>\n",
       "      <td>0.000000</td>\n",
       "      <td>0.000000</td>\n",
       "      <td>0.000000</td>\n",
       "      <td>0.000000</td>\n",
       "      <td>0.000000</td>\n",
       "      <td>0.000000</td>\n",
       "      <td>0.000000</td>\n",
       "      <td>2012.000000</td>\n",
       "      <td>1.000000</td>\n",
       "    </tr>\n",
       "    <tr>\n",
       "      <th>25%</th>\n",
       "      <td>39.030120</td>\n",
       "      <td>-77.195399</td>\n",
       "      <td>0.0</td>\n",
       "      <td>0.000000</td>\n",
       "      <td>0.000000</td>\n",
       "      <td>0.000000</td>\n",
       "      <td>0.000000</td>\n",
       "      <td>0.000000</td>\n",
       "      <td>0.000000</td>\n",
       "      <td>0.000000</td>\n",
       "      <td>2001.000000</td>\n",
       "      <td>0.000000</td>\n",
       "      <td>2013.000000</td>\n",
       "      <td>4.000000</td>\n",
       "    </tr>\n",
       "    <tr>\n",
       "      <th>50%</th>\n",
       "      <td>39.074346</td>\n",
       "      <td>-77.093890</td>\n",
       "      <td>0.0</td>\n",
       "      <td>0.000000</td>\n",
       "      <td>0.000000</td>\n",
       "      <td>0.000000</td>\n",
       "      <td>0.000000</td>\n",
       "      <td>0.000000</td>\n",
       "      <td>0.000000</td>\n",
       "      <td>0.000000</td>\n",
       "      <td>2005.000000</td>\n",
       "      <td>0.000000</td>\n",
       "      <td>2014.000000</td>\n",
       "      <td>7.000000</td>\n",
       "    </tr>\n",
       "    <tr>\n",
       "      <th>75%</th>\n",
       "      <td>39.139488</td>\n",
       "      <td>-77.042788</td>\n",
       "      <td>0.0</td>\n",
       "      <td>0.000000</td>\n",
       "      <td>0.000000</td>\n",
       "      <td>0.000000</td>\n",
       "      <td>0.000000</td>\n",
       "      <td>0.000000</td>\n",
       "      <td>0.000000</td>\n",
       "      <td>0.000000</td>\n",
       "      <td>2009.000000</td>\n",
       "      <td>0.000000</td>\n",
       "      <td>2015.000000</td>\n",
       "      <td>10.000000</td>\n",
       "    </tr>\n",
       "    <tr>\n",
       "      <th>max</th>\n",
       "      <td>39.704022</td>\n",
       "      <td>41.543160</td>\n",
       "      <td>0.0</td>\n",
       "      <td>1.000000</td>\n",
       "      <td>1.000000</td>\n",
       "      <td>1.000000</td>\n",
       "      <td>1.000000</td>\n",
       "      <td>1.000000</td>\n",
       "      <td>1.000000</td>\n",
       "      <td>1.000000</td>\n",
       "      <td>9999.000000</td>\n",
       "      <td>1.000000</td>\n",
       "      <td>2015.000000</td>\n",
       "      <td>12.000000</td>\n",
       "    </tr>\n",
       "  </tbody>\n",
       "</table>\n",
       "</div>"
      ],
      "text/plain": [
       "            Latitude      Longitude  Accident          Belts  Personal Injury  \\\n",
       "count  544594.000000  544594.000000  544594.0  544594.000000    544594.000000   \n",
       "mean       39.067466     -77.097080       0.0       0.037597         0.011572   \n",
       "std         1.449207       1.290649       0.0       0.190219         0.106949   \n",
       "min       -94.610988     -77.732495       0.0       0.000000         0.000000   \n",
       "25%        39.030120     -77.195399       0.0       0.000000         0.000000   \n",
       "50%        39.074346     -77.093890       0.0       0.000000         0.000000   \n",
       "75%        39.139488     -77.042788       0.0       0.000000         0.000000   \n",
       "max        39.704022      41.543160       0.0       1.000000         1.000000   \n",
       "\n",
       "       Property Damage         HAZMAT  Commercial Vehicle        Alcohol  \\\n",
       "count    544594.000000  544594.000000       544594.000000  544594.000000   \n",
       "mean          0.017453       0.000110            0.008129       0.002044   \n",
       "std           0.130953       0.010496            0.089794       0.045161   \n",
       "min           0.000000       0.000000            0.000000       0.000000   \n",
       "25%           0.000000       0.000000            0.000000       0.000000   \n",
       "50%           0.000000       0.000000            0.000000       0.000000   \n",
       "75%           0.000000       0.000000            0.000000       0.000000   \n",
       "max           1.000000       1.000000            1.000000       1.000000   \n",
       "\n",
       "           Work Zone           Year  Contributed To Accident      stop-year  \\\n",
       "count  544594.000000  544594.000000            544594.000000  544594.000000   \n",
       "mean        0.000149    2004.064117                 0.022090    2013.682826   \n",
       "std         0.012195      82.864441                 0.146976       1.105651   \n",
       "min         0.000000       0.000000                 0.000000    2012.000000   \n",
       "25%         0.000000    2001.000000                 0.000000    2013.000000   \n",
       "50%         0.000000    2005.000000                 0.000000    2014.000000   \n",
       "75%         0.000000    2009.000000                 0.000000    2015.000000   \n",
       "max         1.000000    9999.000000                 1.000000    2015.000000   \n",
       "\n",
       "          stop-month  \n",
       "count  544594.000000  \n",
       "mean        6.600012  \n",
       "std         3.365427  \n",
       "min         1.000000  \n",
       "25%         4.000000  \n",
       "50%         7.000000  \n",
       "75%        10.000000  \n",
       "max        12.000000  "
      ]
     },
     "execution_count": 121,
     "metadata": {},
     "output_type": "execute_result"
    }
   ],
   "source": [
    "train.describe()"
   ]
  },
  {
   "cell_type": "code",
   "execution_count": 152,
   "metadata": {
    "collapsed": true
   },
   "outputs": [],
   "source": [
    "q.to_csv('/Users/yogini/Downloads/Traffic_Violations_test_timeseries.csv')"
   ]
  },
  {
   "cell_type": "code",
   "execution_count": 153,
   "metadata": {
    "collapsed": true
   },
   "outputs": [],
   "source": [
    "data_without2016.to_csv('/Users/yogini/Downloads/Traffic_Violations_train_timeseries.csv')"
   ]
  },
  {
   "cell_type": "code",
   "execution_count": 122,
   "metadata": {
    "collapsed": true
   },
   "outputs": [],
   "source": [
    "df_new.to_csv('/Users/yogini/Downloads/Traffic_Violations_new_2016.csv')"
   ]
  },
  {
   "cell_type": "code",
   "execution_count": 123,
   "metadata": {
    "collapsed": true
   },
   "outputs": [],
   "source": [
    "train.to_csv('/Users/yogini/Downloads/Traffic_Violations_train.csv')"
   ]
  },
  {
   "cell_type": "code",
   "execution_count": 124,
   "metadata": {
    "collapsed": true
   },
   "outputs": [],
   "source": [
    "test.to_csv('/Users/yogini/Downloads/Traffic_Violations_test.csv')"
   ]
  },
  {
   "cell_type": "markdown",
   "metadata": {},
   "source": [
    "# Data Analysis\n",
    "All the Data is split beween 3 areas - 2016 & above for time series. Train for performing validations and analysis. And Test for verifying thr model. Analysis start from the below cell"
   ]
  },
  {
   "cell_type": "code",
   "execution_count": 125,
   "metadata": {
    "collapsed": false
   },
   "outputs": [
    {
     "data": {
      "text/html": [
       "<div>\n",
       "<table border=\"1\" class=\"dataframe\">\n",
       "  <thead>\n",
       "    <tr style=\"text-align: right;\">\n",
       "      <th></th>\n",
       "      <th>Latitude</th>\n",
       "      <th>Longitude</th>\n",
       "      <th>Accident</th>\n",
       "      <th>Belts</th>\n",
       "      <th>Personal Injury</th>\n",
       "      <th>Property Damage</th>\n",
       "      <th>HAZMAT</th>\n",
       "      <th>Commercial Vehicle</th>\n",
       "      <th>Alcohol</th>\n",
       "      <th>Work Zone</th>\n",
       "      <th>Year</th>\n",
       "      <th>Contributed To Accident</th>\n",
       "      <th>stop-year</th>\n",
       "      <th>stop-month</th>\n",
       "    </tr>\n",
       "  </thead>\n",
       "  <tbody>\n",
       "    <tr>\n",
       "      <th>count</th>\n",
       "      <td>544594.000000</td>\n",
       "      <td>544594.000000</td>\n",
       "      <td>544594.0</td>\n",
       "      <td>544594.000000</td>\n",
       "      <td>544594.000000</td>\n",
       "      <td>544594.000000</td>\n",
       "      <td>544594.000000</td>\n",
       "      <td>544594.000000</td>\n",
       "      <td>544594.000000</td>\n",
       "      <td>544594.000000</td>\n",
       "      <td>544594.000000</td>\n",
       "      <td>544594.000000</td>\n",
       "      <td>544594.000000</td>\n",
       "      <td>544594.000000</td>\n",
       "    </tr>\n",
       "    <tr>\n",
       "      <th>mean</th>\n",
       "      <td>39.067466</td>\n",
       "      <td>-77.097080</td>\n",
       "      <td>0.0</td>\n",
       "      <td>0.037597</td>\n",
       "      <td>0.011572</td>\n",
       "      <td>0.017453</td>\n",
       "      <td>0.000110</td>\n",
       "      <td>0.008129</td>\n",
       "      <td>0.002044</td>\n",
       "      <td>0.000149</td>\n",
       "      <td>2004.064117</td>\n",
       "      <td>0.022090</td>\n",
       "      <td>2013.682826</td>\n",
       "      <td>6.600012</td>\n",
       "    </tr>\n",
       "    <tr>\n",
       "      <th>std</th>\n",
       "      <td>1.449207</td>\n",
       "      <td>1.290649</td>\n",
       "      <td>0.0</td>\n",
       "      <td>0.190219</td>\n",
       "      <td>0.106949</td>\n",
       "      <td>0.130953</td>\n",
       "      <td>0.010496</td>\n",
       "      <td>0.089794</td>\n",
       "      <td>0.045161</td>\n",
       "      <td>0.012195</td>\n",
       "      <td>82.864441</td>\n",
       "      <td>0.146976</td>\n",
       "      <td>1.105651</td>\n",
       "      <td>3.365427</td>\n",
       "    </tr>\n",
       "    <tr>\n",
       "      <th>min</th>\n",
       "      <td>-94.610988</td>\n",
       "      <td>-77.732495</td>\n",
       "      <td>0.0</td>\n",
       "      <td>0.000000</td>\n",
       "      <td>0.000000</td>\n",
       "      <td>0.000000</td>\n",
       "      <td>0.000000</td>\n",
       "      <td>0.000000</td>\n",
       "      <td>0.000000</td>\n",
       "      <td>0.000000</td>\n",
       "      <td>0.000000</td>\n",
       "      <td>0.000000</td>\n",
       "      <td>2012.000000</td>\n",
       "      <td>1.000000</td>\n",
       "    </tr>\n",
       "    <tr>\n",
       "      <th>25%</th>\n",
       "      <td>39.030120</td>\n",
       "      <td>-77.195399</td>\n",
       "      <td>0.0</td>\n",
       "      <td>0.000000</td>\n",
       "      <td>0.000000</td>\n",
       "      <td>0.000000</td>\n",
       "      <td>0.000000</td>\n",
       "      <td>0.000000</td>\n",
       "      <td>0.000000</td>\n",
       "      <td>0.000000</td>\n",
       "      <td>2001.000000</td>\n",
       "      <td>0.000000</td>\n",
       "      <td>2013.000000</td>\n",
       "      <td>4.000000</td>\n",
       "    </tr>\n",
       "    <tr>\n",
       "      <th>50%</th>\n",
       "      <td>39.074346</td>\n",
       "      <td>-77.093890</td>\n",
       "      <td>0.0</td>\n",
       "      <td>0.000000</td>\n",
       "      <td>0.000000</td>\n",
       "      <td>0.000000</td>\n",
       "      <td>0.000000</td>\n",
       "      <td>0.000000</td>\n",
       "      <td>0.000000</td>\n",
       "      <td>0.000000</td>\n",
       "      <td>2005.000000</td>\n",
       "      <td>0.000000</td>\n",
       "      <td>2014.000000</td>\n",
       "      <td>7.000000</td>\n",
       "    </tr>\n",
       "    <tr>\n",
       "      <th>75%</th>\n",
       "      <td>39.139488</td>\n",
       "      <td>-77.042788</td>\n",
       "      <td>0.0</td>\n",
       "      <td>0.000000</td>\n",
       "      <td>0.000000</td>\n",
       "      <td>0.000000</td>\n",
       "      <td>0.000000</td>\n",
       "      <td>0.000000</td>\n",
       "      <td>0.000000</td>\n",
       "      <td>0.000000</td>\n",
       "      <td>2009.000000</td>\n",
       "      <td>0.000000</td>\n",
       "      <td>2015.000000</td>\n",
       "      <td>10.000000</td>\n",
       "    </tr>\n",
       "    <tr>\n",
       "      <th>max</th>\n",
       "      <td>39.704022</td>\n",
       "      <td>41.543160</td>\n",
       "      <td>0.0</td>\n",
       "      <td>1.000000</td>\n",
       "      <td>1.000000</td>\n",
       "      <td>1.000000</td>\n",
       "      <td>1.000000</td>\n",
       "      <td>1.000000</td>\n",
       "      <td>1.000000</td>\n",
       "      <td>1.000000</td>\n",
       "      <td>9999.000000</td>\n",
       "      <td>1.000000</td>\n",
       "      <td>2015.000000</td>\n",
       "      <td>12.000000</td>\n",
       "    </tr>\n",
       "  </tbody>\n",
       "</table>\n",
       "</div>"
      ],
      "text/plain": [
       "            Latitude      Longitude  Accident          Belts  Personal Injury  \\\n",
       "count  544594.000000  544594.000000  544594.0  544594.000000    544594.000000   \n",
       "mean       39.067466     -77.097080       0.0       0.037597         0.011572   \n",
       "std         1.449207       1.290649       0.0       0.190219         0.106949   \n",
       "min       -94.610988     -77.732495       0.0       0.000000         0.000000   \n",
       "25%        39.030120     -77.195399       0.0       0.000000         0.000000   \n",
       "50%        39.074346     -77.093890       0.0       0.000000         0.000000   \n",
       "75%        39.139488     -77.042788       0.0       0.000000         0.000000   \n",
       "max        39.704022      41.543160       0.0       1.000000         1.000000   \n",
       "\n",
       "       Property Damage         HAZMAT  Commercial Vehicle        Alcohol  \\\n",
       "count    544594.000000  544594.000000       544594.000000  544594.000000   \n",
       "mean          0.017453       0.000110            0.008129       0.002044   \n",
       "std           0.130953       0.010496            0.089794       0.045161   \n",
       "min           0.000000       0.000000            0.000000       0.000000   \n",
       "25%           0.000000       0.000000            0.000000       0.000000   \n",
       "50%           0.000000       0.000000            0.000000       0.000000   \n",
       "75%           0.000000       0.000000            0.000000       0.000000   \n",
       "max           1.000000       1.000000            1.000000       1.000000   \n",
       "\n",
       "           Work Zone           Year  Contributed To Accident      stop-year  \\\n",
       "count  544594.000000  544594.000000            544594.000000  544594.000000   \n",
       "mean        0.000149    2004.064117                 0.022090    2013.682826   \n",
       "std         0.012195      82.864441                 0.146976       1.105651   \n",
       "min         0.000000       0.000000                 0.000000    2012.000000   \n",
       "25%         0.000000    2001.000000                 0.000000    2013.000000   \n",
       "50%         0.000000    2005.000000                 0.000000    2014.000000   \n",
       "75%         0.000000    2009.000000                 0.000000    2015.000000   \n",
       "max         1.000000    9999.000000                 1.000000    2015.000000   \n",
       "\n",
       "          stop-month  \n",
       "count  544594.000000  \n",
       "mean        6.600012  \n",
       "std         3.365427  \n",
       "min         1.000000  \n",
       "25%         4.000000  \n",
       "50%         7.000000  \n",
       "75%        10.000000  \n",
       "max        12.000000  "
      ]
     },
     "execution_count": 125,
     "metadata": {},
     "output_type": "execute_result"
    }
   ],
   "source": [
    "train.describe()"
   ]
  },
  {
   "cell_type": "code",
   "execution_count": 126,
   "metadata": {
    "collapsed": false
   },
   "outputs": [
    {
     "data": {
      "text/html": [
       "<div>\n",
       "<table border=\"1\" class=\"dataframe\">\n",
       "  <thead>\n",
       "    <tr style=\"text-align: right;\">\n",
       "      <th>Property Damage</th>\n",
       "      <th>0</th>\n",
       "      <th>1</th>\n",
       "    </tr>\n",
       "    <tr>\n",
       "      <th>Belts</th>\n",
       "      <th></th>\n",
       "      <th></th>\n",
       "    </tr>\n",
       "  </thead>\n",
       "  <tbody>\n",
       "    <tr>\n",
       "      <th>0</th>\n",
       "      <td>515852</td>\n",
       "      <td>8267</td>\n",
       "    </tr>\n",
       "    <tr>\n",
       "      <th>1</th>\n",
       "      <td>19237</td>\n",
       "      <td>1238</td>\n",
       "    </tr>\n",
       "  </tbody>\n",
       "</table>\n",
       "</div>"
      ],
      "text/plain": [
       "Property Damage       0     1\n",
       "Belts                        \n",
       "0                515852  8267\n",
       "1                 19237  1238"
      ]
     },
     "execution_count": 126,
     "metadata": {},
     "output_type": "execute_result"
    }
   ],
   "source": [
    "pd.crosstab(train['Belts'],train['Property Damage'])"
   ]
  },
  {
   "cell_type": "code",
   "execution_count": 127,
   "metadata": {
    "collapsed": false
   },
   "outputs": [
    {
     "data": {
      "text/html": [
       "<div>\n",
       "<table border=\"1\" class=\"dataframe\">\n",
       "  <thead>\n",
       "    <tr style=\"text-align: right;\">\n",
       "      <th>Property Damage</th>\n",
       "      <th>0</th>\n",
       "      <th>1</th>\n",
       "    </tr>\n",
       "    <tr>\n",
       "      <th>Alcohol</th>\n",
       "      <th></th>\n",
       "      <th></th>\n",
       "    </tr>\n",
       "  </thead>\n",
       "  <tbody>\n",
       "    <tr>\n",
       "      <th>0</th>\n",
       "      <td>534044</td>\n",
       "      <td>9437</td>\n",
       "    </tr>\n",
       "    <tr>\n",
       "      <th>1</th>\n",
       "      <td>1045</td>\n",
       "      <td>68</td>\n",
       "    </tr>\n",
       "  </tbody>\n",
       "</table>\n",
       "</div>"
      ],
      "text/plain": [
       "Property Damage       0     1\n",
       "Alcohol                      \n",
       "0                534044  9437\n",
       "1                  1045    68"
      ]
     },
     "execution_count": 127,
     "metadata": {},
     "output_type": "execute_result"
    }
   ],
   "source": [
    "pd.crosstab(train['Alcohol'],train['Property Damage'])\n"
   ]
  },
  {
   "cell_type": "code",
   "execution_count": 128,
   "metadata": {
    "collapsed": false
   },
   "outputs": [
    {
     "data": {
      "text/html": [
       "<div>\n",
       "<table border=\"1\" class=\"dataframe\">\n",
       "  <thead>\n",
       "    <tr style=\"text-align: right;\">\n",
       "      <th>Property Damage</th>\n",
       "      <th>0</th>\n",
       "      <th>1</th>\n",
       "    </tr>\n",
       "    <tr>\n",
       "      <th>Personal Injury</th>\n",
       "      <th></th>\n",
       "      <th></th>\n",
       "    </tr>\n",
       "  </thead>\n",
       "  <tbody>\n",
       "    <tr>\n",
       "      <th>0</th>\n",
       "      <td>528787</td>\n",
       "      <td>9505</td>\n",
       "    </tr>\n",
       "    <tr>\n",
       "      <th>1</th>\n",
       "      <td>6302</td>\n",
       "      <td>0</td>\n",
       "    </tr>\n",
       "  </tbody>\n",
       "</table>\n",
       "</div>"
      ],
      "text/plain": [
       "Property Damage       0     1\n",
       "Personal Injury              \n",
       "0                528787  9505\n",
       "1                  6302     0"
      ]
     },
     "execution_count": 128,
     "metadata": {},
     "output_type": "execute_result"
    }
   ],
   "source": [
    "pd.crosstab(train['Personal Injury'],train['Property Damage'])\n",
    "#t.plot(kind='bar', stacked=True, color=['red','blue'], grid=False)"
   ]
  },
  {
   "cell_type": "code",
   "execution_count": 129,
   "metadata": {
    "collapsed": false
   },
   "outputs": [
    {
     "data": {
      "text/html": [
       "<div>\n",
       "<table border=\"1\" class=\"dataframe\">\n",
       "  <thead>\n",
       "    <tr style=\"text-align: right;\">\n",
       "      <th>Property Damage</th>\n",
       "      <th>0</th>\n",
       "      <th>1</th>\n",
       "    </tr>\n",
       "    <tr>\n",
       "      <th>Fatal</th>\n",
       "      <th></th>\n",
       "      <th></th>\n",
       "    </tr>\n",
       "  </thead>\n",
       "  <tbody>\n",
       "    <tr>\n",
       "      <th>No</th>\n",
       "      <td>534975</td>\n",
       "      <td>9505</td>\n",
       "    </tr>\n",
       "    <tr>\n",
       "      <th>Yes</th>\n",
       "      <td>114</td>\n",
       "      <td>0</td>\n",
       "    </tr>\n",
       "  </tbody>\n",
       "</table>\n",
       "</div>"
      ],
      "text/plain": [
       "Property Damage       0     1\n",
       "Fatal                        \n",
       "No               534975  9505\n",
       "Yes                 114     0"
      ]
     },
     "execution_count": 129,
     "metadata": {},
     "output_type": "execute_result"
    }
   ],
   "source": [
    "pd.crosstab(train['Fatal'],train['Property Damage'])\n"
   ]
  },
  {
   "cell_type": "code",
   "execution_count": 130,
   "metadata": {
    "collapsed": false
   },
   "outputs": [
    {
     "data": {
      "text/html": [
       "<div>\n",
       "<table border=\"1\" class=\"dataframe\">\n",
       "  <thead>\n",
       "    <tr style=\"text-align: right;\">\n",
       "      <th>Property Damage</th>\n",
       "      <th>0</th>\n",
       "      <th>1</th>\n",
       "    </tr>\n",
       "    <tr>\n",
       "      <th>HAZMAT</th>\n",
       "      <th></th>\n",
       "      <th></th>\n",
       "    </tr>\n",
       "  </thead>\n",
       "  <tbody>\n",
       "    <tr>\n",
       "      <th>0</th>\n",
       "      <td>535031</td>\n",
       "      <td>9503</td>\n",
       "    </tr>\n",
       "    <tr>\n",
       "      <th>1</th>\n",
       "      <td>58</td>\n",
       "      <td>2</td>\n",
       "    </tr>\n",
       "  </tbody>\n",
       "</table>\n",
       "</div>"
      ],
      "text/plain": [
       "Property Damage       0     1\n",
       "HAZMAT                       \n",
       "0                535031  9503\n",
       "1                    58     2"
      ]
     },
     "execution_count": 130,
     "metadata": {},
     "output_type": "execute_result"
    }
   ],
   "source": [
    "pd.crosstab(train['HAZMAT'],train['Property Damage'])\n"
   ]
  },
  {
   "cell_type": "markdown",
   "metadata": {},
   "source": [
    "Personal injury, Fataly and Vehicle type do not seem to have any relation with Property Damage"
   ]
  },
  {
   "cell_type": "code",
   "execution_count": 131,
   "metadata": {
    "collapsed": false
   },
   "outputs": [
    {
     "data": {
      "text/html": [
       "<div>\n",
       "<table border=\"1\" class=\"dataframe\">\n",
       "  <thead>\n",
       "    <tr style=\"text-align: right;\">\n",
       "      <th>Property Damage</th>\n",
       "      <th>0</th>\n",
       "      <th>1</th>\n",
       "    </tr>\n",
       "    <tr>\n",
       "      <th>VehicleType</th>\n",
       "      <th></th>\n",
       "      <th></th>\n",
       "    </tr>\n",
       "  </thead>\n",
       "  <tbody>\n",
       "    <tr>\n",
       "      <th>01 - Motorcycle</th>\n",
       "      <td>5412</td>\n",
       "      <td>131</td>\n",
       "    </tr>\n",
       "    <tr>\n",
       "      <th>02 - Automobile</th>\n",
       "      <td>463793</td>\n",
       "      <td>8310</td>\n",
       "    </tr>\n",
       "    <tr>\n",
       "      <th>03 - Station Wagon</th>\n",
       "      <td>10211</td>\n",
       "      <td>103</td>\n",
       "    </tr>\n",
       "    <tr>\n",
       "      <th>04 - Limousine</th>\n",
       "      <td>390</td>\n",
       "      <td>8</td>\n",
       "    </tr>\n",
       "    <tr>\n",
       "      <th>05 - Light Duty Truck</th>\n",
       "      <td>33836</td>\n",
       "      <td>496</td>\n",
       "    </tr>\n",
       "    <tr>\n",
       "      <th>06 - Heavy Duty Truck</th>\n",
       "      <td>5503</td>\n",
       "      <td>102</td>\n",
       "    </tr>\n",
       "    <tr>\n",
       "      <th>07 - Truck/Road Tractor</th>\n",
       "      <td>564</td>\n",
       "      <td>20</td>\n",
       "    </tr>\n",
       "    <tr>\n",
       "      <th>08 - Recreational Vehicle</th>\n",
       "      <td>2197</td>\n",
       "      <td>32</td>\n",
       "    </tr>\n",
       "    <tr>\n",
       "      <th>09 - Farm Vehicle</th>\n",
       "      <td>43</td>\n",
       "      <td>0</td>\n",
       "    </tr>\n",
       "    <tr>\n",
       "      <th>10 - Transit Bus</th>\n",
       "      <td>174</td>\n",
       "      <td>39</td>\n",
       "    </tr>\n",
       "    <tr>\n",
       "      <th>11 - Cross Country Bus</th>\n",
       "      <td>25</td>\n",
       "      <td>3</td>\n",
       "    </tr>\n",
       "    <tr>\n",
       "      <th>12 - School Bus</th>\n",
       "      <td>67</td>\n",
       "      <td>22</td>\n",
       "    </tr>\n",
       "    <tr>\n",
       "      <th>13 - Ambulance</th>\n",
       "      <td>1</td>\n",
       "      <td>0</td>\n",
       "    </tr>\n",
       "    <tr>\n",
       "      <th>13 - Ambulance(Emerg)</th>\n",
       "      <td>4</td>\n",
       "      <td>0</td>\n",
       "    </tr>\n",
       "    <tr>\n",
       "      <th>14 - Ambulance(Non-Emerg)</th>\n",
       "      <td>8</td>\n",
       "      <td>0</td>\n",
       "    </tr>\n",
       "    <tr>\n",
       "      <th>15 - Fire Vehicle</th>\n",
       "      <td>2</td>\n",
       "      <td>0</td>\n",
       "    </tr>\n",
       "    <tr>\n",
       "      <th>15 - Fire(Emerg)</th>\n",
       "      <td>3</td>\n",
       "      <td>0</td>\n",
       "    </tr>\n",
       "    <tr>\n",
       "      <th>16 - Fire(Non-Emerg)</th>\n",
       "      <td>3</td>\n",
       "      <td>0</td>\n",
       "    </tr>\n",
       "    <tr>\n",
       "      <th>17 - Police(Emerg)</th>\n",
       "      <td>3</td>\n",
       "      <td>0</td>\n",
       "    </tr>\n",
       "    <tr>\n",
       "      <th>18 - Police Vehicle</th>\n",
       "      <td>4</td>\n",
       "      <td>0</td>\n",
       "    </tr>\n",
       "    <tr>\n",
       "      <th>18 - Police(Non-Emerg)</th>\n",
       "      <td>5</td>\n",
       "      <td>0</td>\n",
       "    </tr>\n",
       "    <tr>\n",
       "      <th>19 - Moped</th>\n",
       "      <td>687</td>\n",
       "      <td>21</td>\n",
       "    </tr>\n",
       "    <tr>\n",
       "      <th>20 - Commercial Rig</th>\n",
       "      <td>277</td>\n",
       "      <td>5</td>\n",
       "    </tr>\n",
       "    <tr>\n",
       "      <th>21 - Tandem Trailer</th>\n",
       "      <td>23</td>\n",
       "      <td>0</td>\n",
       "    </tr>\n",
       "    <tr>\n",
       "      <th>22 - Mobile Home</th>\n",
       "      <td>15</td>\n",
       "      <td>1</td>\n",
       "    </tr>\n",
       "    <tr>\n",
       "      <th>23 - Travel/Home Trailer</th>\n",
       "      <td>10</td>\n",
       "      <td>3</td>\n",
       "    </tr>\n",
       "    <tr>\n",
       "      <th>24 - Camper</th>\n",
       "      <td>4</td>\n",
       "      <td>0</td>\n",
       "    </tr>\n",
       "    <tr>\n",
       "      <th>25 - Utility Trailer</th>\n",
       "      <td>288</td>\n",
       "      <td>0</td>\n",
       "    </tr>\n",
       "    <tr>\n",
       "      <th>26 - Boat Trailer</th>\n",
       "      <td>24</td>\n",
       "      <td>0</td>\n",
       "    </tr>\n",
       "    <tr>\n",
       "      <th>27 - Farm Equipment</th>\n",
       "      <td>60</td>\n",
       "      <td>4</td>\n",
       "    </tr>\n",
       "    <tr>\n",
       "      <th>28 - Other</th>\n",
       "      <td>11295</td>\n",
       "      <td>202</td>\n",
       "    </tr>\n",
       "    <tr>\n",
       "      <th>29 - Unknown</th>\n",
       "      <td>158</td>\n",
       "      <td>3</td>\n",
       "    </tr>\n",
       "  </tbody>\n",
       "</table>\n",
       "</div>"
      ],
      "text/plain": [
       "Property Damage                 0     1\n",
       "VehicleType                            \n",
       "01 - Motorcycle              5412   131\n",
       "02 - Automobile            463793  8310\n",
       "03 - Station Wagon          10211   103\n",
       "04 - Limousine                390     8\n",
       "05 - Light Duty Truck       33836   496\n",
       "06 - Heavy Duty Truck        5503   102\n",
       "07 - Truck/Road Tractor       564    20\n",
       "08 - Recreational Vehicle    2197    32\n",
       "09 - Farm Vehicle              43     0\n",
       "10 - Transit Bus              174    39\n",
       "11 - Cross Country Bus         25     3\n",
       "12 - School Bus                67    22\n",
       "13 - Ambulance                  1     0\n",
       "13 - Ambulance(Emerg)           4     0\n",
       "14 - Ambulance(Non-Emerg)       8     0\n",
       "15 - Fire Vehicle               2     0\n",
       "15 - Fire(Emerg)                3     0\n",
       "16 - Fire(Non-Emerg)            3     0\n",
       "17 - Police(Emerg)              3     0\n",
       "18 - Police Vehicle             4     0\n",
       "18 - Police(Non-Emerg)          5     0\n",
       "19 - Moped                    687    21\n",
       "20 - Commercial Rig           277     5\n",
       "21 - Tandem Trailer            23     0\n",
       "22 - Mobile Home               15     1\n",
       "23 - Travel/Home Trailer       10     3\n",
       "24 - Camper                     4     0\n",
       "25 - Utility Trailer          288     0\n",
       "26 - Boat Trailer              24     0\n",
       "27 - Farm Equipment            60     4\n",
       "28 - Other                  11295   202\n",
       "29 - Unknown                  158     3"
      ]
     },
     "execution_count": 131,
     "metadata": {},
     "output_type": "execute_result"
    }
   ],
   "source": [
    "pd.crosstab(train['VehicleType'],train['Property Damage'])"
   ]
  },
  {
   "cell_type": "code",
   "execution_count": 132,
   "metadata": {
    "collapsed": false
   },
   "outputs": [
    {
     "data": {
      "text/html": [
       "<div>\n",
       "<table border=\"1\" class=\"dataframe\">\n",
       "  <thead>\n",
       "    <tr style=\"text-align: right;\">\n",
       "      <th>Property Damage</th>\n",
       "      <th>0</th>\n",
       "      <th>1</th>\n",
       "    </tr>\n",
       "    <tr>\n",
       "      <th>Race</th>\n",
       "      <th></th>\n",
       "      <th></th>\n",
       "    </tr>\n",
       "  </thead>\n",
       "  <tbody>\n",
       "    <tr>\n",
       "      <th>ASIAN</th>\n",
       "      <td>31694</td>\n",
       "      <td>527</td>\n",
       "    </tr>\n",
       "    <tr>\n",
       "      <th>BLACK</th>\n",
       "      <td>165094</td>\n",
       "      <td>2299</td>\n",
       "    </tr>\n",
       "    <tr>\n",
       "      <th>HISPANIC</th>\n",
       "      <td>103590</td>\n",
       "      <td>2751</td>\n",
       "    </tr>\n",
       "    <tr>\n",
       "      <th>NATIVE AMERICAN</th>\n",
       "      <td>1345</td>\n",
       "      <td>25</td>\n",
       "    </tr>\n",
       "    <tr>\n",
       "      <th>OTHER</th>\n",
       "      <td>27568</td>\n",
       "      <td>370</td>\n",
       "    </tr>\n",
       "    <tr>\n",
       "      <th>WHITE</th>\n",
       "      <td>205798</td>\n",
       "      <td>3533</td>\n",
       "    </tr>\n",
       "  </tbody>\n",
       "</table>\n",
       "</div>"
      ],
      "text/plain": [
       "Property Damage       0     1\n",
       "Race                         \n",
       "ASIAN             31694   527\n",
       "BLACK            165094  2299\n",
       "HISPANIC         103590  2751\n",
       "NATIVE AMERICAN    1345    25\n",
       "OTHER             27568   370\n",
       "WHITE            205798  3533"
      ]
     },
     "execution_count": 132,
     "metadata": {},
     "output_type": "execute_result"
    }
   ],
   "source": [
    "pd.crosstab(train['Race'],train['Property Damage'])"
   ]
  },
  {
   "cell_type": "code",
   "execution_count": 133,
   "metadata": {
    "collapsed": false
   },
   "outputs": [
    {
     "data": {
      "text/html": [
       "<div>\n",
       "<table border=\"1\" class=\"dataframe\">\n",
       "  <thead>\n",
       "    <tr style=\"text-align: right;\">\n",
       "      <th>Property Damage</th>\n",
       "      <th>0</th>\n",
       "      <th>1</th>\n",
       "    </tr>\n",
       "    <tr>\n",
       "      <th>Gender</th>\n",
       "      <th></th>\n",
       "      <th></th>\n",
       "    </tr>\n",
       "  </thead>\n",
       "  <tbody>\n",
       "    <tr>\n",
       "      <th>F</th>\n",
       "      <td>179623</td>\n",
       "      <td>3037</td>\n",
       "    </tr>\n",
       "    <tr>\n",
       "      <th>M</th>\n",
       "      <td>354734</td>\n",
       "      <td>6465</td>\n",
       "    </tr>\n",
       "    <tr>\n",
       "      <th>U</th>\n",
       "      <td>732</td>\n",
       "      <td>3</td>\n",
       "    </tr>\n",
       "  </tbody>\n",
       "</table>\n",
       "</div>"
      ],
      "text/plain": [
       "Property Damage       0     1\n",
       "Gender                       \n",
       "F                179623  3037\n",
       "M                354734  6465\n",
       "U                   732     3"
      ]
     },
     "execution_count": 133,
     "metadata": {},
     "output_type": "execute_result"
    }
   ],
   "source": [
    "pd.crosstab(train['Gender'],train['Property Damage'])\n"
   ]
  },
  {
   "cell_type": "code",
   "execution_count": 134,
   "metadata": {
    "collapsed": false
   },
   "outputs": [
    {
     "name": "stdout",
     "output_type": "stream",
     "text": [
      "Accident\n",
      "0    544594\n",
      "dtype: int64\n"
     ]
    }
   ],
   "source": [
    "d=train.groupby(['Accident'])\n",
    "print d['Accident'].size()"
   ]
  },
  {
   "cell_type": "code",
   "execution_count": 135,
   "metadata": {
    "collapsed": false
   },
   "outputs": [
    {
     "data": {
      "text/html": [
       "<div>\n",
       "<table border=\"1\" class=\"dataframe\">\n",
       "  <thead>\n",
       "    <tr style=\"text-align: right;\">\n",
       "      <th>Violation Type</th>\n",
       "      <th>Citation</th>\n",
       "      <th>SERO</th>\n",
       "      <th>Warning</th>\n",
       "    </tr>\n",
       "    <tr>\n",
       "      <th>Property Damage</th>\n",
       "      <th></th>\n",
       "      <th></th>\n",
       "      <th></th>\n",
       "    </tr>\n",
       "  </thead>\n",
       "  <tbody>\n",
       "    <tr>\n",
       "      <th>0</th>\n",
       "      <td>270213</td>\n",
       "      <td>16</td>\n",
       "      <td>264860</td>\n",
       "    </tr>\n",
       "    <tr>\n",
       "      <th>1</th>\n",
       "      <td>8776</td>\n",
       "      <td>0</td>\n",
       "      <td>729</td>\n",
       "    </tr>\n",
       "  </tbody>\n",
       "</table>\n",
       "</div>"
      ],
      "text/plain": [
       "Violation Type   Citation  SERO  Warning\n",
       "Property Damage                         \n",
       "0                  270213    16   264860\n",
       "1                    8776     0      729"
      ]
     },
     "execution_count": 135,
     "metadata": {},
     "output_type": "execute_result"
    }
   ],
   "source": [
    "pd.crosstab(train['Property Damage'],train['Violation Type'],rownames=['Property Damage'],colnames=['Violation Type'])"
   ]
  },
  {
   "cell_type": "code",
   "execution_count": 136,
   "metadata": {
    "collapsed": false
   },
   "outputs": [
    {
     "data": {
      "text/html": [
       "<div>\n",
       "<table border=\"1\" class=\"dataframe\">\n",
       "  <thead>\n",
       "    <tr style=\"text-align: right;\">\n",
       "      <th>Personal Injury</th>\n",
       "      <th>0</th>\n",
       "      <th>1</th>\n",
       "    </tr>\n",
       "    <tr>\n",
       "      <th>Alcohol</th>\n",
       "      <th></th>\n",
       "      <th></th>\n",
       "    </tr>\n",
       "  </thead>\n",
       "  <tbody>\n",
       "    <tr>\n",
       "      <th>0</th>\n",
       "      <td>537223</td>\n",
       "      <td>6258</td>\n",
       "    </tr>\n",
       "    <tr>\n",
       "      <th>1</th>\n",
       "      <td>1069</td>\n",
       "      <td>44</td>\n",
       "    </tr>\n",
       "  </tbody>\n",
       "</table>\n",
       "</div>"
      ],
      "text/plain": [
       "Personal Injury       0     1\n",
       "Alcohol                      \n",
       "0                537223  6258\n",
       "1                  1069    44"
      ]
     },
     "execution_count": 136,
     "metadata": {},
     "output_type": "execute_result"
    }
   ],
   "source": [
    "pd.crosstab(train['Alcohol'],train['Personal Injury'],rownames=['Alcohol'],colnames=['Personal Injury'])"
   ]
  },
  {
   "cell_type": "code",
   "execution_count": 139,
   "metadata": {
    "collapsed": false
   },
   "outputs": [
    {
     "data": {
      "text/plain": [
       "<matplotlib.axes._subplots.AxesSubplot at 0x133c1bcd0>"
      ]
     },
     "execution_count": 139,
     "metadata": {},
     "output_type": "execute_result"
    },
    {
     "data": {
      "image/png": "[encoded data removed]",
      "text/plain": [
       "<matplotlib.figure.Figure at 0x133c32390>"
      ]
     },
     "metadata": {},
     "output_type": "display_data"
    }
   ],
   "source": [
    "t=pd.crosstab(train['Alcohol'],train['Personal Injury'],rownames=['Alcohol'],colnames=['Personal Injury'])\n",
    "t.plot(kind='bar', stacked=True, color=['red','blue'], grid=False)"
   ]
  },
  {
   "cell_type": "code",
   "execution_count": 138,
   "metadata": {
    "collapsed": false
   },
   "outputs": [
    {
     "ename": "TypeError",
     "evalue": "Cannot compare types 'ndarray(dtype=int64)' and 'str'",
     "output_type": "error",
     "traceback": [
      "\u001b[0;31m---------------------------------------------------------------------------\u001b[0m",
      "\u001b[0;31mTypeError\u001b[0m                                 Traceback (most recent call last)",
      "\u001b[0;32m<ipython-input-138-73bcfd082801>\u001b[0m in \u001b[0;36m<module>\u001b[0;34m()\u001b[0m\n\u001b[0;32m----> 1\u001b[0;31m \u001b[0mtrain\u001b[0m\u001b[0;34m.\u001b[0m\u001b[0mBelts\u001b[0m\u001b[0;34m.\u001b[0m\u001b[0mreplace\u001b[0m\u001b[0;34m(\u001b[0m\u001b[0;34m[\u001b[0m\u001b[0;34m'No'\u001b[0m\u001b[0;34m,\u001b[0m \u001b[0;34m'Yes'\u001b[0m\u001b[0;34m]\u001b[0m\u001b[0;34m,\u001b[0m \u001b[0;34m[\u001b[0m\u001b[0;36m0\u001b[0m\u001b[0;34m,\u001b[0m \u001b[0;36m1\u001b[0m\u001b[0;34m]\u001b[0m\u001b[0;34m,\u001b[0m \u001b[0minplace\u001b[0m\u001b[0;34m=\u001b[0m\u001b[0mTrue\u001b[0m\u001b[0;34m)\u001b[0m\u001b[0;34m\u001b[0m\u001b[0m\n\u001b[0m\u001b[1;32m      2\u001b[0m \u001b[0mtrain\u001b[0m\u001b[0;34m.\u001b[0m\u001b[0mAccident\u001b[0m\u001b[0;34m.\u001b[0m\u001b[0mreplace\u001b[0m\u001b[0;34m(\u001b[0m\u001b[0;34m[\u001b[0m\u001b[0;34m'No'\u001b[0m\u001b[0;34m,\u001b[0m \u001b[0;34m'Yes'\u001b[0m\u001b[0;34m]\u001b[0m\u001b[0;34m,\u001b[0m \u001b[0;34m[\u001b[0m\u001b[0;36m0\u001b[0m\u001b[0;34m,\u001b[0m \u001b[0;36m1\u001b[0m\u001b[0;34m]\u001b[0m\u001b[0;34m,\u001b[0m \u001b[0minplace\u001b[0m\u001b[0;34m=\u001b[0m\u001b[0mTrue\u001b[0m\u001b[0;34m)\u001b[0m\u001b[0;34m\u001b[0m\u001b[0m\n\u001b[1;32m      3\u001b[0m \u001b[0mtrain\u001b[0m\u001b[0;34m[\u001b[0m\u001b[0;34m'Contributed To Accident'\u001b[0m\u001b[0;34m]\u001b[0m\u001b[0;34m.\u001b[0m\u001b[0mreplace\u001b[0m\u001b[0;34m(\u001b[0m\u001b[0;34m[\u001b[0m\u001b[0;34m'No'\u001b[0m\u001b[0;34m,\u001b[0m \u001b[0;34m'Yes'\u001b[0m\u001b[0;34m]\u001b[0m\u001b[0;34m,\u001b[0m \u001b[0;34m[\u001b[0m\u001b[0;36m0\u001b[0m\u001b[0;34m,\u001b[0m \u001b[0;36m1\u001b[0m\u001b[0;34m]\u001b[0m\u001b[0;34m,\u001b[0m \u001b[0minplace\u001b[0m\u001b[0;34m=\u001b[0m\u001b[0mTrue\u001b[0m\u001b[0;34m)\u001b[0m\u001b[0;34m\u001b[0m\u001b[0m\n\u001b[1;32m      4\u001b[0m \u001b[0mtrain\u001b[0m\u001b[0;34m[\u001b[0m\u001b[0;34m'Property Damage'\u001b[0m\u001b[0;34m]\u001b[0m\u001b[0;34m.\u001b[0m\u001b[0mreplace\u001b[0m\u001b[0;34m(\u001b[0m\u001b[0;34m[\u001b[0m\u001b[0;34m'No'\u001b[0m\u001b[0;34m,\u001b[0m \u001b[0;34m'Yes'\u001b[0m\u001b[0;34m,\u001b[0m\u001b[0;34m''\u001b[0m\u001b[0;34m]\u001b[0m\u001b[0;34m,\u001b[0m \u001b[0;34m[\u001b[0m\u001b[0;36m0\u001b[0m\u001b[0;34m,\u001b[0m \u001b[0;36m1\u001b[0m\u001b[0;34m,\u001b[0m\u001b[0;36m0\u001b[0m\u001b[0;34m]\u001b[0m\u001b[0;34m,\u001b[0m \u001b[0minplace\u001b[0m\u001b[0;34m=\u001b[0m\u001b[0mTrue\u001b[0m\u001b[0;34m)\u001b[0m\u001b[0;34m\u001b[0m\u001b[0m\n\u001b[1;32m      5\u001b[0m \u001b[0mtrain\u001b[0m\u001b[0;34m[\u001b[0m\u001b[0;34m'HAZMAT'\u001b[0m\u001b[0;34m]\u001b[0m\u001b[0;34m.\u001b[0m\u001b[0mreplace\u001b[0m\u001b[0;34m(\u001b[0m\u001b[0;34m[\u001b[0m\u001b[0;34m'No'\u001b[0m\u001b[0;34m,\u001b[0m \u001b[0;34m'Yes'\u001b[0m\u001b[0;34m]\u001b[0m\u001b[0;34m,\u001b[0m \u001b[0;34m[\u001b[0m\u001b[0;36m0\u001b[0m\u001b[0;34m,\u001b[0m \u001b[0;36m1\u001b[0m\u001b[0;34m]\u001b[0m\u001b[0;34m,\u001b[0m \u001b[0minplace\u001b[0m\u001b[0;34m=\u001b[0m\u001b[0mTrue\u001b[0m\u001b[0;34m)\u001b[0m\u001b[0;34m\u001b[0m\u001b[0m\n",
      "\u001b[0;32m//anaconda/lib/python2.7/site-packages/pandas/core/generic.pyc\u001b[0m in \u001b[0;36mreplace\u001b[0;34m(self, to_replace, value, inplace, limit, regex, method, axis)\u001b[0m\n\u001b[1;32m   3389\u001b[0m         \u001b[0mTypeError\u001b[0m\u001b[0;34m\u001b[0m\u001b[0m\n\u001b[1;32m   3390\u001b[0m             \u001b[0;34m*\u001b[0m \u001b[0mIf\u001b[0m \u001b[0;34m`\u001b[0m\u001b[0mto_replace\u001b[0m\u001b[0;34m`\u001b[0m \u001b[0;32mis\u001b[0m \u001b[0ma\u001b[0m \u001b[0;34m`\u001b[0m\u001b[0;34m`\u001b[0m\u001b[0mdict\u001b[0m\u001b[0;34m`\u001b[0m\u001b[0;34m`\u001b[0m \u001b[0;32mand\u001b[0m \u001b[0;34m`\u001b[0m\u001b[0mvalue\u001b[0m\u001b[0;34m`\u001b[0m \u001b[0;32mis\u001b[0m \u001b[0;32mnot\u001b[0m \u001b[0ma\u001b[0m \u001b[0;34m`\u001b[0m\u001b[0;34m`\u001b[0m\u001b[0mlist\u001b[0m\u001b[0;34m`\u001b[0m\u001b[0;34m`\u001b[0m\u001b[0;34m,\u001b[0m\u001b[0;34m\u001b[0m\u001b[0m\n\u001b[0;32m-> 3391\u001b[0;31m               \u001b[0;34m`\u001b[0m\u001b[0;34m`\u001b[0m\u001b[0mdict\u001b[0m\u001b[0;34m`\u001b[0m\u001b[0;34m`\u001b[0m\u001b[0;34m,\u001b[0m \u001b[0;34m`\u001b[0m\u001b[0;34m`\u001b[0m\u001b[0mndarray\u001b[0m\u001b[0;34m`\u001b[0m\u001b[0;34m`\u001b[0m\u001b[0;34m,\u001b[0m \u001b[0;32mor\u001b[0m \u001b[0;34m`\u001b[0m\u001b[0;34m`\u001b[0m\u001b[0mSeries\u001b[0m\u001b[0;34m`\u001b[0m\u001b[0;34m`\u001b[0m\u001b[0;34m\u001b[0m\u001b[0m\n\u001b[0m\u001b[1;32m   3392\u001b[0m             \u001b[0;34m*\u001b[0m \u001b[0mIf\u001b[0m \u001b[0;34m`\u001b[0m\u001b[0mto_replace\u001b[0m\u001b[0;34m`\u001b[0m \u001b[0;32mis\u001b[0m \u001b[0;34m`\u001b[0m\u001b[0;34m`\u001b[0m\u001b[0mNone\u001b[0m\u001b[0;34m`\u001b[0m\u001b[0;34m`\u001b[0m \u001b[0;32mand\u001b[0m \u001b[0;34m`\u001b[0m\u001b[0mregex\u001b[0m\u001b[0;34m`\u001b[0m \u001b[0;32mis\u001b[0m \u001b[0;32mnot\u001b[0m \u001b[0mcompilable\u001b[0m \u001b[0minto\u001b[0m \u001b[0ma\u001b[0m\u001b[0;34m\u001b[0m\u001b[0m\n\u001b[1;32m   3393\u001b[0m               \u001b[0mregular\u001b[0m \u001b[0mexpression\u001b[0m \u001b[0;32mor\u001b[0m \u001b[0;32mis\u001b[0m \u001b[0ma\u001b[0m \u001b[0mlist\u001b[0m\u001b[0;34m,\u001b[0m \u001b[0mdict\u001b[0m\u001b[0;34m,\u001b[0m \u001b[0mndarray\u001b[0m\u001b[0;34m,\u001b[0m \u001b[0;32mor\u001b[0m \u001b[0mSeries\u001b[0m\u001b[0;34m.\u001b[0m\u001b[0;34m\u001b[0m\u001b[0m\n",
      "\u001b[0;32m//anaconda/lib/python2.7/site-packages/pandas/core/internals.pyc\u001b[0m in \u001b[0;36mreplace_list\u001b[0;34m(self, src_list, dest_list, inplace, regex, mgr)\u001b[0m\n\u001b[1;32m   2895\u001b[0m         extra_state = {\n\u001b[1;32m   2896\u001b[0m             '0.14.1': {\n\u001b[0;32m-> 2897\u001b[0;31m                 \u001b[0;34m'axes'\u001b[0m\u001b[0;34m:\u001b[0m \u001b[0maxes_array\u001b[0m\u001b[0;34m,\u001b[0m\u001b[0;34m\u001b[0m\u001b[0m\n\u001b[0m\u001b[1;32m   2898\u001b[0m                 'blocks': [dict(values=b.values, mgr_locs=b.mgr_locs.indexer)\n\u001b[1;32m   2899\u001b[0m                            for b in self.blocks]\n",
      "\u001b[0;32m//anaconda/lib/python2.7/site-packages/pandas/core/internals.pyc\u001b[0m in \u001b[0;36mcomp\u001b[0;34m(s)\u001b[0m\n\u001b[1;32m   2893\u001b[0m         \u001b[0maxes_array\u001b[0m \u001b[0;34m=\u001b[0m \u001b[0;34m[\u001b[0m\u001b[0max\u001b[0m \u001b[0;32mfor\u001b[0m \u001b[0max\u001b[0m \u001b[0;32min\u001b[0m \u001b[0mself\u001b[0m\u001b[0;34m.\u001b[0m\u001b[0maxes\u001b[0m\u001b[0;34m]\u001b[0m\u001b[0;34m\u001b[0m\u001b[0m\n\u001b[1;32m   2894\u001b[0m \u001b[0;34m\u001b[0m\u001b[0m\n\u001b[0;32m-> 2895\u001b[0;31m         extra_state = {\n\u001b[0m\u001b[1;32m   2896\u001b[0m             '0.14.1': {\n\u001b[1;32m   2897\u001b[0m                 \u001b[0;34m'axes'\u001b[0m\u001b[0;34m:\u001b[0m \u001b[0maxes_array\u001b[0m\u001b[0;34m,\u001b[0m\u001b[0;34m\u001b[0m\u001b[0m\n",
      "\u001b[0;32m//anaconda/lib/python2.7/site-packages/pandas/core/internals.pyc\u001b[0m in \u001b[0;36m_possibly_compare\u001b[0;34m(a, b, op)\u001b[0m\n\u001b[1;32m   4290\u001b[0m \u001b[0;34m\u001b[0m\u001b[0m\n\u001b[1;32m   4291\u001b[0m     \u001b[0;32mfor\u001b[0m \u001b[0mi\u001b[0m\u001b[0;34m,\u001b[0m \u001b[0mname_idx\u001b[0m \u001b[0;32min\u001b[0m \u001b[0menumerate\u001b[0m\u001b[0;34m(\u001b[0m\u001b[0mnames_indexer\u001b[0m\u001b[0;34m)\u001b[0m\u001b[0;34m:\u001b[0m\u001b[0;34m\u001b[0m\u001b[0m\n\u001b[0;32m-> 4292\u001b[0;31m         \u001b[0;32mif\u001b[0m \u001b[0mname_idx\u001b[0m \u001b[0;34m==\u001b[0m \u001b[0;34m-\u001b[0m\u001b[0;36m1\u001b[0m\u001b[0;34m:\u001b[0m\u001b[0;34m\u001b[0m\u001b[0m\n\u001b[0m\u001b[1;32m   4293\u001b[0m             \u001b[0mextra_locs\u001b[0m\u001b[0;34m.\u001b[0m\u001b[0mappend\u001b[0m\u001b[0;34m(\u001b[0m\u001b[0mi\u001b[0m\u001b[0;34m)\u001b[0m\u001b[0;34m\u001b[0m\u001b[0m\n\u001b[1;32m   4294\u001b[0m             \u001b[0;32mcontinue\u001b[0m\u001b[0;34m\u001b[0m\u001b[0m\n",
      "\u001b[0;31mTypeError\u001b[0m: Cannot compare types 'ndarray(dtype=int64)' and 'str'"
     ]
    }
   ],
   "source": [
    "train.Belts.replace(['No', 'Yes'], [0, 1], inplace=True)\n",
    "train.Accident.replace(['No', 'Yes'], [0, 1], inplace=True)\n",
    "train['Contributed To Accident'].replace(['No', 'Yes'], [0, 1], inplace=True)\n",
    "train['Property Damage'].replace(['No', 'Yes',''], [0, 1,0], inplace=True)\n",
    "train['HAZMAT'].replace(['No', 'Yes'], [0, 1], inplace=True)\n",
    "train['Commercial Vehicle'].replace(['No', 'Yes'], [0, 1], inplace=True)\n",
    "train['Alcohol'].replace(['No', 'Yes'], [0, 1], inplace=True)\n",
    "train['Work Zone'].replace(['No', 'Yes'], [0, 1], inplace=True)\n",
    "train['Personal Injury'].replace(['No', 'Yes',''], [0, 1,0], inplace=True)"
   ]
  },
  {
   "cell_type": "code",
   "execution_count": 140,
   "metadata": {
    "collapsed": false
   },
   "outputs": [
    {
     "data": {
      "text/plain": [
       "231432    0\n",
       "375258    0\n",
       "902304    0\n",
       "955895    0\n",
       "701179    0\n",
       "Name: Property Damage, dtype: int64"
      ]
     },
     "execution_count": 140,
     "metadata": {},
     "output_type": "execute_result"
    }
   ],
   "source": [
    "train['Property Damage'].head()"
   ]
  },
  {
   "cell_type": "code",
   "execution_count": 141,
   "metadata": {
    "collapsed": false
   },
   "outputs": [
    {
     "data": {
      "text/plain": [
       "Belts\n",
       "0    524119\n",
       "1     20475\n",
       "dtype: int64"
      ]
     },
     "execution_count": 141,
     "metadata": {},
     "output_type": "execute_result"
    }
   ],
   "source": [
    "train.groupby(['Belts']).size()"
   ]
  },
  {
   "cell_type": "code",
   "execution_count": 142,
   "metadata": {
    "collapsed": false
   },
   "outputs": [
    {
     "data": {
      "text/plain": [
       "231432    10/06/2013\n",
       "375258    09/13/2015\n",
       "902304    09/03/2014\n",
       "955895    07/05/2015\n",
       "701179    05/11/2015\n",
       "Name: Date Of Stop, dtype: object"
      ]
     },
     "execution_count": 142,
     "metadata": {},
     "output_type": "execute_result"
    }
   ],
   "source": [
    "train['Date Of Stop'].head()"
   ]
  },
  {
   "cell_type": "code",
   "execution_count": 143,
   "metadata": {
    "collapsed": false
   },
   "outputs": [
    {
     "data": {
      "text/plain": [
       "231432    22:58:00\n",
       "375258    01:41:00\n",
       "902304    23:54:00\n",
       "955895    12:45:00\n",
       "701179    21:47:00\n",
       "Name: Time Of Stop, dtype: object"
      ]
     },
     "execution_count": 143,
     "metadata": {},
     "output_type": "execute_result"
    }
   ],
   "source": [
    "train['Time Of Stop'].head()"
   ]
  },
  {
   "cell_type": "code",
   "execution_count": 144,
   "metadata": {
    "collapsed": false
   },
   "outputs": [
    {
     "data": {
      "text/plain": [
       "Belts\n",
       "0    524119\n",
       "1     20475\n",
       "dtype: int64"
      ]
     },
     "execution_count": 144,
     "metadata": {},
     "output_type": "execute_result"
    }
   ],
   "source": [
    "train.groupby(['Belts']).size()"
   ]
  },
  {
   "cell_type": "code",
   "execution_count": 145,
   "metadata": {
    "collapsed": false
   },
   "outputs": [],
   "source": [
    "#train['Date_Of_Stop'] = train['Date Of Stop'].astype('datetime64[ns]')\n",
    "#d1['stop-month']=pd.DatetimeIndex(d1['Date Of Stop']).month\n",
    "#train.columns\n",
    "t1=train.groupby(['stop-year'])\n"
   ]
  },
  {
   "cell_type": "code",
   "execution_count": 146,
   "metadata": {
    "collapsed": false
   },
   "outputs": [],
   "source": [
    "import pandas_highcharts\n",
    "from pandas_highcharts.core import serialize\n",
    "train_sub= train\n",
    "chart = serialize(train, render_to=\"my-chart\", title=\"My Chart\")\n",
    "\n",
    "#json_data = train.to_json()\n"
   ]
  },
  {
   "cell_type": "code",
   "execution_count": 147,
   "metadata": {
    "collapsed": false
   },
   "outputs": [
    {
     "data": {
      "text/plain": [
       "Index([u'Date Of Stop', u'Time Of Stop', u'Agency', u'SubAgency',\n",
       "       u'Description', u'Location', u'Latitude', u'Longitude', u'Accident',\n",
       "       u'Belts', u'Personal Injury', u'Property Damage', u'Fatal',\n",
       "       u'Commercial License', u'HAZMAT', u'Commercial Vehicle', u'Alcohol',\n",
       "       u'Work Zone', u'State', u'VehicleType', u'Year', u'Make', u'Model',\n",
       "       u'Color', u'Violation Type', u'Charge', u'Article',\n",
       "       u'Contributed To Accident', u'Race', u'Gender', u'Driver City',\n",
       "       u'Driver State', u'DL State', u'Arrest Type', u'Geolocation',\n",
       "       u'stop-year', u'stop-month'],\n",
       "      dtype='object')"
      ]
     },
     "execution_count": 147,
     "metadata": {},
     "output_type": "execute_result"
    }
   ],
   "source": [
    "train.columns"
   ]
  },
  {
   "cell_type": "code",
   "execution_count": 148,
   "metadata": {
    "collapsed": false
   },
   "outputs": [
    {
     "name": "stderr",
     "output_type": "stream",
     "text": [
      "//anaconda/lib/python2.7/site-packages/matplotlib/axes/_base.py:2787: UserWarning: Attempting to set identical left==right results\n",
      "in singular transformations; automatically expanding.\n",
      "left=2012.0, right=2012.0\n",
      "  'left=%s, right=%s') % (left, right))\n",
      "//anaconda/lib/python2.7/site-packages/matplotlib/axes/_base.py:2787: UserWarning: Attempting to set identical left==right results\n",
      "in singular transformations; automatically expanding.\n",
      "left=2013.0, right=2013.0\n",
      "  'left=%s, right=%s') % (left, right))\n",
      "//anaconda/lib/python2.7/site-packages/matplotlib/axes/_base.py:2787: UserWarning: Attempting to set identical left==right results\n",
      "in singular transformations; automatically expanding.\n",
      "left=2014.0, right=2014.0\n",
      "  'left=%s, right=%s') % (left, right))\n",
      "//anaconda/lib/python2.7/site-packages/matplotlib/axes/_base.py:2787: UserWarning: Attempting to set identical left==right results\n",
      "in singular transformations; automatically expanding.\n",
      "left=2015.0, right=2015.0\n",
      "  'left=%s, right=%s') % (left, right))\n"
     ]
    },
    {
     "data": {
      "text/plain": [
       "stop-year\n",
       "2012    Axes(0.125,0.125;0.775x0.775)\n",
       "2013    Axes(0.125,0.125;0.775x0.775)\n",
       "2014    Axes(0.125,0.125;0.775x0.775)\n",
       "2015    Axes(0.125,0.125;0.775x0.775)\n",
       "dtype: object"
      ]
     },
     "execution_count": 148,
     "metadata": {},
     "output_type": "execute_result"
    },
    {
     "data": {
      "image/png": "[encoded data removed]",
      "text/plain": [
       "<matplotlib.figure.Figure at 0x132f475d0>"
      ]
     },
     "metadata": {},
     "output_type": "display_data"
    },
    {
     "data": {
      "image/png": "[encoded data removed]",
      "text/plain": [
       "<matplotlib.figure.Figure at 0x132599710>"
      ]
     },
     "metadata": {},
     "output_type": "display_data"
    },
    {
     "data": {
      "image/png": "[encoded data removed]",
      "text/plain": [
       "<matplotlib.figure.Figure at 0x1319e2210>"
      ]
     },
     "metadata": {},
     "output_type": "display_data"
    },
    {
     "data": {
      "image/png": "[encoded data removed]",
      "text/plain": [
       "<matplotlib.figure.Figure at 0x130296fd0>"
      ]
     },
     "metadata": {},
     "output_type": "display_data"
    },
    {
     "data": {
      "image/png": "[encoded data removed]",
      "text/plain": [
       "<matplotlib.figure.Figure at 0x12eb69490>"
      ]
     },
     "metadata": {},
     "output_type": "display_data"
    }
   ],
   "source": [
    "t1.plot.line(x='stop-year')\n",
    "\n",
    "#df3.plot(x='A', y='B')"
   ]
  },
  {
   "cell_type": "code",
   "execution_count": 149,
   "metadata": {
    "collapsed": false
   },
   "outputs": [],
   "source": [
    "from pandas.compat import StringIO\n",
    "\n",
    "dat = \"\"\"ts;A;B;C\n",
    "2015-01-01 00:00:00;27451873;29956800;113\n",
    "2015-01-01 01:00:00;20259882;17906600;76\n",
    "2015-01-01 02:00:00;11592256;12311600;48\n",
    "2015-01-01 03:00:00;11795562;11750100;50\n",
    "2015-01-01 04:00:00;9396718;10203900;43\n",
    "2015-01-01 05:00:00;14902826;14341100;53\"\"\"\n",
    "df = pd.read_csv(StringIO(dat), sep=';', index_col='ts', parse_dates='ts')\n",
    "\n",
    "# Basic line plot\n",
    "chart = serialize(df, render_to=\"my-chart\", title=\"My Chart\")"
   ]
  },
  {
   "cell_type": "markdown",
   "metadata": {},
   "source": [
    "<script src=\"http://code.highcharts.com/highcharts.js\"></script>"
   ]
  },
  {
   "cell_type": "code",
   "execution_count": 151,
   "metadata": {
    "collapsed": false
   },
   "outputs": [
    {
     "data": {
      "text/html": [
       "<div id=\"chart_idwTZrXncX\"</div>\n",
       "    <script type=\"text/javascript\">new Highcharts.Chart({\"title\":{\"text\":\"Angel Deals By Sector\"},\"series\":[{\"data\":[27451873,20259882,11592256,11795562,9396718,14902826],\"name\":\"A\",\"yAxis\":0},{\"data\":[29956800,17906600,12311600,11750100,10203900,14341100],\"name\":\"B\",\"yAxis\":0},{\"data\":[113,76,48,50,43,53],\"name\":\"C\",\"yAxis\":0}],\"yAxis\":[{\"max\":2.3,\"min\":0}],\"chart\":{\"polar\":true,\"renderTo\":\"chart_idwTZrXncX\",\"type\":\"line\"},\"xAxis\":{\"type\":\"datetime\",\"title\":{\"text\":\"ts\"}},\"legend\":{\"enabled\":true}});</script>"
      ],
      "text/plain": [
       "<IPython.core.display.HTML object>"
      ]
     },
     "metadata": {},
     "output_type": "display_data"
    }
   ],
   "source": [
    "#df.plot.line()\n",
    "from pandas_highcharts.display import display_charts\n",
    "\n",
    "display_charts(df, polar=True, kind='line', ylim=(0, 2.3), title='Angel Deals By Sector')\n"
   ]
  },
  {
   "cell_type": "code",
   "execution_count": null,
   "metadata": {
    "collapsed": true
   },
   "outputs": [],
   "source": []
  }
 ],
 "metadata": {
  "anaconda-cloud": {},
  "kernelspec": {
   "display_name": "Python [default]",
   "language": "python",
   "name": "python2"
  },
  "language_info": {
   "codemirror_mode": {
    "name": "ipython",
    "version": 2
   },
   "file_extension": ".py",
   "mimetype": "text/x-python",
   "name": "python",
   "nbconvert_exporter": "python",
   "pygments_lexer": "ipython2",
   "version": "2.7.12"
  }
 },
 "nbformat": 4,
 "nbformat_minor": 0
}
