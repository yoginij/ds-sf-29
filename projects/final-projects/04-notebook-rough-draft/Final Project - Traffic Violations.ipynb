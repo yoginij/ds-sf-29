{
 "cells": [
  {
   "cell_type": "markdown",
   "metadata": {},
   "source": [
    "# Traffic Violation\n",
    "Create a model using logitic regression to determine the property damage based on various factors"
   ]
  },
  {
   "cell_type": "markdown",
   "metadata": {},
   "source": [
    "Hypothesis testing"
   ]
  },
  {
   "cell_type": "markdown",
   "metadata": {},
   "source": [
    "Create a model using random forest to evaluate the description and determine if there are any key fators that impact property damage "
   ]
  },
  {
   "cell_type": "markdown",
   "metadata": {},
   "source": [
    "Evaluate the date and time if the they play any significant role."
   ]
  },
  {
   "cell_type": "markdown",
   "metadata": {},
   "source": [
    "How does location play a role, are some locations more prone than others "
   ]
  },
  {
   "cell_type": "code",
   "execution_count": 122,
   "metadata": {
    "collapsed": false
   },
   "outputs": [
    {
     "name": "stdout",
     "output_type": "stream",
     "text": [
      "   Unnamed: 0 Date Of Stop Time Of Stop Agency  \\\n",
      "0      231432   10/06/2013     22:58:00    MCP   \n",
      "1      375258   09/13/2015     01:41:00    MCP   \n",
      "2      902304   09/03/2014     23:54:00    MCP   \n",
      "3      955895   07/05/2015     12:45:00    MCP   \n",
      "4      701179   05/11/2015     21:47:00    MCP   \n",
      "\n",
      "                             SubAgency  \\\n",
      "0          3rd district, Silver Spring   \n",
      "1  Headquarters and Special Operations   \n",
      "2                4th district, Wheaton   \n",
      "3             5th district, Germantown   \n",
      "4                4th district, Wheaton   \n",
      "\n",
      "                                         Description  \\\n",
      "0  DRIVE ACROSS PRIVATE PROPERTY FOR THE PURPOSE ...   \n",
      "1  NEGLIGENT DRIVING VEHICLE IN CARELESS AND IMPR...   \n",
      "2  FAILURE TO DISPLAY REGISTRATION CARD UPON DEMA...   \n",
      "3  DRIVING VEHICLE ON HIGHWAY WITHOUT CURRENT REG...   \n",
      "4  RECKLESS DRIVING VEHICLE IN WANTON AND WILLFUL...   \n",
      "\n",
      "                                   Location   Latitude  Longitude  Accident  \\\n",
      "0           BRIGGS CHANEY RD AT CASTLE BLVD  39.082817 -76.947782         0   \n",
      "1  9880 ROCKVILLE PIK / 5100 KING CHARLES W  38.983630 -77.093272         0   \n",
      "2                 GEORGIA AVE / CONNECTICUT  39.087468 -77.079330         0   \n",
      "3      GERMANTOWN ROAD @ CRYSTAL ROCK DRIVE  39.184212 -77.255140         0   \n",
      "4         N/B I-270 PRIOR TO MIDDLEBROOK RD  39.165833 -77.240402         0   \n",
      "\n",
      "     ...      Contributed To Accident   Race  Gender    Driver City  \\\n",
      "0    ...                            0  WHITE       M  SILVER SPRING   \n",
      "1    ...                            0  WHITE       M     PIKESVILLE   \n",
      "2    ...                            0  BLACK       M      BALTIMORE   \n",
      "3    ...                            0  WHITE       F      ROCKVILLE   \n",
      "4    ...                            0  BLACK       M     GERMANTOWN   \n",
      "\n",
      "  Driver State  DL State          Arrest Type  \\\n",
      "0           MD        MD    A - Marked Patrol   \n",
      "1           MD        MD    A - Marked Patrol   \n",
      "2           MD        MD    A - Marked Patrol   \n",
      "3           MD        MD    A - Marked Patrol   \n",
      "4           MD        MD  B - Unmarked Patrol   \n",
      "\n",
      "                             Geolocation  stop-year stop-month  \n",
      "0  (39.0828166666667, -76.9477816666667)       2013         10  \n",
      "1          (38.98363, -77.0932716666667)       2015          9  \n",
      "2          (39.0874683333333, -77.07933)       2014          9  \n",
      "3          (39.1842116666667, -77.25514)       2015          7  \n",
      "4  (39.1658333333333, -77.2404016666667)       2015          5  \n",
      "\n",
      "[5 rows x 38 columns]\n"
     ]
    },
    {
     "data": {
      "text/plain": [
       "Index([u'Unnamed: 0', u'Date Of Stop', u'Time Of Stop', u'Agency',\n",
       "       u'SubAgency', u'Description', u'Location', u'Latitude', u'Longitude',\n",
       "       u'Accident', u'Belts', u'Personal Injury', u'Property Damage', u'Fatal',\n",
       "       u'Commercial License', u'HAZMAT', u'Commercial Vehicle', u'Alcohol',\n",
       "       u'Work Zone', u'State', u'VehicleType', u'Year', u'Make', u'Model',\n",
       "       u'Color', u'Violation Type', u'Charge', u'Article',\n",
       "       u'Contributed To Accident', u'Race', u'Gender', u'Driver City',\n",
       "       u'Driver State', u'DL State', u'Arrest Type', u'Geolocation',\n",
       "       u'stop-year', u'stop-month'],\n",
       "      dtype='object')"
      ]
     },
     "execution_count": 122,
     "metadata": {},
     "output_type": "execute_result"
    }
   ],
   "source": [
    "%matplotlib inline\n",
    "import matplotlib.pyplot as plt\n",
    "import pandas as pd\n",
    "import statsmodels.api as sm\n",
    "import pylab as pl\n",
    "import numpy as np\n",
    "\n",
    "df_raw = pd.read_csv('/Users/yogini/Downloads/Traffic_Violations_train.csv')\n",
    "df = df_raw.dropna() \n",
    "print df.head()\n",
    "df.columns"
   ]
  },
  {
   "cell_type": "code",
   "execution_count": 123,
   "metadata": {
    "collapsed": false
   },
   "outputs": [
    {
     "data": {
      "text/html": [
       "<div>\n",
       "<table border=\"1\" class=\"dataframe\">\n",
       "  <thead>\n",
       "    <tr style=\"text-align: right;\">\n",
       "      <th></th>\n",
       "      <th>Unnamed: 0</th>\n",
       "      <th>Date Of Stop</th>\n",
       "      <th>Time Of Stop</th>\n",
       "      <th>Agency</th>\n",
       "      <th>SubAgency</th>\n",
       "      <th>Description</th>\n",
       "      <th>Location</th>\n",
       "      <th>Latitude</th>\n",
       "      <th>Longitude</th>\n",
       "      <th>Accident</th>\n",
       "      <th>...</th>\n",
       "      <th>Contributed To Accident</th>\n",
       "      <th>Race</th>\n",
       "      <th>Gender</th>\n",
       "      <th>Driver City</th>\n",
       "      <th>Driver State</th>\n",
       "      <th>DL State</th>\n",
       "      <th>Arrest Type</th>\n",
       "      <th>Geolocation</th>\n",
       "      <th>stop-year</th>\n",
       "      <th>stop-month</th>\n",
       "    </tr>\n",
       "  </thead>\n",
       "  <tbody>\n",
       "    <tr>\n",
       "      <th>0</th>\n",
       "      <td>231432</td>\n",
       "      <td>10/06/2013</td>\n",
       "      <td>22:58:00</td>\n",
       "      <td>MCP</td>\n",
       "      <td>3rd district, Silver Spring</td>\n",
       "      <td>DRIVE ACROSS PRIVATE PROPERTY FOR THE PURPOSE ...</td>\n",
       "      <td>BRIGGS CHANEY RD AT CASTLE BLVD</td>\n",
       "      <td>39.082817</td>\n",
       "      <td>-76.947782</td>\n",
       "      <td>0</td>\n",
       "      <td>...</td>\n",
       "      <td>0</td>\n",
       "      <td>WHITE</td>\n",
       "      <td>M</td>\n",
       "      <td>SILVER SPRING</td>\n",
       "      <td>MD</td>\n",
       "      <td>MD</td>\n",
       "      <td>A - Marked Patrol</td>\n",
       "      <td>(39.0828166666667, -76.9477816666667)</td>\n",
       "      <td>2013</td>\n",
       "      <td>10</td>\n",
       "    </tr>\n",
       "    <tr>\n",
       "      <th>1</th>\n",
       "      <td>375258</td>\n",
       "      <td>09/13/2015</td>\n",
       "      <td>01:41:00</td>\n",
       "      <td>MCP</td>\n",
       "      <td>Headquarters and Special Operations</td>\n",
       "      <td>NEGLIGENT DRIVING VEHICLE IN CARELESS AND IMPR...</td>\n",
       "      <td>9880 ROCKVILLE PIK / 5100 KING CHARLES W</td>\n",
       "      <td>38.983630</td>\n",
       "      <td>-77.093272</td>\n",
       "      <td>0</td>\n",
       "      <td>...</td>\n",
       "      <td>0</td>\n",
       "      <td>WHITE</td>\n",
       "      <td>M</td>\n",
       "      <td>PIKESVILLE</td>\n",
       "      <td>MD</td>\n",
       "      <td>MD</td>\n",
       "      <td>A - Marked Patrol</td>\n",
       "      <td>(38.98363, -77.0932716666667)</td>\n",
       "      <td>2015</td>\n",
       "      <td>9</td>\n",
       "    </tr>\n",
       "    <tr>\n",
       "      <th>2</th>\n",
       "      <td>902304</td>\n",
       "      <td>09/03/2014</td>\n",
       "      <td>23:54:00</td>\n",
       "      <td>MCP</td>\n",
       "      <td>4th district, Wheaton</td>\n",
       "      <td>FAILURE TO DISPLAY REGISTRATION CARD UPON DEMA...</td>\n",
       "      <td>GEORGIA AVE / CONNECTICUT</td>\n",
       "      <td>39.087468</td>\n",
       "      <td>-77.079330</td>\n",
       "      <td>0</td>\n",
       "      <td>...</td>\n",
       "      <td>0</td>\n",
       "      <td>BLACK</td>\n",
       "      <td>M</td>\n",
       "      <td>BALTIMORE</td>\n",
       "      <td>MD</td>\n",
       "      <td>MD</td>\n",
       "      <td>A - Marked Patrol</td>\n",
       "      <td>(39.0874683333333, -77.07933)</td>\n",
       "      <td>2014</td>\n",
       "      <td>9</td>\n",
       "    </tr>\n",
       "    <tr>\n",
       "      <th>3</th>\n",
       "      <td>955895</td>\n",
       "      <td>07/05/2015</td>\n",
       "      <td>12:45:00</td>\n",
       "      <td>MCP</td>\n",
       "      <td>5th district, Germantown</td>\n",
       "      <td>DRIVING VEHICLE ON HIGHWAY WITHOUT CURRENT REG...</td>\n",
       "      <td>GERMANTOWN ROAD @ CRYSTAL ROCK DRIVE</td>\n",
       "      <td>39.184212</td>\n",
       "      <td>-77.255140</td>\n",
       "      <td>0</td>\n",
       "      <td>...</td>\n",
       "      <td>0</td>\n",
       "      <td>WHITE</td>\n",
       "      <td>F</td>\n",
       "      <td>ROCKVILLE</td>\n",
       "      <td>MD</td>\n",
       "      <td>MD</td>\n",
       "      <td>A - Marked Patrol</td>\n",
       "      <td>(39.1842116666667, -77.25514)</td>\n",
       "      <td>2015</td>\n",
       "      <td>7</td>\n",
       "    </tr>\n",
       "    <tr>\n",
       "      <th>4</th>\n",
       "      <td>701179</td>\n",
       "      <td>05/11/2015</td>\n",
       "      <td>21:47:00</td>\n",
       "      <td>MCP</td>\n",
       "      <td>4th district, Wheaton</td>\n",
       "      <td>RECKLESS DRIVING VEHICLE IN WANTON AND WILLFUL...</td>\n",
       "      <td>N/B I-270 PRIOR TO MIDDLEBROOK RD</td>\n",
       "      <td>39.165833</td>\n",
       "      <td>-77.240402</td>\n",
       "      <td>0</td>\n",
       "      <td>...</td>\n",
       "      <td>0</td>\n",
       "      <td>BLACK</td>\n",
       "      <td>M</td>\n",
       "      <td>GERMANTOWN</td>\n",
       "      <td>MD</td>\n",
       "      <td>MD</td>\n",
       "      <td>B - Unmarked Patrol</td>\n",
       "      <td>(39.1658333333333, -77.2404016666667)</td>\n",
       "      <td>2015</td>\n",
       "      <td>5</td>\n",
       "    </tr>\n",
       "  </tbody>\n",
       "</table>\n",
       "<p>5 rows × 38 columns</p>\n",
       "</div>"
      ],
      "text/plain": [
       "   Unnamed: 0 Date Of Stop Time Of Stop Agency  \\\n",
       "0      231432   10/06/2013     22:58:00    MCP   \n",
       "1      375258   09/13/2015     01:41:00    MCP   \n",
       "2      902304   09/03/2014     23:54:00    MCP   \n",
       "3      955895   07/05/2015     12:45:00    MCP   \n",
       "4      701179   05/11/2015     21:47:00    MCP   \n",
       "\n",
       "                             SubAgency  \\\n",
       "0          3rd district, Silver Spring   \n",
       "1  Headquarters and Special Operations   \n",
       "2                4th district, Wheaton   \n",
       "3             5th district, Germantown   \n",
       "4                4th district, Wheaton   \n",
       "\n",
       "                                         Description  \\\n",
       "0  DRIVE ACROSS PRIVATE PROPERTY FOR THE PURPOSE ...   \n",
       "1  NEGLIGENT DRIVING VEHICLE IN CARELESS AND IMPR...   \n",
       "2  FAILURE TO DISPLAY REGISTRATION CARD UPON DEMA...   \n",
       "3  DRIVING VEHICLE ON HIGHWAY WITHOUT CURRENT REG...   \n",
       "4  RECKLESS DRIVING VEHICLE IN WANTON AND WILLFUL...   \n",
       "\n",
       "                                   Location   Latitude  Longitude  Accident  \\\n",
       "0           BRIGGS CHANEY RD AT CASTLE BLVD  39.082817 -76.947782         0   \n",
       "1  9880 ROCKVILLE PIK / 5100 KING CHARLES W  38.983630 -77.093272         0   \n",
       "2                 GEORGIA AVE / CONNECTICUT  39.087468 -77.079330         0   \n",
       "3      GERMANTOWN ROAD @ CRYSTAL ROCK DRIVE  39.184212 -77.255140         0   \n",
       "4         N/B I-270 PRIOR TO MIDDLEBROOK RD  39.165833 -77.240402         0   \n",
       "\n",
       "     ...      Contributed To Accident   Race  Gender    Driver City  \\\n",
       "0    ...                            0  WHITE       M  SILVER SPRING   \n",
       "1    ...                            0  WHITE       M     PIKESVILLE   \n",
       "2    ...                            0  BLACK       M      BALTIMORE   \n",
       "3    ...                            0  WHITE       F      ROCKVILLE   \n",
       "4    ...                            0  BLACK       M     GERMANTOWN   \n",
       "\n",
       "  Driver State  DL State          Arrest Type  \\\n",
       "0           MD        MD    A - Marked Patrol   \n",
       "1           MD        MD    A - Marked Patrol   \n",
       "2           MD        MD    A - Marked Patrol   \n",
       "3           MD        MD    A - Marked Patrol   \n",
       "4           MD        MD  B - Unmarked Patrol   \n",
       "\n",
       "                             Geolocation  stop-year stop-month  \n",
       "0  (39.0828166666667, -76.9477816666667)       2013         10  \n",
       "1          (38.98363, -77.0932716666667)       2015          9  \n",
       "2          (39.0874683333333, -77.07933)       2014          9  \n",
       "3          (39.1842116666667, -77.25514)       2015          7  \n",
       "4  (39.1658333333333, -77.2404016666667)       2015          5  \n",
       "\n",
       "[5 rows x 38 columns]"
      ]
     },
     "execution_count": 123,
     "metadata": {},
     "output_type": "execute_result"
    }
   ],
   "source": [
    "df.head()"
   ]
  },
  {
   "cell_type": "markdown",
   "metadata": {},
   "source": [
    "Calculate the Odds ratio of Property damage where the driver ins drunk. "
   ]
  },
  {
   "cell_type": "code",
   "execution_count": 124,
   "metadata": {
    "collapsed": false
   },
   "outputs": [
    {
     "data": {
      "text/html": [
       "<div>\n",
       "<table border=\"1\" class=\"dataframe\">\n",
       "  <thead>\n",
       "    <tr style=\"text-align: right;\">\n",
       "      <th>Alcohol</th>\n",
       "      <th>0</th>\n",
       "      <th>1</th>\n",
       "    </tr>\n",
       "    <tr>\n",
       "      <th>Property Damage</th>\n",
       "      <th></th>\n",
       "      <th></th>\n",
       "    </tr>\n",
       "  </thead>\n",
       "  <tbody>\n",
       "    <tr>\n",
       "      <th>0</th>\n",
       "      <td>534044</td>\n",
       "      <td>1045</td>\n",
       "    </tr>\n",
       "    <tr>\n",
       "      <th>1</th>\n",
       "      <td>9437</td>\n",
       "      <td>68</td>\n",
       "    </tr>\n",
       "  </tbody>\n",
       "</table>\n",
       "</div>"
      ],
      "text/plain": [
       "Alcohol               0     1\n",
       "Property Damage              \n",
       "0                534044  1045\n",
       "1                  9437    68"
      ]
     },
     "execution_count": 124,
     "metadata": {},
     "output_type": "execute_result"
    }
   ],
   "source": [
    "pd.crosstab(df['Property Damage'],df['Alcohol'])"
   ]
  },
  {
   "cell_type": "code",
   "execution_count": 125,
   "metadata": {
    "collapsed": false
   },
   "outputs": [],
   "source": [
    "od_p1=68.0/1045\n",
    "od_p2=9437.0/534044\n",
    "od_ratio= od_p1/od_p2"
   ]
  },
  {
   "cell_type": "code",
   "execution_count": 126,
   "metadata": {
    "collapsed": false
   },
   "outputs": [
    {
     "data": {
      "text/plain": [
       "3.682440237018799"
      ]
     },
     "execution_count": 126,
     "metadata": {},
     "output_type": "execute_result"
    }
   ],
   "source": [
    "od_ratio"
   ]
  },
  {
   "cell_type": "markdown",
   "metadata": {},
   "source": [
    "# The Odds of property damage are 3.6 times higher if the driver was drunk driving."
   ]
  },
  {
   "cell_type": "code",
   "execution_count": 127,
   "metadata": {
    "collapsed": true
   },
   "outputs": [],
   "source": [
    "df['violation'] = 1"
   ]
  },
  {
   "cell_type": "code",
   "execution_count": 299,
   "metadata": {
    "collapsed": true
   },
   "outputs": [],
   "source": [
    "df['intercept'] = 1.0"
   ]
  },
  {
   "cell_type": "code",
   "execution_count": 312,
   "metadata": {
    "collapsed": false
   },
   "outputs": [
    {
     "data": {
      "text/plain": [
       "Index([u'Unnamed: 0', u'Date Of Stop', u'Time Of Stop', u'Agency',\n",
       "       u'SubAgency', u'Description', u'Location', u'Latitude', u'Longitude',\n",
       "       u'Accident', u'Belts', u'Personal Injury', u'Property Damage', u'Fatal',\n",
       "       u'Commercial License', u'HAZMAT', u'Commercial Vehicle', u'Alcohol',\n",
       "       u'Work Zone', u'State', u'VehicleType', u'Year', u'Make', u'Model',\n",
       "       u'Color', u'Violation Type', u'Charge', u'Article',\n",
       "       u'Contributed To Accident', u'Race', u'Gender', u'Driver City',\n",
       "       u'Driver State', u'DL State', u'Arrest Type', u'Geolocation',\n",
       "       u'stop-year', u'stop-month', u'intercept'],\n",
       "      dtype='object')"
      ]
     },
     "execution_count": 312,
     "metadata": {},
     "output_type": "execute_result"
    }
   ],
   "source": [
    "df.columns"
   ]
  },
  {
   "cell_type": "code",
   "execution_count": 363,
   "metadata": {
    "collapsed": false
   },
   "outputs": [],
   "source": [
    "#df.columns[17]\n",
    "#train_cols=df.columns[17]\n",
    "train_cols1=df.loc[:,['Alcohol','Belts','HAZMAT','intercept']]\n",
    "train_cols=train_cols1.columns[:]\n",
    "#train_cols=df.columns[:\"Alcohol\":]\n",
    "#train_cols\n",
    "#train_cols.append(df.columns[14:19])"
   ]
  },
  {
   "cell_type": "code",
   "execution_count": 364,
   "metadata": {
    "collapsed": false
   },
   "outputs": [
    {
     "data": {
      "text/plain": [
       "Index([u'Alcohol', u'Belts', u'HAZMAT', u'intercept'], dtype='object')"
      ]
     },
     "execution_count": 364,
     "metadata": {},
     "output_type": "execute_result"
    }
   ],
   "source": [
    "train_cols"
   ]
  },
  {
   "cell_type": "code",
   "execution_count": null,
   "metadata": {
    "collapsed": true
   },
   "outputs": [],
   "source": []
  },
  {
   "cell_type": "code",
   "execution_count": 365,
   "metadata": {
    "collapsed": false
   },
   "outputs": [],
   "source": [
    "logit = sm.Logit(df['Property Damage'], df[train_cols])"
   ]
  },
  {
   "cell_type": "code",
   "execution_count": 366,
   "metadata": {
    "collapsed": false
   },
   "outputs": [
    {
     "name": "stdout",
     "output_type": "stream",
     "text": [
      "Optimization terminated successfully.\n",
      "         Current function value: 0.086339\n",
      "         Iterations 8\n"
     ]
    }
   ],
   "source": [
    "result = logit.fit()"
   ]
  },
  {
   "cell_type": "code",
   "execution_count": 328,
   "metadata": {
    "collapsed": false
   },
   "outputs": [
    {
     "name": "stdout",
     "output_type": "stream",
     "text": [
      "                           Logit Regression Results                           \n",
      "==============================================================================\n",
      "Dep. Variable:        Property Damage   No. Observations:               680743\n",
      "Model:                          Logit   Df Residuals:                   680739\n",
      "Method:                           MLE   Df Model:                            3\n",
      "Date:                Wed, 18 Jan 2017   Pseudo R-squ.:                 0.01697\n",
      "Time:                        20:49:59   Log-Likelihood:                -58775.\n",
      "converged:                       True   LL-Null:                       -59789.\n",
      "                                        LLR p-value:                     0.000\n",
      "==============================================================================\n",
      "                 coef    std err          z      P>|z|      [95.0% Conf. Int.]\n",
      "------------------------------------------------------------------------------\n",
      "Alcohol        1.4632      0.109     13.417      0.000         1.249     1.677\n",
      "Belts          1.4254      0.028     51.226      0.000         1.371     1.480\n",
      "HAZMAT         0.6362      0.594      1.070      0.284        -0.529     1.801\n",
      "intercept     -4.1457      0.010   -415.259      0.000        -4.165    -4.126\n",
      "==============================================================================\n"
     ]
    }
   ],
   "source": [
    "print result.summary()"
   ]
  },
  {
   "cell_type": "code",
   "execution_count": 138,
   "metadata": {
    "collapsed": false
   },
   "outputs": [
    {
     "name": "stdout",
     "output_type": "stream",
     "text": [
      "Alcohol    0.065657\n",
      "Belts      0.064409\n",
      "HAZMAT     0.038860\n",
      "dtype: float64\n"
     ]
    }
   ],
   "source": [
    "print np.exp(result.params)"
   ]
  },
  {
   "cell_type": "markdown",
   "metadata": {},
   "source": [
    "<script src=\"http://code.highcharts.com/highcharts.js\"></script>"
   ]
  },
  {
   "cell_type": "code",
   "execution_count": 164,
   "metadata": {
    "collapsed": false
   },
   "outputs": [
    {
     "data": {
      "text/html": [
       "<div id=\"chart_idAIfoncDe\"</div>\n",
       "    <script type=\"text/javascript\">new Highcharts.Chart({\"title\":{\"text\":\"Angel Deals By Sector\"},\"series\":[{\"data\":[101,256,337,382,217,347,190,413,246,398,178,256,224,440,273,275,323,237,205,380,276,234,303,243,187,302,225,387,136,393,335,308,255,311,431,373,411,484,278,247,238,384,165,297,181,255,299,241,279,154,519,579,148,296,310,537,137,190,483,435,149,242,429,749,242,461,400,535,290,413,318,442,295,297,205,570,266,257,388,749,78,296,201,455,113,313,177,440,139,323,178,506,278,175,269,376,339,197,304,403,301,246,228,188,240,171,475,409,126,207,388,595,163,407,301,450,256,174,363,438,200,309,592,327,261,223,313,352,295,241,327,340,343,202,285,673,141,317,376,642,95,418,311,454,253,296,466,562,362,332,349,455,175,275,430,461,309,241,249,409,281,245,402,502,116,344,420,807,83,487,350,484,294,346,7,566,346,389,225,342,407,384,319,135,200,319,272,162,349,180,443,394,171,306,446,414,141,322,450,338,188,346,371,342,392,471,407,159,353,377,334,141,341,233,268,308,202,236,443,405,164,379,474,608,179,290,363,456,272,433,522,638,352,357,420,378,179,345,422,310,230,202,408,163,383,139,234,47,385,144,362,316,344,308,618,360,93,405,177,412,266,308,462,444,289,282,484,320,414,207,290,453,564,188,269,563,441,127,291,644,606,274,303,579,530,303,422,315,658,382,470,588,307,363,553,409,420,241,282,263,699,175,352,250,903,129,272,537,706,241,388,401,628,358,419,575,381,334,321,457,345,287,399,350,435,261,252,359,566,137,235,536,678,165,169,336,699,198,399,428,525,395,388,532,529,355,385,463,390,392,346,227,299,354,253,127,524,179,142,628,578,136,340,580,552,215,352,575,590,370,384,501,494,355,321,420,550,432,443,341,318,450,420,343,513,207,278,293,547,195,451,707,366,339,409,467,404,137,438,608,525,97,352,628,403,101,361,347,467,158,341,317,578,196,263,508,454,165,367,287,623,276,399,715,628,379,300,626,440,201,288,655,387,389,193,392,374,304,226,283,558,246,198,570,732,121,405,517,554,188,369,618,468,450,295,520,640,379,244,535,351,310,334,310,518,481,261,407,490,264,266,474,456,284,227,250,545,449,252,180,513,467,300,546,408,353,225,421,366,403,351,264,317,377,260,350,526,344,306,429,609,352,346,788,589,300,175,447,529,415,344,599,473,553,429,630,299,662,500,265,253,542,226,320,409,327,232,340,530,290,341,549,396,187,574,721,572,498,436,344,496,583,442,342,395,529,380,268,418,440,255,319,675,259,240,584,575,236,447,786,661,216,550,717,375,671,566,597,693,468,401,683,435,559,404,326,413,524,294,229,461,350,361,323,479,207,422,583,416,314,558,706,541,453,477,306,513,458,494,753,411,489,469,363,502,360,296,310,330,284,185,431,479,281,370,558,477,360,484,498,425,491,494,380,613,350,361,497,409,512,284,340,372,461,433,216,477,297,275,356,756,230,214,578,691,427,432,378,517,305,308,313,700,497,253,421,417,517,418,299,370,393,372,250,528,186,234,489,668,245,297,475,444,307,456,511,426,400,314,431,516,440,363,604,272,333,249,296,189,379,195,276,330,245,111,349,487,184,162,537,531,198,256,311,315,352,217,375,400,225,246,375,231,218,129,272,371,266,248,321,323,70,163,401,453,80,216,496,403,229,433,344,447,264,252,363,545,219,315,380,299,293,443,277,432,383,366,241,311,221,155,541,334,178,239,676,457,249,344,541,509,386,396,462,529,306,283,485,349,348,241,324,353,404,201,223,514,190,180,301,444,194,279,459,583,353,465,492,489,423,401,539,524,319,349,517,466,320,364,402,315,299,221,354,342,101,254,489,526,171,353,466,477,234,392,593,419,239,401,509,418,399,390,482,300,294,470,335,293,483,316,236,430,214,250,384,621,198,452,470,504,352,481,435,438,414,314,470,453,293,382,486,377,311,382,321,376,342,201,231,410,201,265,378,383,142,443,589,471,235,480,553,459,266,388,497,582,384,312,453,450,510,341,295,442,244,249,240,487,227,316,257,596,195,341,231,712,310,377,486,578,261,511,438,641,399,317,428,350,384,570,331,262,306,261,310,476,215,168,400,512,148,318,566,511,339,451,515,440,387,458,356,410,409,439,369,311,304,328,213,494,292,179,270,284,221,213,495,601,209,355,651,615,288,486,543,534,276,292,498,466,355,358,454,406,347,423,289,382,383,210,224,508,231,216,305,741,243,290,577,509,252,601,606,501,571,617,533,547,394,612,696,405,563,524,274,426,453,319,311,383,333,223,286,538,210,398,342,589,325,384,471,463,340,429,483,526,287,480,544,349,293,379,307,337,297,249,245,357,228,201,372,556,202,317,472,358,250,512,474,504,153,380,373,507,195,402,466,464,301,391,280,316,251,144,232,380,225,207,470,596,174,270,618,595,325,499,442,419,445,323,190,491,278,409,496,449,278,416,344,390,342,322,305,441,235,287,455,324,159,334,614,314,402,410,453,362,215,354,476,295,311,332,527,349,306,250,274,363,295,223,384,576,224,181,434,668,145,233,424,534,283,438,585,568,362,247,521,470,449,107,501,331,370,107,264,306,330,143,369,538,284,200,380,524,284,406,664,510,248,463,335,515,514,399,543,483,421,379,410,239,316,411,323,301,217,184,317,426,305,142,479,812,207,424,546,651,469,497,333,509,480,399,570,590,464,365,508,277,431,479,350,227,424,283,386,461,298,253,425,654,231,313,650,238,45,472,412,479,138,339,447,591,307,275,536,247,294,309,322,356,429,224,333,394,350,231,540,536,243,219,583,649,348,348,406,443,405,410,371,468,386,360,500,307,365,344,413,365,344,342,325,435,347,282,499,394,228,243,464,508,152,367,432,477,294,382,377,441,324,314,459,415,373,414,331,375,454,269,236,630,317,196,286,542,227,465,511,469,378,363,592,436,487,437,716,532,409,369,663,470,214,353,507,406,247,333,388,550,255,227,493,829,426,356,781,684,387,170,362,344,284,299,337,418,355,227,436,411,393,286,311,298,392,272,391,270,214,307,466,396,164,328,229,476,263,420,555,568,480,379,663,343,450,469,543,388,342,252,295,322,405,338,337,536,332,199,402,790,187,166,358,499,337,232,552,383,389,429,515,439,296,326,528,351,430,349,447,424,421,302,282,174,318,268,341,142,178,378,460,274,249,444,367,343,423,383,488,467,449,445,422,519,225,434,440,440,234,436,265,432,277,350,302,580,258,221,237,322,115,288,134,296,87,79,132,223,89,236,192,234,233,329,321,341,284,322,224,266,225,246,322,334,195,346,491,547,273,382,363,617],\"name\":\"count\",\"yAxis\":0}],\"yAxis\":[{\"max\":1000,\"min\":0}],\"chart\":{\"polar\":true,\"renderTo\":\"chart_idAIfoncDe\",\"type\":\"line\"},\"xAxis\":{},\"legend\":{\"enabled\":true}});</script>"
      ],
      "text/plain": [
       "<IPython.core.display.HTML object>"
      ]
     },
     "metadata": {},
     "output_type": "display_data"
    }
   ],
   "source": [
    "import pandas_highcharts\n",
    "from pandas_highcharts.core import serialize\n",
    "from pandas_highcharts.display import display_charts\n",
    "\n",
    "#train_sub= train\n",
    "chart = serialize(df_date_stop_snt, render_to=\"my-chart\", title=\"My Chart\")\n",
    "display_charts(df_date_stop_snt, polar=True, kind='line', ylim=(0, 1000), title='Angel Deals By Sector')\n"
   ]
  },
  {
   "cell_type": "code",
   "execution_count": 273,
   "metadata": {
    "collapsed": false
   },
   "outputs": [
    {
     "name": "stdout",
     "output_type": "stream",
     "text": [
      "   Unnamed: 0 Date Of Stop Time Of Stop Agency  \\\n",
      "0           1   12/20/2012     00:41:00    MCP   \n",
      "1           2   07/20/2012     23:12:00    MCP   \n",
      "2           3   03/19/2012     16:10:00    MCP   \n",
      "3           4   12/01/2014     12:52:00    MCP   \n",
      "4           5   06/09/2012     21:19:00    MCP   \n",
      "\n",
      "                                         SubAgency  \\\n",
      "0                           2nd district, Bethesda   \n",
      "1                         5th district, Germantown   \n",
      "2                           2nd district, Bethesda   \n",
      "3  6th district, Gaithersburg / Montgomery Village   \n",
      "4                      3rd district, Silver Spring   \n",
      "\n",
      "                                         Description  \\\n",
      "0                  DRIVING WHILE IMPAIRED BY ALCOHOL   \n",
      "1                       FAILURE TO STOP AT STOP SIGN   \n",
      "2  DRIVER USING HANDS TO USE HANDHELD TELEPHONE W...   \n",
      "3                 FAILURE STOP AND YIELD AT THRU HWY   \n",
      "4       OCCUPANT UNDER 16 NOT RESTRAINED BY SEATBELT   \n",
      "\n",
      "                                 Location   Latitude  Longitude  Accident  \\\n",
      "0              NORFOLK AVE /  ST ELMO AVE  38.983578 -77.093105         0   \n",
      "1         WISTERIA DR @ WARING STATION RD  39.161810 -77.253581         0   \n",
      "2               CLARENDON RD @ ELM ST. N/  38.982731 -77.100755         0   \n",
      "3  CHRISTOPHER AVE/MONTGOMERY VILLAGE AVE  39.162888 -77.229088         0   \n",
      "4                  2068 HARLEQUIN TERRACE  39.069143 -76.969678         0   \n",
      "\n",
      "     ...      Contributed To Accident      Race  Gender     Driver City  \\\n",
      "0    ...                            0     WHITE       M         DERWOOD   \n",
      "1    ...                            0     ASIAN       F      GERMANTOWN   \n",
      "2    ...                            0  HISPANIC       M       ARLINGTON   \n",
      "3    ...                            0     BLACK       F  UPPER MARLBORO   \n",
      "4    ...                            0     WHITE       F   SILVER SPRING   \n",
      "\n",
      "  Driver State  DL State        Arrest Type  \\\n",
      "0           MD        MD  A - Marked Patrol   \n",
      "1           MD        MD  A - Marked Patrol   \n",
      "2           VA        VA  A - Marked Patrol   \n",
      "3           MD        MD  A - Marked Patrol   \n",
      "4           MD        MD  A - Marked Patrol   \n",
      "\n",
      "                             Geolocation  stop-year stop-month  \n",
      "0             (38.9835782, -77.09310515)       2012         12  \n",
      "1       (39.1618098166667, -77.25358095)       2012          7  \n",
      "2  (38.9827307333333, -77.1007551666667)       2012          3  \n",
      "3  (39.1628883333333, -77.2290883333333)       2014         12  \n",
      "4       (39.06914295, -76.9696780666667)       2012          6  \n",
      "\n",
      "[5 rows x 38 columns]\n"
     ]
    },
    {
     "data": {
      "text/plain": [
       "Index([u'Unnamed: 0', u'Date Of Stop', u'Time Of Stop', u'Agency',\n",
       "       u'SubAgency', u'Description', u'Location', u'Latitude', u'Longitude',\n",
       "       u'Accident', u'Belts', u'Personal Injury', u'Property Damage', u'Fatal',\n",
       "       u'Commercial License', u'HAZMAT', u'Commercial Vehicle', u'Alcohol',\n",
       "       u'Work Zone', u'State', u'VehicleType', u'Year', u'Make', u'Model',\n",
       "       u'Color', u'Violation Type', u'Charge', u'Article',\n",
       "       u'Contributed To Accident', u'Race', u'Gender', u'Driver City',\n",
       "       u'Driver State', u'DL State', u'Arrest Type', u'Geolocation',\n",
       "       u'stop-year', u'stop-month'],\n",
       "      dtype='object')"
      ]
     },
     "execution_count": 273,
     "metadata": {},
     "output_type": "execute_result"
    }
   ],
   "source": [
    "df_ts_train = pd.read_csv('/Users/yogini/Downloads/Traffic_Violations_train_timeseries.csv')\n",
    "df_ts_train_na = df_ts_train.dropna() \n",
    "print df_ts_train.head()\n",
    "df_ts_train.columns"
   ]
  },
  {
   "cell_type": "code",
   "execution_count": 293,
   "metadata": {
    "collapsed": false
   },
   "outputs": [
    {
     "name": "stdout",
     "output_type": "stream",
     "text": [
      "   Unnamed: 0 Date Of Stop Time Of Stop Agency                    SubAgency  \\\n",
      "0         267   03/07/2016     15:28:00    MCP      1st district, Rockville   \n",
      "1         269   02/20/2016     05:17:00    MCP  3rd district, Silver Spring   \n",
      "2         296   01/13/2016     19:36:00    MCP        4th district, Wheaton   \n",
      "3         304   02/19/2016     00:14:00    MCP       2nd district, Bethesda   \n",
      "4         341   03/04/2016     07:13:00    MCP        4th district, Wheaton   \n",
      "\n",
      "                                         Description  \\\n",
      "0  HOLDER OF LEARNER'S PERMIT DRIVING W/O REQ. SU...   \n",
      "1                  DRIVER CHANGING LANES WHEN UNSAFE   \n",
      "2  PERSON DRIVING MOTOR VEHICLE ON HIGHWAY OR PUB...   \n",
      "3  PERSON DRIVING MOTOR VEHICLE ON HIGHWAY OR PUB...   \n",
      "4  PERSON DRIVING MOTOR VEHICLE ON HIGHWAY OR PUB...   \n",
      "\n",
      "                           Location   Latitude  Longitude  Accident  \\\n",
      "0               16411 SHADYGROVE RD  39.124695 -77.175415         0   \n",
      "1  NEW HAMPSHIRE AVE /COLUMBIA PIKE  39.049767 -76.993143         0   \n",
      "2       VEIRS MILL RD/ASPEN HILL RD  39.068510 -77.103990         0   \n",
      "3         EAST WEST HWY/EDGEVALE ST  38.987847 -77.076703         0   \n",
      "4           GEORGIA AVE/ ARVOLA AVE  39.047107 -77.050747         0   \n",
      "\n",
      "     ...      Contributed To Accident      Race  Gender    Driver City  \\\n",
      "0    ...                            0     BLACK       F     GERMANTOWN   \n",
      "1    ...                            0     ASIAN       M       ELKRIDGE   \n",
      "2    ...                            0     WHITE       M  SILVER SPRING   \n",
      "3    ...                            0     BLACK       M    HYATTSVILLE   \n",
      "4    ...                            0  HISPANIC       M  SILVER SPRING   \n",
      "\n",
      "  Driver State  DL State        Arrest Type  \\\n",
      "0           MD        MD  A - Marked Patrol   \n",
      "1           MD        NY  A - Marked Patrol   \n",
      "2           MD        MD  A - Marked Patrol   \n",
      "3           MD        MD   Q - Marked Laser   \n",
      "4           MD        MD  A - Marked Patrol   \n",
      "\n",
      "                             Geolocation  stop-year stop-month  \n",
      "0                (39.124695, -77.175415)       2016          3  \n",
      "1  (39.0497666666667, -76.9931433333333)       2016          2  \n",
      "2                  (39.06851, -77.10399)       2016          1  \n",
      "3  (38.9878466666667, -77.0767033333333)       2016          2  \n",
      "4  (39.0471066666667, -77.0507466666667)       2016          3  \n",
      "\n",
      "[5 rows x 38 columns]\n"
     ]
    },
    {
     "data": {
      "text/plain": [
       "Index([u'Unnamed: 0', u'Date Of Stop', u'Time Of Stop', u'Agency',\n",
       "       u'SubAgency', u'Description', u'Location', u'Latitude', u'Longitude',\n",
       "       u'Accident', u'Belts', u'Personal Injury', u'Property Damage', u'Fatal',\n",
       "       u'Commercial License', u'HAZMAT', u'Commercial Vehicle', u'Alcohol',\n",
       "       u'Work Zone', u'State', u'VehicleType', u'Year', u'Make', u'Model',\n",
       "       u'Color', u'Violation Type', u'Charge', u'Article',\n",
       "       u'Contributed To Accident', u'Race', u'Gender', u'Driver City',\n",
       "       u'Driver State', u'DL State', u'Arrest Type', u'Geolocation',\n",
       "       u'stop-year', u'stop-month'],\n",
       "      dtype='object')"
      ]
     },
     "execution_count": 293,
     "metadata": {},
     "output_type": "execute_result"
    }
   ],
   "source": []
  },
  {
   "cell_type": "code",
   "execution_count": 295,
   "metadata": {
    "collapsed": false
   },
   "outputs": [
    {
     "ename": "TypeError",
     "evalue": "Only valid with DatetimeIndex, TimedeltaIndex or PeriodIndex, but got an instance of 'RangeIndex'",
     "output_type": "error",
     "traceback": [
      "\u001b[0;31m---------------------------------------------------------------------------\u001b[0m",
      "\u001b[0;31mTypeError\u001b[0m                                 Traceback (most recent call last)",
      "\u001b[0;32m<ipython-input-295-89a7a654d0b6>\u001b[0m in \u001b[0;36m<module>\u001b[0;34m()\u001b[0m\n\u001b[1;32m      1\u001b[0m \u001b[0mdf_dat_tt\u001b[0m\u001b[0;34m=\u001b[0m\u001b[0mdf_ts_test_na\u001b[0m\u001b[0;34m.\u001b[0m\u001b[0mgroupby\u001b[0m\u001b[0;34m(\u001b[0m\u001b[0;34m[\u001b[0m\u001b[0;34m\"Date Of Stop\"\u001b[0m\u001b[0;34m]\u001b[0m\u001b[0;34m)\u001b[0m\u001b[0;34m.\u001b[0m\u001b[0msize\u001b[0m\u001b[0;34m(\u001b[0m\u001b[0;34m)\u001b[0m\u001b[0;34m.\u001b[0m\u001b[0mreset_index\u001b[0m\u001b[0;34m(\u001b[0m\u001b[0mname\u001b[0m\u001b[0;34m=\u001b[0m\u001b[0;34m'count'\u001b[0m\u001b[0;34m)\u001b[0m\u001b[0;34m\u001b[0m\u001b[0m\n\u001b[0;32m----> 2\u001b[0;31m \u001b[0mdf_dat_tt_1\u001b[0m \u001b[0;34m=\u001b[0m \u001b[0mdf_dat_tt\u001b[0m\u001b[0;34m[\u001b[0m\u001b[0;34m[\u001b[0m\u001b[0;34m'count'\u001b[0m\u001b[0;34m]\u001b[0m\u001b[0;34m]\u001b[0m\u001b[0;34m.\u001b[0m\u001b[0mresample\u001b[0m\u001b[0;34m(\u001b[0m\u001b[0;34m'M'\u001b[0m\u001b[0;34m,\u001b[0m \u001b[0;34m'sum'\u001b[0m\u001b[0;34m)\u001b[0m\u001b[0;34m\u001b[0m\u001b[0m\n\u001b[0m\u001b[1;32m      3\u001b[0m \u001b[0mdf_dat_tt_1\u001b[0m\u001b[0;34m.\u001b[0m\u001b[0mhead\u001b[0m\u001b[0;34m(\u001b[0m\u001b[0;34m)\u001b[0m\u001b[0;34m\u001b[0m\u001b[0m\n",
      "\u001b[0;32m//anaconda/lib/python2.7/site-packages/pandas/core/generic.pyc\u001b[0m in \u001b[0;36mresample\u001b[0;34m(self, rule, how, axis, fill_method, closed, label, convention, kind, loffset, limit, base, on, level)\u001b[0m\n\u001b[1;32m   4210\u001b[0m                      \u001b[0maxis\u001b[0m\u001b[0;34m=\u001b[0m\u001b[0maxis\u001b[0m\u001b[0;34m,\u001b[0m \u001b[0mkind\u001b[0m\u001b[0;34m=\u001b[0m\u001b[0mkind\u001b[0m\u001b[0;34m,\u001b[0m \u001b[0mloffset\u001b[0m\u001b[0;34m=\u001b[0m\u001b[0mloffset\u001b[0m\u001b[0;34m,\u001b[0m\u001b[0;34m\u001b[0m\u001b[0m\n\u001b[1;32m   4211\u001b[0m                      \u001b[0mconvention\u001b[0m\u001b[0;34m=\u001b[0m\u001b[0mconvention\u001b[0m\u001b[0;34m,\u001b[0m\u001b[0;34m\u001b[0m\u001b[0m\n\u001b[0;32m-> 4212\u001b[0;31m                      base=base, key=on, level=level)\n\u001b[0m\u001b[1;32m   4213\u001b[0m         return _maybe_process_deprecations(r,\n\u001b[1;32m   4214\u001b[0m                                            \u001b[0mhow\u001b[0m\u001b[0;34m=\u001b[0m\u001b[0mhow\u001b[0m\u001b[0;34m,\u001b[0m\u001b[0;34m\u001b[0m\u001b[0m\n",
      "\u001b[0;32m//anaconda/lib/python2.7/site-packages/pandas/tseries/resample.pyc\u001b[0m in \u001b[0;36mresample\u001b[0;34m(obj, kind, **kwds)\u001b[0m\n\u001b[1;32m    942\u001b[0m     \u001b[0;34m\"\"\" create a TimeGrouper and return our resampler \"\"\"\u001b[0m\u001b[0;34m\u001b[0m\u001b[0m\n\u001b[1;32m    943\u001b[0m     \u001b[0mtg\u001b[0m \u001b[0;34m=\u001b[0m \u001b[0mTimeGrouper\u001b[0m\u001b[0;34m(\u001b[0m\u001b[0;34m**\u001b[0m\u001b[0mkwds\u001b[0m\u001b[0;34m)\u001b[0m\u001b[0;34m\u001b[0m\u001b[0m\n\u001b[0;32m--> 944\u001b[0;31m     \u001b[0;32mreturn\u001b[0m \u001b[0mtg\u001b[0m\u001b[0;34m.\u001b[0m\u001b[0m_get_resampler\u001b[0m\u001b[0;34m(\u001b[0m\u001b[0mobj\u001b[0m\u001b[0;34m,\u001b[0m \u001b[0mkind\u001b[0m\u001b[0;34m=\u001b[0m\u001b[0mkind\u001b[0m\u001b[0;34m)\u001b[0m\u001b[0;34m\u001b[0m\u001b[0m\n\u001b[0m\u001b[1;32m    945\u001b[0m \u001b[0mresample\u001b[0m\u001b[0;34m.\u001b[0m\u001b[0m__doc__\u001b[0m \u001b[0;34m=\u001b[0m \u001b[0mResampler\u001b[0m\u001b[0;34m.\u001b[0m\u001b[0m__doc__\u001b[0m\u001b[0;34m\u001b[0m\u001b[0m\n\u001b[1;32m    946\u001b[0m \u001b[0;34m\u001b[0m\u001b[0m\n",
      "\u001b[0;32m//anaconda/lib/python2.7/site-packages/pandas/tseries/resample.pyc\u001b[0m in \u001b[0;36m_get_resampler\u001b[0;34m(self, obj, kind)\u001b[0m\n\u001b[1;32m   1055\u001b[0m         raise TypeError(\"Only valid with DatetimeIndex, \"\n\u001b[1;32m   1056\u001b[0m                         \u001b[0;34m\"TimedeltaIndex or PeriodIndex, \"\u001b[0m\u001b[0;34m\u001b[0m\u001b[0m\n\u001b[0;32m-> 1057\u001b[0;31m                         \"but got an instance of %r\" % type(ax).__name__)\n\u001b[0m\u001b[1;32m   1058\u001b[0m \u001b[0;34m\u001b[0m\u001b[0m\n\u001b[1;32m   1059\u001b[0m     \u001b[0;32mdef\u001b[0m \u001b[0m_get_grouper\u001b[0m\u001b[0;34m(\u001b[0m\u001b[0mself\u001b[0m\u001b[0;34m,\u001b[0m \u001b[0mobj\u001b[0m\u001b[0;34m)\u001b[0m\u001b[0;34m:\u001b[0m\u001b[0;34m\u001b[0m\u001b[0m\n",
      "\u001b[0;31mTypeError\u001b[0m: Only valid with DatetimeIndex, TimedeltaIndex or PeriodIndex, but got an instance of 'RangeIndex'"
     ]
    }
   ],
   "source": []
  },
  {
   "cell_type": "code",
   "execution_count": 274,
   "metadata": {
    "collapsed": false
   },
   "outputs": [],
   "source": [
    "df_date_stop_snt= df_ts_train_na.groupby([\"Date Of Stop\"]).size().reset_index(name='count')"
   ]
  },
  {
   "cell_type": "code",
   "execution_count": 275,
   "metadata": {
    "collapsed": false
   },
   "outputs": [
    {
     "data": {
      "text/html": [
       "<div id=\"chart_idzxSgvava\"</div>\n",
       "    <script type=\"text/javascript\">new Highcharts.Chart({\"title\":{\"text\":\"my first test\"},\"series\":[{\"data\":[130,333,438,481,263,462,243,527,287,499,220,316,280,552,341,358,394,299,256,490,331,282,380,309,226,388,269,465,177,491,413,392,317,400,553,466,516,598,344,311,300,478,208,365,223,321,391,301,357,200,651,734,182,363,391,681,174,225,609,508,173,304,537,946,297,574,501,681,360,524,401,541,359,382,254,696,330,311,481,933,109,371,258,567,149,384,228,565,177,419,224,624,350,211,346,459,436,246,390,510,363,297,268,235,299,208,592,514,154,257,504,777,209,494,374,583,319,220,430,561,255,376,743,427,307,287,398,448,370,296,404,423,432,253,354,830,170,403,477,829,118,519,387,572,304,365,583,709,470,406,429,576,230,343,517,578,391,315,305,512,362,304,510,626,148,433,523,1019,106,637,436,585,358,430,11,696,416,469,290,421,518,479,380,158,243,389,335,191,436,230,549,507,215,374,540,500,176,420,550,423,235,443,459,429,495,598,490,190,444,478,432,174,412,307,339,397,235,284,568,497,201,492,602,741,212,367,452,567,341,525,642,805,457,443,517,471,217,442,526,392,282,252,515,211,482,172,287,55,481,185,435,391,418,395,764,467,118,512,205,511,336,370,597,552,369,361,612,393,481,267,375,579,699,230,332,721,547,166,370,782,754,341,389,728,655,404,551,391,785,454,597,715,395,450,691,504,543,299,348,336,857,221,447,318,1144,168,323,675,895,295,486,511,789,426,528,750,488,412,383,556,437,373,501,433,538,332,302,439,711,174,297,662,855,200,206,431,886,245,497,542,647,503,506,676,646,431,458,581,481,489,442,282,385,433,332,151,674,214,177,785,722,176,428,753,708,281,438,732,741,463,473,604,603,458,387,533,680,549,548,434,408,547,528,432,645,273,352,364,686,239,578,866,453,437,492,560,512,158,544,772,647,128,416,779,527,122,440,435,588,177,414,410,740,246,354,632,576,215,455,356,761,335,495,875,785,499,394,799,541,247,359,828,499,489,250,491,452,379,268,354,691,319,249,685,914,157,507,648,710,243,453,770,587,544,360,658,817,468,304,671,444,390,409,398,651,574,342,493,620,325,334,607,562,366,280,324,676,556,312,221,619,592,363,689,510,451,289,533,460,522,421,342,405,486,335,455,651,431,381,539,766,444,438,966,714,386,215,555,651,531,437,754,597,686,535,802,367,791,623,344,301,685,267,395,525,424,307,420,665,354,428,696,489,239,716,885,710,608,528,424,639,734,542,422,519,663,459,330,522,556,328,393,838,331,297,742,736,289,580,998,805,280,695,887,466,841,733,741,879,584,492,861,542,685,500,378,507,663,353,298,549,430,435,413,593,259,522,738,534,404,683,860,679,556,599,382,642,572,622,943,527,601,594,465,614,440,372,391,415,360,229,535,608,340,449,703,603,452,598,622,545,607,616,464,752,451,467,647,525,628,356,423,473,581,537,254,607,363,336,435,931,291,269,724,852,524,526,458,633,391,371,384,869,595,318,513,522,627,513,376,463,475,447,314,673,231,287,618,852,300,380,606,548,367,581,647,523,487,417,529,650,562,458,746,347,413,309,361,225,471,240,333,415,292,133,422,617,226,202,671,676,248,315,383,386,446,275,470,503,271,315,467,281,287,167,352,453,337,306,402,418,92,198,505,543,94,270,605,502,283,520,430,548,322,317,454,677,284,398,476,387,360,539,356,546,458,459,307,379,276,194,685,426,213,305,838,595,296,431,678,623,501,485,581,631,368,353,611,445,444,301,399,437,493,253,284,665,239,236,378,571,249,360,558,735,443,564,626,621,536,488,654,659,412,429,659,600,405,458,519,392,380,264,447,426,123,340,609,670,214,428,595,600,304,501,741,511,324,495,648,516,510,480,594,389,366,590,416,360,579,397,298,530,266,305,477,762,251,561,586,621,432,607,536,561,496,396,579,563,371,475,600,474,391,475,403,475,432,234,286,506,256,355,454,488,176,555,739,585,291,582,713,579,328,489,623,743,493,391,575,556,617,434,361,556,313,328,293,595,296,399,314,761,242,439,290,874,377,456,618,721,340,641,546,797,483,394,511,440,500,686,416,328,402,315,411,599,275,207,494,681,192,395,699,647,430,594,650,560,476,549,443,537,493,561,461,370,368,409,275,597,374,225,347,368,281,260,661,739,272,438,806,767,351,623,683,668,338,369,627,581,442,462,598,518,445,522,353,479,474,274,292,624,293,281,367,918,309,359,704,635,328,759,733,640,710,754,678,684,478,745,841,512,696,686,353,512,536,391,409,479,422,268,366,654,260,509,451,740,412,472,598,584,434,541,629,639,360,606,696,449,346,481,386,416,383,304,314,445,286,244,493,683,245,405,586,465,299,642,589,624,194,464,468,618,249,521,576,593,385,493,347,404,311,177,289,500,284,269,591,732,213,336,805,745,406,619,540,524,549,394,245,644,351,491,612,553,357,527,429,467,439,391,388,545,292,345,581,421,192,417,768,386,508,523,567,430,265,439,600,350,403,398,648,444,389,326,346,459,371,266,489,727,263,235,548,815,178,277,534,683,348,530,721,703,466,303,652,588,550,129,615,395,460,138,335,389,408,183,450,666,359,238,474,667,354,508,821,613,305,566,422,629,620,500,681,617,523,481,520,292,391,528,406,369,286,225,389,522,379,178,600,999,277,517,664,800,574,612,426,645,602,512,703,750,587,459,624,359,557,588,444,283,553,368,485,590,377,327,528,800,287,390,824,309,53,557,510,598,167,436,547,716,376,340,704,308,371,392,394,442,525,271,438,499,435,288,680,686,304,287,718,828,433,434,504,542,513,504,469,602,476,446,608,385,461,433,524,455,416,421,401,552,457,356,619,490,269,313,586,624,193,446,544,599,382,481,478,562,418,409,559,502,457,519,408,467,534,330,279,799,400,234,333,676,287,595,634,574,465,456,726,546,593,544,875,671,496,467,830,599,263,429,630,510,295,409,490,671,324,295,617,1030,509,439,974,858,483,208,462,438,365,380,412,527,425,284,539,526,488,349,411,371,497,358,476,338,274,399,594,492,214,417,277,592,327,531,700,695,603,458,838,437,550,570,678,486,422,330,391,401,515,432,424,679,412,235,503,1000,230,196,463,656,423,281,662,473,501,518,661,562,379,413,664,446,539,448,572,523,540,367,363,233,404,361,434,165,230,486,567,342,313,564,459,430,523,475,604,584,560,546,505,638,280,555,547,545,287,565,338,541,351,428,381,702,332,281,308,393,145,359,172,364,106,100,167,277,121,288,230,292,297,401,413,412,357,420,290,329,273,309,392,428,236,440,600,658,338,479,472,778],\"name\":\"count\",\"yAxis\":0}],\"yAxis\":[{\"max\":1000,\"min\":0}],\"chart\":{\"polar\":true,\"renderTo\":\"chart_idzxSgvava\",\"type\":\"line\"},\"xAxis\":{},\"legend\":{\"enabled\":true}});</script>"
      ],
      "text/plain": [
       "<IPython.core.display.HTML object>"
      ]
     },
     "metadata": {},
     "output_type": "display_data"
    }
   ],
   "source": [
    "#df_date_stop_snt = df_date_stop_snt.set_index(\"Date Of Stop\")\n",
    "display_charts(df_date_stop_snt,polar=True,kind='line',ylim=(0, 1000), title=\"my first test\")\n"
   ]
  },
  {
   "cell_type": "code",
   "execution_count": 276,
   "metadata": {
    "collapsed": false
   },
   "outputs": [
    {
     "data": {
      "text/plain": [
       "Index([u'Date Of Stop', u'count'], dtype='object')"
      ]
     },
     "execution_count": 276,
     "metadata": {},
     "output_type": "execute_result"
    }
   ],
   "source": [
    "df_date_stop_snt.columns"
   ]
  },
  {
   "cell_type": "code",
   "execution_count": 277,
   "metadata": {
    "collapsed": false
   },
   "outputs": [
    {
     "data": {
      "text/html": [
       "<div>\n",
       "<table border=\"1\" class=\"dataframe\">\n",
       "  <thead>\n",
       "    <tr style=\"text-align: right;\">\n",
       "      <th></th>\n",
       "      <th>Date Of Stop</th>\n",
       "      <th>count</th>\n",
       "    </tr>\n",
       "  </thead>\n",
       "  <tbody>\n",
       "    <tr>\n",
       "      <th>0</th>\n",
       "      <td>2012-01-01</td>\n",
       "      <td>130</td>\n",
       "    </tr>\n",
       "    <tr>\n",
       "      <th>1</th>\n",
       "      <td>2013-01-01</td>\n",
       "      <td>333</td>\n",
       "    </tr>\n",
       "    <tr>\n",
       "      <th>2</th>\n",
       "      <td>2014-01-01</td>\n",
       "      <td>438</td>\n",
       "    </tr>\n",
       "    <tr>\n",
       "      <th>3</th>\n",
       "      <td>2015-01-01</td>\n",
       "      <td>481</td>\n",
       "    </tr>\n",
       "    <tr>\n",
       "      <th>4</th>\n",
       "      <td>2012-01-02</td>\n",
       "      <td>263</td>\n",
       "    </tr>\n",
       "  </tbody>\n",
       "</table>\n",
       "</div>"
      ],
      "text/plain": [
       "  Date Of Stop  count\n",
       "0   2012-01-01    130\n",
       "1   2013-01-01    333\n",
       "2   2014-01-01    438\n",
       "3   2015-01-01    481\n",
       "4   2012-01-02    263"
      ]
     },
     "execution_count": 277,
     "metadata": {},
     "output_type": "execute_result"
    }
   ],
   "source": [
    "#df_date_stop_snt['Date Of Stop'] = df_date_stop_snt['Date Of Stop'].astype(\"datetime64[ns]\")\n",
    "#df_date_stop_snt = df_date_stop_snt.set_index(\"Date Of Stop\")\n",
    "df_date_stop_snt['Date Of Stop']=pd.to_datetime(df_date_stop_snt['Date Of Stop'])\n",
    "\n",
    "df_date_stop_snt.head()"
   ]
  },
  {
   "cell_type": "code",
   "execution_count": 278,
   "metadata": {
    "collapsed": false
   },
   "outputs": [],
   "source": [
    "df_freq = pd.DataFrame({\"Date Of Stop\" : df_date_stop_snt[\"Date Of Stop\"], \"count\" : df_date_stop_snt[\"count\"]})"
   ]
  },
  {
   "cell_type": "code",
   "execution_count": 279,
   "metadata": {
    "collapsed": false
   },
   "outputs": [
    {
     "data": {
      "text/html": [
       "<div>\n",
       "<table border=\"1\" class=\"dataframe\">\n",
       "  <thead>\n",
       "    <tr style=\"text-align: right;\">\n",
       "      <th></th>\n",
       "      <th>Date Of Stop</th>\n",
       "      <th>count</th>\n",
       "    </tr>\n",
       "  </thead>\n",
       "  <tbody>\n",
       "    <tr>\n",
       "      <th>0</th>\n",
       "      <td>2012-01-01</td>\n",
       "      <td>130</td>\n",
       "    </tr>\n",
       "    <tr>\n",
       "      <th>1</th>\n",
       "      <td>2013-01-01</td>\n",
       "      <td>333</td>\n",
       "    </tr>\n",
       "    <tr>\n",
       "      <th>2</th>\n",
       "      <td>2014-01-01</td>\n",
       "      <td>438</td>\n",
       "    </tr>\n",
       "    <tr>\n",
       "      <th>3</th>\n",
       "      <td>2015-01-01</td>\n",
       "      <td>481</td>\n",
       "    </tr>\n",
       "    <tr>\n",
       "      <th>4</th>\n",
       "      <td>2012-01-02</td>\n",
       "      <td>263</td>\n",
       "    </tr>\n",
       "  </tbody>\n",
       "</table>\n",
       "</div>"
      ],
      "text/plain": [
       "  Date Of Stop  count\n",
       "0   2012-01-01    130\n",
       "1   2013-01-01    333\n",
       "2   2014-01-01    438\n",
       "3   2015-01-01    481\n",
       "4   2012-01-02    263"
      ]
     },
     "execution_count": 279,
     "metadata": {},
     "output_type": "execute_result"
    }
   ],
   "source": [
    "df_freq.head()"
   ]
  },
  {
   "cell_type": "code",
   "execution_count": 280,
   "metadata": {
    "collapsed": false
   },
   "outputs": [],
   "source": [
    "\n",
    "df_freq['Date Of Stop']=pd.to_datetime(df_freq[\"Date Of Stop\"])\n",
    "#df_freq = df_freq.set_index(\"Date Of Stop\")\n",
    "#df_freq.head()"
   ]
  },
  {
   "cell_type": "code",
   "execution_count": 281,
   "metadata": {
    "collapsed": true
   },
   "outputs": [],
   "source": [
    "df_freq = df_freq.set_index(\"Date Of Stop\")"
   ]
  },
  {
   "cell_type": "code",
   "execution_count": 282,
   "metadata": {
    "collapsed": false
   },
   "outputs": [
    {
     "data": {
      "text/html": [
       "<div>\n",
       "<table border=\"1\" class=\"dataframe\">\n",
       "  <thead>\n",
       "    <tr style=\"text-align: right;\">\n",
       "      <th></th>\n",
       "      <th>count</th>\n",
       "    </tr>\n",
       "    <tr>\n",
       "      <th>Date Of Stop</th>\n",
       "      <th></th>\n",
       "    </tr>\n",
       "  </thead>\n",
       "  <tbody>\n",
       "    <tr>\n",
       "      <th>2012-01-01</th>\n",
       "      <td>130</td>\n",
       "    </tr>\n",
       "    <tr>\n",
       "      <th>2013-01-01</th>\n",
       "      <td>333</td>\n",
       "    </tr>\n",
       "    <tr>\n",
       "      <th>2014-01-01</th>\n",
       "      <td>438</td>\n",
       "    </tr>\n",
       "    <tr>\n",
       "      <th>2015-01-01</th>\n",
       "      <td>481</td>\n",
       "    </tr>\n",
       "    <tr>\n",
       "      <th>2012-01-02</th>\n",
       "      <td>263</td>\n",
       "    </tr>\n",
       "    <tr>\n",
       "      <th>2013-01-02</th>\n",
       "      <td>462</td>\n",
       "    </tr>\n",
       "    <tr>\n",
       "      <th>2014-01-02</th>\n",
       "      <td>243</td>\n",
       "    </tr>\n",
       "    <tr>\n",
       "      <th>2015-01-02</th>\n",
       "      <td>527</td>\n",
       "    </tr>\n",
       "    <tr>\n",
       "      <th>2012-01-03</th>\n",
       "      <td>287</td>\n",
       "    </tr>\n",
       "    <tr>\n",
       "      <th>2013-01-03</th>\n",
       "      <td>499</td>\n",
       "    </tr>\n",
       "    <tr>\n",
       "      <th>2014-01-03</th>\n",
       "      <td>220</td>\n",
       "    </tr>\n",
       "    <tr>\n",
       "      <th>2015-01-03</th>\n",
       "      <td>316</td>\n",
       "    </tr>\n",
       "    <tr>\n",
       "      <th>2012-01-04</th>\n",
       "      <td>280</td>\n",
       "    </tr>\n",
       "    <tr>\n",
       "      <th>2013-01-04</th>\n",
       "      <td>552</td>\n",
       "    </tr>\n",
       "    <tr>\n",
       "      <th>2014-01-04</th>\n",
       "      <td>341</td>\n",
       "    </tr>\n",
       "    <tr>\n",
       "      <th>2015-01-04</th>\n",
       "      <td>358</td>\n",
       "    </tr>\n",
       "    <tr>\n",
       "      <th>2012-01-05</th>\n",
       "      <td>394</td>\n",
       "    </tr>\n",
       "    <tr>\n",
       "      <th>2013-01-05</th>\n",
       "      <td>299</td>\n",
       "    </tr>\n",
       "    <tr>\n",
       "      <th>2014-01-05</th>\n",
       "      <td>256</td>\n",
       "    </tr>\n",
       "    <tr>\n",
       "      <th>2015-01-05</th>\n",
       "      <td>490</td>\n",
       "    </tr>\n",
       "    <tr>\n",
       "      <th>2012-01-06</th>\n",
       "      <td>331</td>\n",
       "    </tr>\n",
       "    <tr>\n",
       "      <th>2013-01-06</th>\n",
       "      <td>282</td>\n",
       "    </tr>\n",
       "    <tr>\n",
       "      <th>2014-01-06</th>\n",
       "      <td>380</td>\n",
       "    </tr>\n",
       "    <tr>\n",
       "      <th>2015-01-06</th>\n",
       "      <td>309</td>\n",
       "    </tr>\n",
       "    <tr>\n",
       "      <th>2012-01-07</th>\n",
       "      <td>226</td>\n",
       "    </tr>\n",
       "    <tr>\n",
       "      <th>2013-01-07</th>\n",
       "      <td>388</td>\n",
       "    </tr>\n",
       "    <tr>\n",
       "      <th>2014-01-07</th>\n",
       "      <td>269</td>\n",
       "    </tr>\n",
       "    <tr>\n",
       "      <th>2015-01-07</th>\n",
       "      <td>465</td>\n",
       "    </tr>\n",
       "    <tr>\n",
       "      <th>2012-01-08</th>\n",
       "      <td>177</td>\n",
       "    </tr>\n",
       "    <tr>\n",
       "      <th>2013-01-08</th>\n",
       "      <td>491</td>\n",
       "    </tr>\n",
       "    <tr>\n",
       "      <th>2014-01-08</th>\n",
       "      <td>413</td>\n",
       "    </tr>\n",
       "    <tr>\n",
       "      <th>2015-01-08</th>\n",
       "      <td>392</td>\n",
       "    </tr>\n",
       "    <tr>\n",
       "      <th>2012-01-09</th>\n",
       "      <td>317</td>\n",
       "    </tr>\n",
       "    <tr>\n",
       "      <th>2013-01-09</th>\n",
       "      <td>400</td>\n",
       "    </tr>\n",
       "    <tr>\n",
       "      <th>2014-01-09</th>\n",
       "      <td>553</td>\n",
       "    </tr>\n",
       "    <tr>\n",
       "      <th>2015-01-09</th>\n",
       "      <td>466</td>\n",
       "    </tr>\n",
       "    <tr>\n",
       "      <th>2012-01-10</th>\n",
       "      <td>516</td>\n",
       "    </tr>\n",
       "    <tr>\n",
       "      <th>2013-01-10</th>\n",
       "      <td>598</td>\n",
       "    </tr>\n",
       "    <tr>\n",
       "      <th>2014-01-10</th>\n",
       "      <td>344</td>\n",
       "    </tr>\n",
       "    <tr>\n",
       "      <th>2015-01-10</th>\n",
       "      <td>311</td>\n",
       "    </tr>\n",
       "  </tbody>\n",
       "</table>\n",
       "</div>"
      ],
      "text/plain": [
       "              count\n",
       "Date Of Stop       \n",
       "2012-01-01      130\n",
       "2013-01-01      333\n",
       "2014-01-01      438\n",
       "2015-01-01      481\n",
       "2012-01-02      263\n",
       "2013-01-02      462\n",
       "2014-01-02      243\n",
       "2015-01-02      527\n",
       "2012-01-03      287\n",
       "2013-01-03      499\n",
       "2014-01-03      220\n",
       "2015-01-03      316\n",
       "2012-01-04      280\n",
       "2013-01-04      552\n",
       "2014-01-04      341\n",
       "2015-01-04      358\n",
       "2012-01-05      394\n",
       "2013-01-05      299\n",
       "2014-01-05      256\n",
       "2015-01-05      490\n",
       "2012-01-06      331\n",
       "2013-01-06      282\n",
       "2014-01-06      380\n",
       "2015-01-06      309\n",
       "2012-01-07      226\n",
       "2013-01-07      388\n",
       "2014-01-07      269\n",
       "2015-01-07      465\n",
       "2012-01-08      177\n",
       "2013-01-08      491\n",
       "2014-01-08      413\n",
       "2015-01-08      392\n",
       "2012-01-09      317\n",
       "2013-01-09      400\n",
       "2014-01-09      553\n",
       "2015-01-09      466\n",
       "2012-01-10      516\n",
       "2013-01-10      598\n",
       "2014-01-10      344\n",
       "2015-01-10      311"
      ]
     },
     "execution_count": 282,
     "metadata": {},
     "output_type": "execute_result"
    }
   ],
   "source": [
    "df_freq.head(40)"
   ]
  },
  {
   "cell_type": "code",
   "execution_count": 283,
   "metadata": {
    "collapsed": false
   },
   "outputs": [
    {
     "data": {
      "text/html": [
       "<div id=\"chart_idVFodLTlB\"</div>\n",
       "    <script type=\"text/javascript\">new Highcharts.Chart({\"title\":{\"text\":\"my first test\"},\"series\":[{\"data\":[130,333,438,481,263,462,243,527,287,499,220,316,280,552,341,358,394,299,256,490,331,282,380,309,226,388,269,465,177,491,413,392,317,400,553,466,516,598,344,311,300,478,208,365,223,321,391,301,357,200,651,734,182,363,391,681,174,225,609,508,173,304,537,946,297,574,501,681,360,524,401,541,359,382,254,696,330,311,481,933,109,371,258,567,149,384,228,565,177,419,224,624,350,211,346,459,436,246,390,510,363,297,268,235,299,208,592,514,154,257,504,777,209,494,374,583,319,220,430,561,255,376,743,427,307,287,398,448,370,296,404,423,432,253,354,830,170,403,477,829,118,519,387,572,304,365,583,709,470,406,429,576,230,343,517,578,391,315,305,512,362,304,510,626,148,433,523,1019,106,637,436,585,358,430,11,696,416,469,290,421,518,479,380,158,243,389,335,191,436,230,549,507,215,374,540,500,176,420,550,423,235,443,459,429,495,598,490,190,444,478,432,174,412,307,339,397,235,284,568,497,201,492,602,741,212,367,452,567,341,525,642,805,457,443,517,471,217,442,526,392,282,252,515,211,482,172,287,55,481,185,435,391,418,395,764,467,118,512,205,511,336,370,597,552,369,361,612,393,481,267,375,579,699,230,332,721,547,166,370,782,754,341,389,728,655,404,551,391,785,454,597,715,395,450,691,504,543,299,348,336,857,221,447,318,1144,168,323,675,895,295,486,511,789,426,528,750,488,412,383,556,437,373,501,433,538,332,302,439,711,174,297,662,855,200,206,431,886,245,497,542,647,503,506,676,646,431,458,581,481,489,442,282,385,433,332,151,674,214,177,785,722,176,428,753,708,281,438,732,741,463,473,604,603,458,387,533,680,549,548,434,408,547,528,432,645,273,352,364,686,239,578,866,453,437,492,560,512,158,544,772,647,128,416,779,527,122,440,435,588,177,414,410,740,246,354,632,576,215,455,356,761,335,495,875,785,499,394,799,541,247,359,828,499,489,250,491,452,379,268,354,691,319,249,685,914,157,507,648,710,243,453,770,587,544,360,658,817,468,304,671,444,390,409,398,651,574,342,493,620,325,334,607,562,366,280,324,676,556,312,221,619,592,363,689,510,451,289,533,460,522,421,342,405,486,335,455,651,431,381,539,766,444,438,966,714,386,215,555,651,531,437,754,597,686,535,802,367,791,623,344,301,685,267,395,525,424,307,420,665,354,428,696,489,239,716,885,710,608,528,424,639,734,542,422,519,663,459,330,522,556,328,393,838,331,297,742,736,289,580,998,805,280,695,887,466,841,733,741,879,584,492,861,542,685,500,378,507,663,353,298,549,430,435,413,593,259,522,738,534,404,683,860,679,556,599,382,642,572,622,943,527,601,594,465,614,440,372,391,415,360,229,535,608,340,449,703,603,452,598,622,545,607,616,464,752,451,467,647,525,628,356,423,473,581,537,254,607,363,336,435,931,291,269,724,852,524,526,458,633,391,371,384,869,595,318,513,522,627,513,376,463,475,447,314,673,231,287,618,852,300,380,606,548,367,581,647,523,487,417,529,650,562,458,746,347,413,309,361,225,471,240,333,415,292,133,422,617,226,202,671,676,248,315,383,386,446,275,470,503,271,315,467,281,287,167,352,453,337,306,402,418,92,198,505,543,94,270,605,502,283,520,430,548,322,317,454,677,284,398,476,387,360,539,356,546,458,459,307,379,276,194,685,426,213,305,838,595,296,431,678,623,501,485,581,631,368,353,611,445,444,301,399,437,493,253,284,665,239,236,378,571,249,360,558,735,443,564,626,621,536,488,654,659,412,429,659,600,405,458,519,392,380,264,447,426,123,340,609,670,214,428,595,600,304,501,741,511,324,495,648,516,510,480,594,389,366,590,416,360,579,397,298,530,266,305,477,762,251,561,586,621,432,607,536,561,496,396,579,563,371,475,600,474,391,475,403,475,432,234,286,506,256,355,454,488,176,555,739,585,291,582,713,579,328,489,623,743,493,391,575,556,617,434,361,556,313,328,293,595,296,399,314,761,242,439,290,874,377,456,618,721,340,641,546,797,483,394,511,440,500,686,416,328,402,315,411,599,275,207,494,681,192,395,699,647,430,594,650,560,476,549,443,537,493,561,461,370,368,409,275,597,374,225,347,368,281,260,661,739,272,438,806,767,351,623,683,668,338,369,627,581,442,462,598,518,445,522,353,479,474,274,292,624,293,281,367,918,309,359,704,635,328,759,733,640,710,754,678,684,478,745,841,512,696,686,353,512,536,391,409,479,422,268,366,654,260,509,451,740,412,472,598,584,434,541,629,639,360,606,696,449,346,481,386,416,383,304,314,445,286,244,493,683,245,405,586,465,299,642,589,624,194,464,468,618,249,521,576,593,385,493,347,404,311,177,289,500,284,269,591,732,213,336,805,745,406,619,540,524,549,394,245,644,351,491,612,553,357,527,429,467,439,391,388,545,292,345,581,421,192,417,768,386,508,523,567,430,265,439,600,350,403,398,648,444,389,326,346,459,371,266,489,727,263,235,548,815,178,277,534,683,348,530,721,703,466,303,652,588,550,129,615,395,460,138,335,389,408,183,450,666,359,238,474,667,354,508,821,613,305,566,422,629,620,500,681,617,523,481,520,292,391,528,406,369,286,225,389,522,379,178,600,999,277,517,664,800,574,612,426,645,602,512,703,750,587,459,624,359,557,588,444,283,553,368,485,590,377,327,528,800,287,390,824,309,53,557,510,598,167,436,547,716,376,340,704,308,371,392,394,442,525,271,438,499,435,288,680,686,304,287,718,828,433,434,504,542,513,504,469,602,476,446,608,385,461,433,524,455,416,421,401,552,457,356,619,490,269,313,586,624,193,446,544,599,382,481,478,562,418,409,559,502,457,519,408,467,534,330,279,799,400,234,333,676,287,595,634,574,465,456,726,546,593,544,875,671,496,467,830,599,263,429,630,510,295,409,490,671,324,295,617,1030,509,439,974,858,483,208,462,438,365,380,412,527,425,284,539,526,488,349,411,371,497,358,476,338,274,399,594,492,214,417,277,592,327,531,700,695,603,458,838,437,550,570,678,486,422,330,391,401,515,432,424,679,412,235,503,1000,230,196,463,656,423,281,662,473,501,518,661,562,379,413,664,446,539,448,572,523,540,367,363,233,404,361,434,165,230,486,567,342,313,564,459,430,523,475,604,584,560,546,505,638,280,555,547,545,287,565,338,541,351,428,381,702,332,281,308,393,145,359,172,364,106,100,167,277,121,288,230,292,297,401,413,412,357,420,290,329,273,309,392,428,236,440,600,658,338,479,472,778],\"name\":\"count\",\"yAxis\":0}],\"yAxis\":[{}],\"chart\":{\"polar\":true,\"renderTo\":\"chart_idVFodLTlB\"},\"xAxis\":{\"type\":\"datetime\",\"title\":{\"text\":\"Date Of Stop\"}},\"legend\":{\"enabled\":true}});</script>"
      ],
      "text/plain": [
       "<IPython.core.display.HTML object>"
      ]
     },
     "metadata": {},
     "output_type": "display_data"
    }
   ],
   "source": [
    "display_charts(df_freq,polar=True, title=\"my first test\")"
   ]
  },
  {
   "cell_type": "code",
   "execution_count": null,
   "metadata": {
    "collapsed": true
   },
   "outputs": [],
   "source": []
  },
  {
   "cell_type": "code",
   "execution_count": 284,
   "metadata": {
    "collapsed": false
   },
   "outputs": [],
   "source": [
    "df_date_stop_snt['Date Of Stop'] = pd.to_datetime(df_date_stop_snt['Date Of Stop'])\n",
    "df_date_stop_snt.set_index('Date Of Stop', inplace=True)"
   ]
  },
  {
   "cell_type": "code",
   "execution_count": 346,
   "metadata": {
    "collapsed": false
   },
   "outputs": [
    {
     "name": "stderr",
     "output_type": "stream",
     "text": [
      "/anaconda/lib/python2.7/site-packages/ipykernel/__main__.py:1: FutureWarning: how in .resample() is deprecated\n",
      "the new syntax is .resample(...).sum()\n",
      "  if __name__ == '__main__':\n"
     ]
    }
   ],
   "source": [
    "df_date_cnt = df_date_stop_snt[['count']].resample('W', 'sum')"
   ]
  },
  {
   "cell_type": "code",
   "execution_count": 347,
   "metadata": {
    "collapsed": false
   },
   "outputs": [
    {
     "data": {
      "text/html": [
       "<div>\n",
       "<table border=\"1\" class=\"dataframe\">\n",
       "  <thead>\n",
       "    <tr style=\"text-align: right;\">\n",
       "      <th></th>\n",
       "      <th>count</th>\n",
       "    </tr>\n",
       "    <tr>\n",
       "      <th>Date Of Stop</th>\n",
       "      <th></th>\n",
       "    </tr>\n",
       "  </thead>\n",
       "  <tbody>\n",
       "    <tr>\n",
       "      <th>2012-01-01</th>\n",
       "      <td>130</td>\n",
       "    </tr>\n",
       "    <tr>\n",
       "      <th>2012-01-08</th>\n",
       "      <td>1958</td>\n",
       "    </tr>\n",
       "    <tr>\n",
       "      <th>2012-01-15</th>\n",
       "      <td>2069</td>\n",
       "    </tr>\n",
       "    <tr>\n",
       "      <th>2012-01-22</th>\n",
       "      <td>1777</td>\n",
       "    </tr>\n",
       "    <tr>\n",
       "      <th>2012-01-29</th>\n",
       "      <td>1988</td>\n",
       "    </tr>\n",
       "    <tr>\n",
       "      <th>2012-02-05</th>\n",
       "      <td>1971</td>\n",
       "    </tr>\n",
       "    <tr>\n",
       "      <th>2012-02-12</th>\n",
       "      <td>2011</td>\n",
       "    </tr>\n",
       "    <tr>\n",
       "      <th>2012-02-19</th>\n",
       "      <td>2362</td>\n",
       "    </tr>\n",
       "    <tr>\n",
       "      <th>2012-02-26</th>\n",
       "      <td>2234</td>\n",
       "    </tr>\n",
       "    <tr>\n",
       "      <th>2012-03-04</th>\n",
       "      <td>2066</td>\n",
       "    </tr>\n",
       "    <tr>\n",
       "      <th>2012-03-11</th>\n",
       "      <td>2301</td>\n",
       "    </tr>\n",
       "    <tr>\n",
       "      <th>2012-03-18</th>\n",
       "      <td>2337</td>\n",
       "    </tr>\n",
       "    <tr>\n",
       "      <th>2012-03-25</th>\n",
       "      <td>2212</td>\n",
       "    </tr>\n",
       "    <tr>\n",
       "      <th>2012-04-01</th>\n",
       "      <td>2491</td>\n",
       "    </tr>\n",
       "    <tr>\n",
       "      <th>2012-04-08</th>\n",
       "      <td>2810</td>\n",
       "    </tr>\n",
       "    <tr>\n",
       "      <th>2012-04-15</th>\n",
       "      <td>1483</td>\n",
       "    </tr>\n",
       "    <tr>\n",
       "      <th>2012-04-22</th>\n",
       "      <td>2425</td>\n",
       "    </tr>\n",
       "    <tr>\n",
       "      <th>2012-04-29</th>\n",
       "      <td>2910</td>\n",
       "    </tr>\n",
       "    <tr>\n",
       "      <th>2012-05-06</th>\n",
       "      <td>3482</td>\n",
       "    </tr>\n",
       "    <tr>\n",
       "      <th>2012-05-13</th>\n",
       "      <td>3857</td>\n",
       "    </tr>\n",
       "    <tr>\n",
       "      <th>2012-05-20</th>\n",
       "      <td>3420</td>\n",
       "    </tr>\n",
       "    <tr>\n",
       "      <th>2012-05-27</th>\n",
       "      <td>3742</td>\n",
       "    </tr>\n",
       "    <tr>\n",
       "      <th>2012-06-03</th>\n",
       "      <td>3273</td>\n",
       "    </tr>\n",
       "    <tr>\n",
       "      <th>2012-06-10</th>\n",
       "      <td>3373</td>\n",
       "    </tr>\n",
       "    <tr>\n",
       "      <th>2012-06-17</th>\n",
       "      <td>3143</td>\n",
       "    </tr>\n",
       "    <tr>\n",
       "      <th>2012-06-24</th>\n",
       "      <td>2818</td>\n",
       "    </tr>\n",
       "    <tr>\n",
       "      <th>2012-07-01</th>\n",
       "      <td>1775</td>\n",
       "    </tr>\n",
       "    <tr>\n",
       "      <th>2012-07-08</th>\n",
       "      <td>2196</td>\n",
       "    </tr>\n",
       "    <tr>\n",
       "      <th>2012-07-15</th>\n",
       "      <td>2590</td>\n",
       "    </tr>\n",
       "    <tr>\n",
       "      <th>2012-07-22</th>\n",
       "      <td>2513</td>\n",
       "    </tr>\n",
       "  </tbody>\n",
       "</table>\n",
       "</div>"
      ],
      "text/plain": [
       "              count\n",
       "Date Of Stop       \n",
       "2012-01-01      130\n",
       "2012-01-08     1958\n",
       "2012-01-15     2069\n",
       "2012-01-22     1777\n",
       "2012-01-29     1988\n",
       "2012-02-05     1971\n",
       "2012-02-12     2011\n",
       "2012-02-19     2362\n",
       "2012-02-26     2234\n",
       "2012-03-04     2066\n",
       "2012-03-11     2301\n",
       "2012-03-18     2337\n",
       "2012-03-25     2212\n",
       "2012-04-01     2491\n",
       "2012-04-08     2810\n",
       "2012-04-15     1483\n",
       "2012-04-22     2425\n",
       "2012-04-29     2910\n",
       "2012-05-06     3482\n",
       "2012-05-13     3857\n",
       "2012-05-20     3420\n",
       "2012-05-27     3742\n",
       "2012-06-03     3273\n",
       "2012-06-10     3373\n",
       "2012-06-17     3143\n",
       "2012-06-24     2818\n",
       "2012-07-01     1775\n",
       "2012-07-08     2196\n",
       "2012-07-15     2590\n",
       "2012-07-22     2513"
      ]
     },
     "execution_count": 347,
     "metadata": {},
     "output_type": "execute_result"
    }
   ],
   "source": [
    "df_date_cnt.head(30)"
   ]
  },
  {
   "cell_type": "code",
   "execution_count": 348,
   "metadata": {
    "collapsed": false
   },
   "outputs": [
    {
     "data": {
      "text/html": [
       "<div>\n",
       "<table border=\"1\" class=\"dataframe\">\n",
       "  <thead>\n",
       "    <tr style=\"text-align: right;\">\n",
       "      <th></th>\n",
       "      <th>count</th>\n",
       "    </tr>\n",
       "    <tr>\n",
       "      <th>Date Of Stop</th>\n",
       "      <th></th>\n",
       "    </tr>\n",
       "  </thead>\n",
       "  <tbody>\n",
       "    <tr>\n",
       "      <th>2015-06-14</th>\n",
       "      <td>4877</td>\n",
       "    </tr>\n",
       "    <tr>\n",
       "      <th>2015-06-21</th>\n",
       "      <td>3818</td>\n",
       "    </tr>\n",
       "    <tr>\n",
       "      <th>2015-06-28</th>\n",
       "      <td>3331</td>\n",
       "    </tr>\n",
       "    <tr>\n",
       "      <th>2015-07-05</th>\n",
       "      <td>3621</td>\n",
       "    </tr>\n",
       "    <tr>\n",
       "      <th>2015-07-12</th>\n",
       "      <td>3536</td>\n",
       "    </tr>\n",
       "    <tr>\n",
       "      <th>2015-07-19</th>\n",
       "      <td>4243</td>\n",
       "    </tr>\n",
       "    <tr>\n",
       "      <th>2015-07-26</th>\n",
       "      <td>3472</td>\n",
       "    </tr>\n",
       "    <tr>\n",
       "      <th>2015-08-02</th>\n",
       "      <td>3986</td>\n",
       "    </tr>\n",
       "    <tr>\n",
       "      <th>2015-08-09</th>\n",
       "      <td>4013</td>\n",
       "    </tr>\n",
       "    <tr>\n",
       "      <th>2015-08-16</th>\n",
       "      <td>4516</td>\n",
       "    </tr>\n",
       "    <tr>\n",
       "      <th>2015-08-23</th>\n",
       "      <td>3991</td>\n",
       "    </tr>\n",
       "    <tr>\n",
       "      <th>2015-08-30</th>\n",
       "      <td>4120</td>\n",
       "    </tr>\n",
       "    <tr>\n",
       "      <th>2015-09-06</th>\n",
       "      <td>4525</td>\n",
       "    </tr>\n",
       "    <tr>\n",
       "      <th>2015-09-13</th>\n",
       "      <td>3961</td>\n",
       "    </tr>\n",
       "    <tr>\n",
       "      <th>2015-09-20</th>\n",
       "      <td>3832</td>\n",
       "    </tr>\n",
       "    <tr>\n",
       "      <th>2015-09-27</th>\n",
       "      <td>4165</td>\n",
       "    </tr>\n",
       "    <tr>\n",
       "      <th>2015-10-04</th>\n",
       "      <td>3035</td>\n",
       "    </tr>\n",
       "    <tr>\n",
       "      <th>2015-10-11</th>\n",
       "      <td>4300</td>\n",
       "    </tr>\n",
       "    <tr>\n",
       "      <th>2015-10-18</th>\n",
       "      <td>3853</td>\n",
       "    </tr>\n",
       "    <tr>\n",
       "      <th>2015-10-25</th>\n",
       "      <td>4358</td>\n",
       "    </tr>\n",
       "    <tr>\n",
       "      <th>2015-11-01</th>\n",
       "      <td>3763</td>\n",
       "    </tr>\n",
       "    <tr>\n",
       "      <th>2015-11-08</th>\n",
       "      <td>3997</td>\n",
       "    </tr>\n",
       "    <tr>\n",
       "      <th>2015-11-15</th>\n",
       "      <td>3796</td>\n",
       "    </tr>\n",
       "    <tr>\n",
       "      <th>2015-11-22</th>\n",
       "      <td>4375</td>\n",
       "    </tr>\n",
       "    <tr>\n",
       "      <th>2015-11-29</th>\n",
       "      <td>4421</td>\n",
       "    </tr>\n",
       "    <tr>\n",
       "      <th>2015-12-06</th>\n",
       "      <td>3441</td>\n",
       "    </tr>\n",
       "    <tr>\n",
       "      <th>2015-12-13</th>\n",
       "      <td>4339</td>\n",
       "    </tr>\n",
       "    <tr>\n",
       "      <th>2015-12-20</th>\n",
       "      <td>2937</td>\n",
       "    </tr>\n",
       "    <tr>\n",
       "      <th>2015-12-27</th>\n",
       "      <td>2981</td>\n",
       "    </tr>\n",
       "    <tr>\n",
       "      <th>2016-01-03</th>\n",
       "      <td>2193</td>\n",
       "    </tr>\n",
       "  </tbody>\n",
       "</table>\n",
       "</div>"
      ],
      "text/plain": [
       "              count\n",
       "Date Of Stop       \n",
       "2015-06-14     4877\n",
       "2015-06-21     3818\n",
       "2015-06-28     3331\n",
       "2015-07-05     3621\n",
       "2015-07-12     3536\n",
       "2015-07-19     4243\n",
       "2015-07-26     3472\n",
       "2015-08-02     3986\n",
       "2015-08-09     4013\n",
       "2015-08-16     4516\n",
       "2015-08-23     3991\n",
       "2015-08-30     4120\n",
       "2015-09-06     4525\n",
       "2015-09-13     3961\n",
       "2015-09-20     3832\n",
       "2015-09-27     4165\n",
       "2015-10-04     3035\n",
       "2015-10-11     4300\n",
       "2015-10-18     3853\n",
       "2015-10-25     4358\n",
       "2015-11-01     3763\n",
       "2015-11-08     3997\n",
       "2015-11-15     3796\n",
       "2015-11-22     4375\n",
       "2015-11-29     4421\n",
       "2015-12-06     3441\n",
       "2015-12-13     4339\n",
       "2015-12-20     2937\n",
       "2015-12-27     2981\n",
       "2016-01-03     2193"
      ]
     },
     "execution_count": 348,
     "metadata": {},
     "output_type": "execute_result"
    }
   ],
   "source": [
    "df_date_cnt.tail(30)"
   ]
  },
  {
   "cell_type": "code",
   "execution_count": 349,
   "metadata": {
    "collapsed": false
   },
   "outputs": [
    {
     "name": "stderr",
     "output_type": "stream",
     "text": [
      "/anaconda/lib/python2.7/site-packages/ipykernel/__main__.py:1: FutureWarning: pd.rolling_mean is deprecated for DataFrame and will be removed in a future version, replace with \n",
      "\tDataFrame.rolling(window=3,center=False).mean()\n",
      "  if __name__ == '__main__':\n"
     ]
    },
    {
     "data": {
      "text/plain": [
       "<matplotlib.axes._subplots.AxesSubplot at 0x148d8a1d0>"
      ]
     },
     "execution_count": 349,
     "metadata": {},
     "output_type": "execute_result"
    },
    {
     "data": {
      "image/png": "[encoded data removed]",
      "text/plain": [
       "<matplotlib.figure.Figure at 0x1119a5a90>"
      ]
     },
     "metadata": {},
     "output_type": "display_data"
    }
   ],
   "source": [
    "pd.rolling_mean(df_date_cnt[['count']], 3).plot()"
   ]
  },
  {
   "cell_type": "code",
   "execution_count": 350,
   "metadata": {
    "collapsed": false
   },
   "outputs": [
    {
     "name": "stdout",
     "output_type": "stream",
     "text": [
      "('Autocorrelation 1: ', 0.66696053036268865)\n",
      "('Autocorrelation 3: ', 0.55566110459142304)\n",
      "('Autocorrelation 40: ', 0.46603395574838574)\n"
     ]
    }
   ],
   "source": [
    "print('Autocorrelation 1: ', df_date_cnt['count'].autocorr(1))\n",
    "print('Autocorrelation 3: ', df_date_cnt['count'].autocorr(3))\n",
    "print('Autocorrelation 40: ', df_date_cnt['count'].autocorr(27))"
   ]
  },
  {
   "cell_type": "code",
   "execution_count": 351,
   "metadata": {
    "collapsed": false
   },
   "outputs": [
    {
     "data": {
      "text/plain": [
       "<matplotlib.axes._subplots.AxesSubplot at 0x112dbb410>"
      ]
     },
     "execution_count": 351,
     "metadata": {},
     "output_type": "execute_result"
    },
    {
     "data": {
      "image/png": "[encoded data removed]",
      "text/plain": [
       "<matplotlib.figure.Figure at 0x112824fd0>"
      ]
     },
     "metadata": {},
     "output_type": "display_data"
    }
   ],
   "source": [
    "from pandas.tools.plotting import autocorrelation_plot\n",
    "\n",
    "autocorrelation_plot(df_date_cnt['count'])"
   ]
  },
  {
   "cell_type": "code",
   "execution_count": 291,
   "metadata": {
    "collapsed": true
   },
   "outputs": [],
   "source": [
    "import statsmodels.api as sm\n",
    "from sklearn.metrics import mean_absolute_error"
   ]
  },
  {
   "cell_type": "code",
   "execution_count": 335,
   "metadata": {
    "collapsed": false
   },
   "outputs": [
    {
     "name": "stdout",
     "output_type": "stream",
     "text": [
      "                              ARMA Model Results                              \n",
      "==============================================================================\n",
      "Dep. Variable:                  count   No. Observations:                  210\n",
      "Model:                     ARMA(1, 0)   Log Likelihood               -1639.613\n",
      "Method:                       css-mle   S.D. of innovations            594.184\n",
      "Date:                Wed, 18 Jan 2017   AIC                           3285.227\n",
      "Time:                        20:59:47   BIC                           3295.268\n",
      "Sample:                    01-01-2012   HQIC                          3289.286\n",
      "                         - 01-03-2016                                         \n",
      "===============================================================================\n",
      "                  coef    std err          z      P>|z|      [95.0% Conf. Int.]\n",
      "-------------------------------------------------------------------------------\n",
      "const        3197.9765    132.335     24.166      0.000      2938.604  3457.349\n",
      "ar.L1.count     0.6924      0.053     13.017      0.000         0.588     0.797\n",
      "                                    Roots                                    \n",
      "=============================================================================\n",
      "                 Real           Imaginary           Modulus         Frequency\n",
      "-----------------------------------------------------------------------------\n",
      "AR.1            1.4442           +0.0000j            1.4442            0.0000\n",
      "-----------------------------------------------------------------------------\n"
     ]
    }
   ],
   "source": [
    "from statsmodels.tsa.arima_model import ARMA\n",
    "\n",
    "df_date_cnt = df_date_cnt[['count']].astype(float)\n",
    "model = ARMA(df_date_cnt, (1, 0,1)).fit()\n",
    "print model.summary()"
   ]
  },
  {
   "cell_type": "code",
   "execution_count": 342,
   "metadata": {
    "collapsed": false
   },
   "outputs": [
    {
     "data": {
      "text/html": [
       "<table class=\"simpletable\">\n",
       "<caption>ARIMA Model Results</caption>\n",
       "<tr>\n",
       "  <th>Dep. Variable:</th>      <td>D.count</td>     <th>  No. Observations:  </th>    <td>209</td>   \n",
       "</tr>\n",
       "<tr>\n",
       "  <th>Model:</th>          <td>ARIMA(1, 1, 0)</td>  <th>  Log Likelihood     </th> <td>-1624.700</td>\n",
       "</tr>\n",
       "<tr>\n",
       "  <th>Method:</th>             <td>css-mle</td>     <th>  S.D. of innovations</th>  <td>574.910</td> \n",
       "</tr>\n",
       "<tr>\n",
       "  <th>Date:</th>          <td>Wed, 18 Jan 2017</td> <th>  AIC                </th> <td>3255.400</td> \n",
       "</tr>\n",
       "<tr>\n",
       "  <th>Time:</th>              <td>21:04:28</td>     <th>  BIC                </th> <td>3265.427</td> \n",
       "</tr>\n",
       "<tr>\n",
       "  <th>Sample:</th>           <td>01-08-2012</td>    <th>  HQIC               </th> <td>3259.454</td> \n",
       "</tr>\n",
       "<tr>\n",
       "  <th></th>                 <td>- 01-03-2016</td>   <th>                     </th>     <td> </td>    \n",
       "</tr>\n",
       "</table>\n",
       "<table class=\"simpletable\">\n",
       "<tr>\n",
       "        <td></td>           <th>coef</th>     <th>std err</th>      <th>z</th>      <th>P>|z|</th> <th>[95.0% Conf. Int.]</th> \n",
       "</tr>\n",
       "<tr>\n",
       "  <th>const</th>         <td>    8.3611</td> <td>   27.528</td> <td>    0.304</td> <td> 0.762</td> <td>  -45.592    62.314</td>\n",
       "</tr>\n",
       "<tr>\n",
       "  <th>ar.L1.D.count</th> <td>   -0.4468</td> <td>    0.063</td> <td>   -7.046</td> <td> 0.000</td> <td>   -0.571    -0.323</td>\n",
       "</tr>\n",
       "</table>\n",
       "<table class=\"simpletable\">\n",
       "<caption>Roots</caption>\n",
       "<tr>\n",
       "    <td></td>   <th>           Real</th> <th>         Imaginary</th> <th>         Modulus</th> <th>        Frequency</th>\n",
       "</tr>\n",
       "<tr>\n",
       "  <th>AR.1</th>              -2.2381                    +0.0000j                    2.2381                    0.5000     \n",
       "</tr>\n",
       "</table>"
      ],
      "text/plain": [
       "<class 'statsmodels.iolib.summary.Summary'>\n",
       "\"\"\"\n",
       "                             ARIMA Model Results                              \n",
       "==============================================================================\n",
       "Dep. Variable:                D.count   No. Observations:                  209\n",
       "Model:                 ARIMA(1, 1, 0)   Log Likelihood               -1624.700\n",
       "Method:                       css-mle   S.D. of innovations            574.910\n",
       "Date:                Wed, 18 Jan 2017   AIC                           3255.400\n",
       "Time:                        21:04:28   BIC                           3265.427\n",
       "Sample:                    01-08-2012   HQIC                          3259.454\n",
       "                         - 01-03-2016                                         \n",
       "=================================================================================\n",
       "                    coef    std err          z      P>|z|      [95.0% Conf. Int.]\n",
       "---------------------------------------------------------------------------------\n",
       "const             8.3611     27.528      0.304      0.762       -45.592    62.314\n",
       "ar.L1.D.count    -0.4468      0.063     -7.046      0.000        -0.571    -0.323\n",
       "                                    Roots                                    \n",
       "=============================================================================\n",
       "                 Real           Imaginary           Modulus         Frequency\n",
       "-----------------------------------------------------------------------------\n",
       "AR.1           -2.2381           +0.0000j            2.2381            0.5000\n",
       "-----------------------------------------------------------------------------\n",
       "\"\"\""
      ]
     },
     "execution_count": 342,
     "metadata": {},
     "output_type": "execute_result"
    }
   ],
   "source": [
    "model = sm.tsa.ARIMA(df_date_cnt, (1, 1, 0)).fit()\n",
    "\n",
    "#predictions = model.predict(\n",
    "#    '2016-01-31',\n",
    "#    '2016-06-30',\n",
    "#    dynamic=True, \n",
    "#)\n",
    "\n",
    "#print(\"Mean absolute error: \", mean_absolute_error(test, predictions))\n",
    "model.summary()"
   ]
  },
  {
   "cell_type": "code",
   "execution_count": 371,
   "metadata": {
    "collapsed": false
   },
   "outputs": [
    {
     "data": {
      "text/plain": [
       "0.044133070290774568"
      ]
     },
     "execution_count": 371,
     "metadata": {},
     "output_type": "execute_result"
    }
   ],
   "source": [
    "model.resid.autocorr(12)"
   ]
  },
  {
   "cell_type": "code",
   "execution_count": null,
   "metadata": {
    "collapsed": true
   },
   "outputs": [],
   "source": [
    "df_date_cnt['count'].autocorr(1)"
   ]
  }
 ],
 "metadata": {
  "kernelspec": {
   "display_name": "Python [conda root]",
   "language": "python",
   "name": "conda-root-py"
  },
  "language_info": {
   "codemirror_mode": {
    "name": "ipython",
    "version": 2
   },
   "file_extension": ".py",
   "mimetype": "text/x-python",
   "name": "python",
   "nbconvert_exporter": "python",
   "pygments_lexer": "ipython2",
   "version": "2.7.12"
  }
 },
 "nbformat": 4,
 "nbformat_minor": 0
}
