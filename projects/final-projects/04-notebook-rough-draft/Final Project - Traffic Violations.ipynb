{
 "cells": [
  {
   "cell_type": "markdown",
   "metadata": {},
   "source": [
    "# Traffic Violation\n",
    "Create a model using logitic regression to determine the property damage based on various factors"
   ]
  },
  {
   "cell_type": "markdown",
   "metadata": {},
   "source": [
    "Hypothesis testing "
   ]
  },
  {
   "cell_type": "markdown",
   "metadata": {},
   "source": [
    "Create a model using random forest to evaluate the description and determine if there are any key fators that impact property damage "
   ]
  },
  {
   "cell_type": "markdown",
   "metadata": {},
   "source": [
    "Evaluate the date and time if the they play any significant role."
   ]
  },
  {
   "cell_type": "markdown",
   "metadata": {},
   "source": [
    "How does location play a role, are some locations more prone than others "
   ]
  },
  {
   "cell_type": "code",
   "execution_count": 9,
   "metadata": {
    "collapsed": false
   },
   "outputs": [
    {
     "name": "stdout",
     "output_type": "stream",
     "text": [
      "   Unnamed: 0 Date Of Stop Time Of Stop Agency  \\\n",
      "0      231432   10/06/2013     22:58:00    MCP   \n",
      "1      375258   09/13/2015     01:41:00    MCP   \n",
      "2      902304   09/03/2014     23:54:00    MCP   \n",
      "3      955895   07/05/2015     12:45:00    MCP   \n",
      "4      701179   05/11/2015     21:47:00    MCP   \n",
      "\n",
      "                             SubAgency  \\\n",
      "0          3rd district, Silver Spring   \n",
      "1  Headquarters and Special Operations   \n",
      "2                4th district, Wheaton   \n",
      "3             5th district, Germantown   \n",
      "4                4th district, Wheaton   \n",
      "\n",
      "                                         Description  \\\n",
      "0  DRIVE ACROSS PRIVATE PROPERTY FOR THE PURPOSE ...   \n",
      "1  NEGLIGENT DRIVING VEHICLE IN CARELESS AND IMPR...   \n",
      "2  FAILURE TO DISPLAY REGISTRATION CARD UPON DEMA...   \n",
      "3  DRIVING VEHICLE ON HIGHWAY WITHOUT CURRENT REG...   \n",
      "4  RECKLESS DRIVING VEHICLE IN WANTON AND WILLFUL...   \n",
      "\n",
      "                                   Location   Latitude  Longitude  Accident  \\\n",
      "0           BRIGGS CHANEY RD AT CASTLE BLVD  39.082817 -76.947782         0   \n",
      "1  9880 ROCKVILLE PIK / 5100 KING CHARLES W  38.983630 -77.093272         0   \n",
      "2                 GEORGIA AVE / CONNECTICUT  39.087468 -77.079330         0   \n",
      "3      GERMANTOWN ROAD @ CRYSTAL ROCK DRIVE  39.184212 -77.255140         0   \n",
      "4         N/B I-270 PRIOR TO MIDDLEBROOK RD  39.165833 -77.240402         0   \n",
      "\n",
      "     ...      Contributed To Accident   Race  Gender    Driver City  \\\n",
      "0    ...                            0  WHITE       M  SILVER SPRING   \n",
      "1    ...                            0  WHITE       M     PIKESVILLE   \n",
      "2    ...                            0  BLACK       M      BALTIMORE   \n",
      "3    ...                            0  WHITE       F      ROCKVILLE   \n",
      "4    ...                            0  BLACK       M     GERMANTOWN   \n",
      "\n",
      "  Driver State  DL State          Arrest Type  \\\n",
      "0           MD        MD    A - Marked Patrol   \n",
      "1           MD        MD    A - Marked Patrol   \n",
      "2           MD        MD    A - Marked Patrol   \n",
      "3           MD        MD    A - Marked Patrol   \n",
      "4           MD        MD  B - Unmarked Patrol   \n",
      "\n",
      "                             Geolocation  stop-year stop-month  \n",
      "0  (39.0828166666667, -76.9477816666667)       2013         10  \n",
      "1          (38.98363, -77.0932716666667)       2015          9  \n",
      "2          (39.0874683333333, -77.07933)       2014          9  \n",
      "3          (39.1842116666667, -77.25514)       2015          7  \n",
      "4  (39.1658333333333, -77.2404016666667)       2015          5  \n",
      "\n",
      "[5 rows x 38 columns]\n"
     ]
    },
    {
     "data": {
      "text/plain": [
       "Index([u'Unnamed: 0', u'Date Of Stop', u'Time Of Stop', u'Agency',\n",
       "       u'SubAgency', u'Description', u'Location', u'Latitude', u'Longitude',\n",
       "       u'Accident', u'Belts', u'Personal Injury', u'Property Damage', u'Fatal',\n",
       "       u'Commercial License', u'HAZMAT', u'Commercial Vehicle', u'Alcohol',\n",
       "       u'Work Zone', u'State', u'VehicleType', u'Year', u'Make', u'Model',\n",
       "       u'Color', u'Violation Type', u'Charge', u'Article',\n",
       "       u'Contributed To Accident', u'Race', u'Gender', u'Driver City',\n",
       "       u'Driver State', u'DL State', u'Arrest Type', u'Geolocation',\n",
       "       u'stop-year', u'stop-month'],\n",
       "      dtype='object')"
      ]
     },
     "execution_count": 9,
     "metadata": {},
     "output_type": "execute_result"
    }
   ],
   "source": [
    "%matplotlib inline\n",
    "import matplotlib.pyplot as plt\n",
    "import pandas as pd\n",
    "import statsmodels.api as sm\n",
    "import pylab as pl\n",
    "import numpy as np\n",
    "\n",
    "df_raw = pd.read_csv('/Users/yogini/Downloads/Traffic_Violations_train.csv')\n",
    "df = df_raw.dropna() \n",
    "print df.head()\n",
    "df.columns"
   ]
  },
  {
   "cell_type": "code",
   "execution_count": 10,
   "metadata": {
    "collapsed": false
   },
   "outputs": [
    {
     "data": {
      "text/html": [
       "<div>\n",
       "<table border=\"1\" class=\"dataframe\">\n",
       "  <thead>\n",
       "    <tr style=\"text-align: right;\">\n",
       "      <th></th>\n",
       "      <th>Unnamed: 0</th>\n",
       "      <th>Date Of Stop</th>\n",
       "      <th>Time Of Stop</th>\n",
       "      <th>Agency</th>\n",
       "      <th>SubAgency</th>\n",
       "      <th>Description</th>\n",
       "      <th>Location</th>\n",
       "      <th>Latitude</th>\n",
       "      <th>Longitude</th>\n",
       "      <th>Accident</th>\n",
       "      <th>...</th>\n",
       "      <th>Contributed To Accident</th>\n",
       "      <th>Race</th>\n",
       "      <th>Gender</th>\n",
       "      <th>Driver City</th>\n",
       "      <th>Driver State</th>\n",
       "      <th>DL State</th>\n",
       "      <th>Arrest Type</th>\n",
       "      <th>Geolocation</th>\n",
       "      <th>stop-year</th>\n",
       "      <th>stop-month</th>\n",
       "    </tr>\n",
       "  </thead>\n",
       "  <tbody>\n",
       "    <tr>\n",
       "      <th>0</th>\n",
       "      <td>231432</td>\n",
       "      <td>10/06/2013</td>\n",
       "      <td>22:58:00</td>\n",
       "      <td>MCP</td>\n",
       "      <td>3rd district, Silver Spring</td>\n",
       "      <td>DRIVE ACROSS PRIVATE PROPERTY FOR THE PURPOSE ...</td>\n",
       "      <td>BRIGGS CHANEY RD AT CASTLE BLVD</td>\n",
       "      <td>39.082817</td>\n",
       "      <td>-76.947782</td>\n",
       "      <td>0</td>\n",
       "      <td>...</td>\n",
       "      <td>0</td>\n",
       "      <td>WHITE</td>\n",
       "      <td>M</td>\n",
       "      <td>SILVER SPRING</td>\n",
       "      <td>MD</td>\n",
       "      <td>MD</td>\n",
       "      <td>A - Marked Patrol</td>\n",
       "      <td>(39.0828166666667, -76.9477816666667)</td>\n",
       "      <td>2013</td>\n",
       "      <td>10</td>\n",
       "    </tr>\n",
       "    <tr>\n",
       "      <th>1</th>\n",
       "      <td>375258</td>\n",
       "      <td>09/13/2015</td>\n",
       "      <td>01:41:00</td>\n",
       "      <td>MCP</td>\n",
       "      <td>Headquarters and Special Operations</td>\n",
       "      <td>NEGLIGENT DRIVING VEHICLE IN CARELESS AND IMPR...</td>\n",
       "      <td>9880 ROCKVILLE PIK / 5100 KING CHARLES W</td>\n",
       "      <td>38.983630</td>\n",
       "      <td>-77.093272</td>\n",
       "      <td>0</td>\n",
       "      <td>...</td>\n",
       "      <td>0</td>\n",
       "      <td>WHITE</td>\n",
       "      <td>M</td>\n",
       "      <td>PIKESVILLE</td>\n",
       "      <td>MD</td>\n",
       "      <td>MD</td>\n",
       "      <td>A - Marked Patrol</td>\n",
       "      <td>(38.98363, -77.0932716666667)</td>\n",
       "      <td>2015</td>\n",
       "      <td>9</td>\n",
       "    </tr>\n",
       "    <tr>\n",
       "      <th>2</th>\n",
       "      <td>902304</td>\n",
       "      <td>09/03/2014</td>\n",
       "      <td>23:54:00</td>\n",
       "      <td>MCP</td>\n",
       "      <td>4th district, Wheaton</td>\n",
       "      <td>FAILURE TO DISPLAY REGISTRATION CARD UPON DEMA...</td>\n",
       "      <td>GEORGIA AVE / CONNECTICUT</td>\n",
       "      <td>39.087468</td>\n",
       "      <td>-77.079330</td>\n",
       "      <td>0</td>\n",
       "      <td>...</td>\n",
       "      <td>0</td>\n",
       "      <td>BLACK</td>\n",
       "      <td>M</td>\n",
       "      <td>BALTIMORE</td>\n",
       "      <td>MD</td>\n",
       "      <td>MD</td>\n",
       "      <td>A - Marked Patrol</td>\n",
       "      <td>(39.0874683333333, -77.07933)</td>\n",
       "      <td>2014</td>\n",
       "      <td>9</td>\n",
       "    </tr>\n",
       "    <tr>\n",
       "      <th>3</th>\n",
       "      <td>955895</td>\n",
       "      <td>07/05/2015</td>\n",
       "      <td>12:45:00</td>\n",
       "      <td>MCP</td>\n",
       "      <td>5th district, Germantown</td>\n",
       "      <td>DRIVING VEHICLE ON HIGHWAY WITHOUT CURRENT REG...</td>\n",
       "      <td>GERMANTOWN ROAD @ CRYSTAL ROCK DRIVE</td>\n",
       "      <td>39.184212</td>\n",
       "      <td>-77.255140</td>\n",
       "      <td>0</td>\n",
       "      <td>...</td>\n",
       "      <td>0</td>\n",
       "      <td>WHITE</td>\n",
       "      <td>F</td>\n",
       "      <td>ROCKVILLE</td>\n",
       "      <td>MD</td>\n",
       "      <td>MD</td>\n",
       "      <td>A - Marked Patrol</td>\n",
       "      <td>(39.1842116666667, -77.25514)</td>\n",
       "      <td>2015</td>\n",
       "      <td>7</td>\n",
       "    </tr>\n",
       "    <tr>\n",
       "      <th>4</th>\n",
       "      <td>701179</td>\n",
       "      <td>05/11/2015</td>\n",
       "      <td>21:47:00</td>\n",
       "      <td>MCP</td>\n",
       "      <td>4th district, Wheaton</td>\n",
       "      <td>RECKLESS DRIVING VEHICLE IN WANTON AND WILLFUL...</td>\n",
       "      <td>N/B I-270 PRIOR TO MIDDLEBROOK RD</td>\n",
       "      <td>39.165833</td>\n",
       "      <td>-77.240402</td>\n",
       "      <td>0</td>\n",
       "      <td>...</td>\n",
       "      <td>0</td>\n",
       "      <td>BLACK</td>\n",
       "      <td>M</td>\n",
       "      <td>GERMANTOWN</td>\n",
       "      <td>MD</td>\n",
       "      <td>MD</td>\n",
       "      <td>B - Unmarked Patrol</td>\n",
       "      <td>(39.1658333333333, -77.2404016666667)</td>\n",
       "      <td>2015</td>\n",
       "      <td>5</td>\n",
       "    </tr>\n",
       "  </tbody>\n",
       "</table>\n",
       "<p>5 rows × 38 columns</p>\n",
       "</div>"
      ],
      "text/plain": [
       "   Unnamed: 0 Date Of Stop Time Of Stop Agency  \\\n",
       "0      231432   10/06/2013     22:58:00    MCP   \n",
       "1      375258   09/13/2015     01:41:00    MCP   \n",
       "2      902304   09/03/2014     23:54:00    MCP   \n",
       "3      955895   07/05/2015     12:45:00    MCP   \n",
       "4      701179   05/11/2015     21:47:00    MCP   \n",
       "\n",
       "                             SubAgency  \\\n",
       "0          3rd district, Silver Spring   \n",
       "1  Headquarters and Special Operations   \n",
       "2                4th district, Wheaton   \n",
       "3             5th district, Germantown   \n",
       "4                4th district, Wheaton   \n",
       "\n",
       "                                         Description  \\\n",
       "0  DRIVE ACROSS PRIVATE PROPERTY FOR THE PURPOSE ...   \n",
       "1  NEGLIGENT DRIVING VEHICLE IN CARELESS AND IMPR...   \n",
       "2  FAILURE TO DISPLAY REGISTRATION CARD UPON DEMA...   \n",
       "3  DRIVING VEHICLE ON HIGHWAY WITHOUT CURRENT REG...   \n",
       "4  RECKLESS DRIVING VEHICLE IN WANTON AND WILLFUL...   \n",
       "\n",
       "                                   Location   Latitude  Longitude  Accident  \\\n",
       "0           BRIGGS CHANEY RD AT CASTLE BLVD  39.082817 -76.947782         0   \n",
       "1  9880 ROCKVILLE PIK / 5100 KING CHARLES W  38.983630 -77.093272         0   \n",
       "2                 GEORGIA AVE / CONNECTICUT  39.087468 -77.079330         0   \n",
       "3      GERMANTOWN ROAD @ CRYSTAL ROCK DRIVE  39.184212 -77.255140         0   \n",
       "4         N/B I-270 PRIOR TO MIDDLEBROOK RD  39.165833 -77.240402         0   \n",
       "\n",
       "     ...      Contributed To Accident   Race  Gender    Driver City  \\\n",
       "0    ...                            0  WHITE       M  SILVER SPRING   \n",
       "1    ...                            0  WHITE       M     PIKESVILLE   \n",
       "2    ...                            0  BLACK       M      BALTIMORE   \n",
       "3    ...                            0  WHITE       F      ROCKVILLE   \n",
       "4    ...                            0  BLACK       M     GERMANTOWN   \n",
       "\n",
       "  Driver State  DL State          Arrest Type  \\\n",
       "0           MD        MD    A - Marked Patrol   \n",
       "1           MD        MD    A - Marked Patrol   \n",
       "2           MD        MD    A - Marked Patrol   \n",
       "3           MD        MD    A - Marked Patrol   \n",
       "4           MD        MD  B - Unmarked Patrol   \n",
       "\n",
       "                             Geolocation  stop-year stop-month  \n",
       "0  (39.0828166666667, -76.9477816666667)       2013         10  \n",
       "1          (38.98363, -77.0932716666667)       2015          9  \n",
       "2          (39.0874683333333, -77.07933)       2014          9  \n",
       "3          (39.1842116666667, -77.25514)       2015          7  \n",
       "4  (39.1658333333333, -77.2404016666667)       2015          5  \n",
       "\n",
       "[5 rows x 38 columns]"
      ]
     },
     "execution_count": 10,
     "metadata": {},
     "output_type": "execute_result"
    }
   ],
   "source": [
    "df.head()"
   ]
  },
  {
   "cell_type": "markdown",
   "metadata": {},
   "source": [
    "Calculate the Odds ratio of Property damage where the driver ins drunk. "
   ]
  },
  {
   "cell_type": "code",
   "execution_count": 12,
   "metadata": {
    "collapsed": false
   },
   "outputs": [
    {
     "data": {
      "text/html": [
       "<div>\n",
       "<table border=\"1\" class=\"dataframe\">\n",
       "  <thead>\n",
       "    <tr style=\"text-align: right;\">\n",
       "      <th>Alcohol</th>\n",
       "      <th>0</th>\n",
       "      <th>1</th>\n",
       "    </tr>\n",
       "    <tr>\n",
       "      <th>Property Damage</th>\n",
       "      <th></th>\n",
       "      <th></th>\n",
       "    </tr>\n",
       "  </thead>\n",
       "  <tbody>\n",
       "    <tr>\n",
       "      <th>0</th>\n",
       "      <td>534044</td>\n",
       "      <td>1045</td>\n",
       "    </tr>\n",
       "    <tr>\n",
       "      <th>1</th>\n",
       "      <td>9437</td>\n",
       "      <td>68</td>\n",
       "    </tr>\n",
       "  </tbody>\n",
       "</table>\n",
       "</div>"
      ],
      "text/plain": [
       "Alcohol               0     1\n",
       "Property Damage              \n",
       "0                534044  1045\n",
       "1                  9437    68"
      ]
     },
     "execution_count": 12,
     "metadata": {},
     "output_type": "execute_result"
    }
   ],
   "source": [
    "pd.crosstab(df['Property Damage'],df['Alcohol'])"
   ]
  },
  {
   "cell_type": "code",
   "execution_count": 14,
   "metadata": {
    "collapsed": false
   },
   "outputs": [],
   "source": [
    "od_p1=68.0/1045\n",
    "od_p2=9437.0/534044\n",
    "od_ratio= od_p1/od_p2"
   ]
  },
  {
   "cell_type": "code",
   "execution_count": 15,
   "metadata": {
    "collapsed": false
   },
   "outputs": [
    {
     "data": {
      "text/plain": [
       "3.682440237018799"
      ]
     },
     "execution_count": 15,
     "metadata": {},
     "output_type": "execute_result"
    }
   ],
   "source": [
    "od_ratio"
   ]
  },
  {
   "cell_type": "markdown",
   "metadata": {},
   "source": [
    "# The Odds of property damage are 3.6 times higher if the driver was drunk driving."
   ]
  },
  {
   "cell_type": "code",
   "execution_count": 53,
   "metadata": {
    "collapsed": true
   },
   "outputs": [],
   "source": [
    "df['intercept'] = 1.0"
   ]
  },
  {
   "cell_type": "code",
   "execution_count": 67,
   "metadata": {
    "collapsed": false
   },
   "outputs": [
    {
     "data": {
      "text/plain": [
       "Index([u'Unnamed: 0', u'Date Of Stop', u'Time Of Stop', u'Agency',\n",
       "       u'SubAgency', u'Description', u'Location', u'Latitude', u'Longitude',\n",
       "       u'Accident', u'Belts', u'Personal Injury', u'Property Damage', u'Fatal',\n",
       "       u'Commercial License', u'HAZMAT', u'Commercial Vehicle', u'Alcohol',\n",
       "       u'Work Zone', u'State', u'VehicleType', u'Year', u'Make', u'Model',\n",
       "       u'Color', u'Violation Type', u'Charge', u'Article',\n",
       "       u'Contributed To Accident', u'Race', u'Gender', u'Driver City',\n",
       "       u'Driver State', u'DL State', u'Arrest Type', u'Geolocation',\n",
       "       u'stop-year', u'stop-month', u'intercept'],\n",
       "      dtype='object')"
      ]
     },
     "execution_count": 67,
     "metadata": {},
     "output_type": "execute_result"
    }
   ],
   "source": [
    "df.columns"
   ]
  },
  {
   "cell_type": "code",
   "execution_count": 84,
   "metadata": {
    "collapsed": false
   },
   "outputs": [],
   "source": [
    "#df.columns[17]\n",
    "#train_cols=df.columns[17]\n",
    "train_cols1=df.loc[:,['Alcohol','Belts','HAZMAT']]\n",
    "train_cols=train_cols1.columns[:]\n",
    "#train_cols=df.columns[:\"Alcohol\":]\n",
    "#train_cols\n",
    "#train_cols.append(df.columns[14:19])"
   ]
  },
  {
   "cell_type": "code",
   "execution_count": 85,
   "metadata": {
    "collapsed": false
   },
   "outputs": [
    {
     "data": {
      "text/plain": [
       "Index([u'Alcohol', u'Belts', u'HAZMAT'], dtype='object')"
      ]
     },
     "execution_count": 85,
     "metadata": {},
     "output_type": "execute_result"
    }
   ],
   "source": [
    "train_cols"
   ]
  },
  {
   "cell_type": "code",
   "execution_count": 86,
   "metadata": {
    "collapsed": false
   },
   "outputs": [],
   "source": [
    "logit = sm.Logit(df['Property Damage'], df[train_cols])"
   ]
  },
  {
   "cell_type": "code",
   "execution_count": 87,
   "metadata": {
    "collapsed": false
   },
   "outputs": [
    {
     "name": "stdout",
     "output_type": "stream",
     "text": [
      "Optimization terminated successfully.\n",
      "         Current function value: 0.674680\n",
      "         Iterations 7\n"
     ]
    }
   ],
   "source": [
    "result = logit.fit()"
   ]
  },
  {
   "cell_type": "code",
   "execution_count": 82,
   "metadata": {
    "collapsed": false
   },
   "outputs": [
    {
     "name": "stdout",
     "output_type": "stream",
     "text": [
      "                           Logit Regression Results                           \n",
      "==============================================================================\n",
      "Dep. Variable:        Property Damage   No. Observations:               544594\n",
      "Model:                          Logit   Df Residuals:                   544593\n",
      "Method:                           MLE   Df Model:                            0\n",
      "Date:                Mon, 16 Jan 2017   Pseudo R-squ.:                  -6.870\n",
      "Time:                        15:12:16   Log-Likelihood:            -3.7697e+05\n",
      "converged:                       True   LL-Null:                       -47900.\n",
      "                                        LLR p-value:                       nan\n",
      "==============================================================================\n",
      "                 coef    std err          z      P>|z|      [95.0% Conf. Int.]\n",
      "------------------------------------------------------------------------------\n",
      "Alcohol       -2.7323      0.125    -21.832      0.000        -2.978    -2.487\n",
      "==============================================================================\n"
     ]
    }
   ],
   "source": [
    "print result.summary()"
   ]
  },
  {
   "cell_type": "code",
   "execution_count": 88,
   "metadata": {
    "collapsed": false
   },
   "outputs": [
    {
     "name": "stdout",
     "output_type": "stream",
     "text": [
      "                           Logit Regression Results                           \n",
      "==============================================================================\n",
      "Dep. Variable:        Property Damage   No. Observations:               544594\n",
      "Model:                          Logit   Df Residuals:                   544591\n",
      "Method:                           MLE   Df Model:                            2\n",
      "Date:                Mon, 16 Jan 2017   Pseudo R-squ.:                  -6.671\n",
      "Time:                        15:13:11   Log-Likelihood:            -3.6743e+05\n",
      "converged:                       True   LL-Null:                       -47900.\n",
      "                                        LLR p-value:                     1.000\n",
      "==============================================================================\n",
      "                 coef    std err          z      P>|z|      [95.0% Conf. Int.]\n",
      "------------------------------------------------------------------------------\n",
      "Alcohol       -2.7233      0.125    -21.755      0.000        -2.969    -2.478\n",
      "Belts         -2.7425      0.029    -93.531      0.000        -2.800    -2.685\n",
      "HAZMAT        -3.2478      0.721     -4.507      0.000        -4.660    -1.835\n",
      "==============================================================================\n"
     ]
    }
   ],
   "source": [
    "print result.summary()"
   ]
  },
  {
   "cell_type": "code",
   "execution_count": null,
   "metadata": {
    "collapsed": true
   },
   "outputs": [],
   "source": []
  }
 ],
 "metadata": {
  "kernelspec": {
   "display_name": "Python [conda root]",
   "language": "python",
   "name": "conda-root-py"
  },
  "language_info": {
   "codemirror_mode": {
    "name": "ipython",
    "version": 2
   },
   "file_extension": ".py",
   "mimetype": "text/x-python",
   "name": "python",
   "nbconvert_exporter": "python",
   "pygments_lexer": "ipython2",
   "version": "2.7.12"
  }
 },
 "nbformat": 4,
 "nbformat_minor": 0
}
