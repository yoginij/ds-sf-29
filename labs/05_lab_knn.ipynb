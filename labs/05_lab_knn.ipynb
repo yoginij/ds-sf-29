{
 "cells": [
  {
   "cell_type": "code",
   "execution_count": 1,
   "metadata": {
    "collapsed": true
   },
   "outputs": [],
   "source": [
    "'''\n",
    "Our KNN algorithm\n",
    "\n",
    "'''\n",
    "# imports go here\n",
    "import pandas as pd\n",
    "import numpy as np"
   ]
  },
  {
   "cell_type": "code",
   "execution_count": 7,
   "metadata": {
    "collapsed": false
   },
   "outputs": [
    {
     "data": {
      "text/plain": [
       "11.135528725660043"
      ]
     },
     "execution_count": 7,
     "metadata": {},
     "output_type": "execute_result"
    }
   ],
   "source": [
    "'''\n",
    "Part 1: Setting it all up\n",
    "'''\n",
    "\n",
    "# we will need a euclidean_distance_algorithm that takes in\n",
    "# two numpy arrays, and calculates the \n",
    "# euclidean distance between them\n",
    "\n",
    "def euclidean_distance(np1, np2):\n",
    "    return np.sqrt(sum((np1-np2)**2))\n",
    "\n",
    "euclidean_distance(np.array([1,1,4,2]), np.array([3,3,0,-8]))"
   ]
  },
  {
   "cell_type": "code",
   "execution_count": 4,
   "metadata": {
    "collapsed": true
   },
   "outputs": [],
   "source": [
    "'''\n",
    "Bring in the iris data from the web\n",
    "\n",
    "iris_data ==\n",
    "    2D numpy array of the four predictors of iris\n",
    "        plus the species\n",
    "'''\n",
    "\n",
    "iris_data = pd.read_csv('https://raw.githubusercontent.com/sinanuozdemir/sfdat22/master/data/iris.csv')\n",
    "# iris_data is a dataframe, but let's turn it into\n",
    "# a 2D numpy array\n",
    "# Hint: use .values to turn a dataframe into a 2d array\n",
    "\n",
    "iris_data = iris_data.values"
   ]
  },
  {
   "cell_type": "code",
   "execution_count": 6,
   "metadata": {
    "collapsed": false
   },
   "outputs": [
    {
     "data": {
      "text/plain": [
       "array([[5.1, 3.5, 1.4, 0.2, 'Iris-setosa'],\n",
       "       [4.9, 3.0, 1.4, 0.2, 'Iris-setosa'],\n",
       "       [4.7, 3.2, 1.3, 0.2, 'Iris-setosa'],\n",
       "       [4.6, 3.1, 1.5, 0.2, 'Iris-setosa'],\n",
       "       [5.0, 3.6, 1.4, 0.2, 'Iris-setosa'],\n",
       "       [5.4, 3.9, 1.7, 0.4, 'Iris-setosa'],\n",
       "       [4.6, 3.4, 1.4, 0.3, 'Iris-setosa'],\n",
       "       [5.0, 3.4, 1.5, 0.2, 'Iris-setosa'],\n",
       "       [4.4, 2.9, 1.4, 0.2, 'Iris-setosa'],\n",
       "       [4.9, 3.1, 1.5, 0.1, 'Iris-setosa'],\n",
       "       [5.4, 3.7, 1.5, 0.2, 'Iris-setosa'],\n",
       "       [4.8, 3.4, 1.6, 0.2, 'Iris-setosa'],\n",
       "       [4.8, 3.0, 1.4, 0.1, 'Iris-setosa'],\n",
       "       [4.3, 3.0, 1.1, 0.1, 'Iris-setosa'],\n",
       "       [5.8, 4.0, 1.2, 0.2, 'Iris-setosa'],\n",
       "       [5.7, 4.4, 1.5, 0.4, 'Iris-setosa'],\n",
       "       [5.4, 3.9, 1.3, 0.4, 'Iris-setosa'],\n",
       "       [5.1, 3.5, 1.4, 0.3, 'Iris-setosa'],\n",
       "       [5.7, 3.8, 1.7, 0.3, 'Iris-setosa'],\n",
       "       [5.1, 3.8, 1.5, 0.3, 'Iris-setosa'],\n",
       "       [5.4, 3.4, 1.7, 0.2, 'Iris-setosa'],\n",
       "       [5.1, 3.7, 1.5, 0.4, 'Iris-setosa'],\n",
       "       [4.6, 3.6, 1.0, 0.2, 'Iris-setosa'],\n",
       "       [5.1, 3.3, 1.7, 0.5, 'Iris-setosa'],\n",
       "       [4.8, 3.4, 1.9, 0.2, 'Iris-setosa'],\n",
       "       [5.0, 3.0, 1.6, 0.2, 'Iris-setosa'],\n",
       "       [5.0, 3.4, 1.6, 0.4, 'Iris-setosa'],\n",
       "       [5.2, 3.5, 1.5, 0.2, 'Iris-setosa'],\n",
       "       [5.2, 3.4, 1.4, 0.2, 'Iris-setosa'],\n",
       "       [4.7, 3.2, 1.6, 0.2, 'Iris-setosa'],\n",
       "       [4.8, 3.1, 1.6, 0.2, 'Iris-setosa'],\n",
       "       [5.4, 3.4, 1.5, 0.4, 'Iris-setosa'],\n",
       "       [5.2, 4.1, 1.5, 0.1, 'Iris-setosa'],\n",
       "       [5.5, 4.2, 1.4, 0.2, 'Iris-setosa'],\n",
       "       [4.9, 3.1, 1.5, 0.1, 'Iris-setosa'],\n",
       "       [5.0, 3.2, 1.2, 0.2, 'Iris-setosa'],\n",
       "       [5.5, 3.5, 1.3, 0.2, 'Iris-setosa'],\n",
       "       [4.9, 3.1, 1.5, 0.1, 'Iris-setosa'],\n",
       "       [4.4, 3.0, 1.3, 0.2, 'Iris-setosa'],\n",
       "       [5.1, 3.4, 1.5, 0.2, 'Iris-setosa'],\n",
       "       [5.0, 3.5, 1.3, 0.3, 'Iris-setosa'],\n",
       "       [4.5, 2.3, 1.3, 0.3, 'Iris-setosa'],\n",
       "       [4.4, 3.2, 1.3, 0.2, 'Iris-setosa'],\n",
       "       [5.0, 3.5, 1.6, 0.6, 'Iris-setosa'],\n",
       "       [5.1, 3.8, 1.9, 0.4, 'Iris-setosa'],\n",
       "       [4.8, 3.0, 1.4, 0.3, 'Iris-setosa'],\n",
       "       [5.1, 3.8, 1.6, 0.2, 'Iris-setosa'],\n",
       "       [4.6, 3.2, 1.4, 0.2, 'Iris-setosa'],\n",
       "       [5.3, 3.7, 1.5, 0.2, 'Iris-setosa'],\n",
       "       [5.0, 3.3, 1.4, 0.2, 'Iris-setosa'],\n",
       "       [7.0, 3.2, 4.7, 1.4, 'Iris-versicolor'],\n",
       "       [6.4, 3.2, 4.5, 1.5, 'Iris-versicolor'],\n",
       "       [6.9, 3.1, 4.9, 1.5, 'Iris-versicolor'],\n",
       "       [5.5, 2.3, 4.0, 1.3, 'Iris-versicolor'],\n",
       "       [6.5, 2.8, 4.6, 1.5, 'Iris-versicolor'],\n",
       "       [5.7, 2.8, 4.5, 1.3, 'Iris-versicolor'],\n",
       "       [6.3, 3.3, 4.7, 1.6, 'Iris-versicolor'],\n",
       "       [4.9, 2.4, 3.3, 1.0, 'Iris-versicolor'],\n",
       "       [6.6, 2.9, 4.6, 1.3, 'Iris-versicolor'],\n",
       "       [5.2, 2.7, 3.9, 1.4, 'Iris-versicolor'],\n",
       "       [5.0, 2.0, 3.5, 1.0, 'Iris-versicolor'],\n",
       "       [5.9, 3.0, 4.2, 1.5, 'Iris-versicolor'],\n",
       "       [6.0, 2.2, 4.0, 1.0, 'Iris-versicolor'],\n",
       "       [6.1, 2.9, 4.7, 1.4, 'Iris-versicolor'],\n",
       "       [5.6, 2.9, 3.6, 1.3, 'Iris-versicolor'],\n",
       "       [6.7, 3.1, 4.4, 1.4, 'Iris-versicolor'],\n",
       "       [5.6, 3.0, 4.5, 1.5, 'Iris-versicolor'],\n",
       "       [5.8, 2.7, 4.1, 1.0, 'Iris-versicolor'],\n",
       "       [6.2, 2.2, 4.5, 1.5, 'Iris-versicolor'],\n",
       "       [5.6, 2.5, 3.9, 1.1, 'Iris-versicolor'],\n",
       "       [5.9, 3.2, 4.8, 1.8, 'Iris-versicolor'],\n",
       "       [6.1, 2.8, 4.0, 1.3, 'Iris-versicolor'],\n",
       "       [6.3, 2.5, 4.9, 1.5, 'Iris-versicolor'],\n",
       "       [6.1, 2.8, 4.7, 1.2, 'Iris-versicolor'],\n",
       "       [6.4, 2.9, 4.3, 1.3, 'Iris-versicolor'],\n",
       "       [6.6, 3.0, 4.4, 1.4, 'Iris-versicolor'],\n",
       "       [6.8, 2.8, 4.8, 1.4, 'Iris-versicolor'],\n",
       "       [6.7, 3.0, 5.0, 1.7, 'Iris-versicolor'],\n",
       "       [6.0, 2.9, 4.5, 1.5, 'Iris-versicolor'],\n",
       "       [5.7, 2.6, 3.5, 1.0, 'Iris-versicolor'],\n",
       "       [5.5, 2.4, 3.8, 1.1, 'Iris-versicolor'],\n",
       "       [5.5, 2.4, 3.7, 1.0, 'Iris-versicolor'],\n",
       "       [5.8, 2.7, 3.9, 1.2, 'Iris-versicolor'],\n",
       "       [6.0, 2.7, 5.1, 1.6, 'Iris-versicolor'],\n",
       "       [5.4, 3.0, 4.5, 1.5, 'Iris-versicolor'],\n",
       "       [6.0, 3.4, 4.5, 1.6, 'Iris-versicolor'],\n",
       "       [6.7, 3.1, 4.7, 1.5, 'Iris-versicolor'],\n",
       "       [6.3, 2.3, 4.4, 1.3, 'Iris-versicolor'],\n",
       "       [5.6, 3.0, 4.1, 1.3, 'Iris-versicolor'],\n",
       "       [5.5, 2.5, 4.0, 1.3, 'Iris-versicolor'],\n",
       "       [5.5, 2.6, 4.4, 1.2, 'Iris-versicolor'],\n",
       "       [6.1, 3.0, 4.6, 1.4, 'Iris-versicolor'],\n",
       "       [5.8, 2.6, 4.0, 1.2, 'Iris-versicolor'],\n",
       "       [5.0, 2.3, 3.3, 1.0, 'Iris-versicolor'],\n",
       "       [5.6, 2.7, 4.2, 1.3, 'Iris-versicolor'],\n",
       "       [5.7, 3.0, 4.2, 1.2, 'Iris-versicolor'],\n",
       "       [5.7, 2.9, 4.2, 1.3, 'Iris-versicolor'],\n",
       "       [6.2, 2.9, 4.3, 1.3, 'Iris-versicolor'],\n",
       "       [5.1, 2.5, 3.0, 1.1, 'Iris-versicolor'],\n",
       "       [5.7, 2.8, 4.1, 1.3, 'Iris-versicolor'],\n",
       "       [6.3, 3.3, 6.0, 2.5, 'Iris-virginica'],\n",
       "       [5.8, 2.7, 5.1, 1.9, 'Iris-virginica'],\n",
       "       [7.1, 3.0, 5.9, 2.1, 'Iris-virginica'],\n",
       "       [6.3, 2.9, 5.6, 1.8, 'Iris-virginica'],\n",
       "       [6.5, 3.0, 5.8, 2.2, 'Iris-virginica'],\n",
       "       [7.6, 3.0, 6.6, 2.1, 'Iris-virginica'],\n",
       "       [4.9, 2.5, 4.5, 1.7, 'Iris-virginica'],\n",
       "       [7.3, 2.9, 6.3, 1.8, 'Iris-virginica'],\n",
       "       [6.7, 2.5, 5.8, 1.8, 'Iris-virginica'],\n",
       "       [7.2, 3.6, 6.1, 2.5, 'Iris-virginica'],\n",
       "       [6.5, 3.2, 5.1, 2.0, 'Iris-virginica'],\n",
       "       [6.4, 2.7, 5.3, 1.9, 'Iris-virginica'],\n",
       "       [6.8, 3.0, 5.5, 2.1, 'Iris-virginica'],\n",
       "       [5.7, 2.5, 5.0, 2.0, 'Iris-virginica'],\n",
       "       [5.8, 2.8, 5.1, 2.4, 'Iris-virginica'],\n",
       "       [6.4, 3.2, 5.3, 2.3, 'Iris-virginica'],\n",
       "       [6.5, 3.0, 5.5, 1.8, 'Iris-virginica'],\n",
       "       [7.7, 3.8, 6.7, 2.2, 'Iris-virginica'],\n",
       "       [7.7, 2.6, 6.9, 2.3, 'Iris-virginica'],\n",
       "       [6.0, 2.2, 5.0, 1.5, 'Iris-virginica'],\n",
       "       [6.9, 3.2, 5.7, 2.3, 'Iris-virginica'],\n",
       "       [5.6, 2.8, 4.9, 2.0, 'Iris-virginica'],\n",
       "       [7.7, 2.8, 6.7, 2.0, 'Iris-virginica'],\n",
       "       [6.3, 2.7, 4.9, 1.8, 'Iris-virginica'],\n",
       "       [6.7, 3.3, 5.7, 2.1, 'Iris-virginica'],\n",
       "       [7.2, 3.2, 6.0, 1.8, 'Iris-virginica'],\n",
       "       [6.2, 2.8, 4.8, 1.8, 'Iris-virginica'],\n",
       "       [6.1, 3.0, 4.9, 1.8, 'Iris-virginica'],\n",
       "       [6.4, 2.8, 5.6, 2.1, 'Iris-virginica'],\n",
       "       [7.2, 3.0, 5.8, 1.6, 'Iris-virginica'],\n",
       "       [7.4, 2.8, 6.1, 1.9, 'Iris-virginica'],\n",
       "       [7.9, 3.8, 6.4, 2.0, 'Iris-virginica'],\n",
       "       [6.4, 2.8, 5.6, 2.2, 'Iris-virginica'],\n",
       "       [6.3, 2.8, 5.1, 1.5, 'Iris-virginica'],\n",
       "       [6.1, 2.6, 5.6, 1.4, 'Iris-virginica'],\n",
       "       [7.7, 3.0, 6.1, 2.3, 'Iris-virginica'],\n",
       "       [6.3, 3.4, 5.6, 2.4, 'Iris-virginica'],\n",
       "       [6.4, 3.1, 5.5, 1.8, 'Iris-virginica'],\n",
       "       [6.0, 3.0, 4.8, 1.8, 'Iris-virginica'],\n",
       "       [6.9, 3.1, 5.4, 2.1, 'Iris-virginica'],\n",
       "       [6.7, 3.1, 5.6, 2.4, 'Iris-virginica'],\n",
       "       [6.9, 3.1, 5.1, 2.3, 'Iris-virginica'],\n",
       "       [5.8, 2.7, 5.1, 1.9, 'Iris-virginica'],\n",
       "       [6.8, 3.2, 5.9, 2.3, 'Iris-virginica'],\n",
       "       [6.7, 3.3, 5.7, 2.5, 'Iris-virginica'],\n",
       "       [6.7, 3.0, 5.2, 2.3, 'Iris-virginica'],\n",
       "       [6.3, 2.5, 5.0, 1.9, 'Iris-virginica'],\n",
       "       [6.5, 3.0, 5.2, 2.0, 'Iris-virginica'],\n",
       "       [6.2, 3.4, 5.4, 2.3, 'Iris-virginica'],\n",
       "       [5.9, 3.0, 5.1, 1.8, 'Iris-virginica']], dtype=object)"
      ]
     },
     "execution_count": 6,
     "metadata": {},
     "output_type": "execute_result"
    }
   ],
   "source": [
    "# Question: in terms of machine learning:\n",
    "#   a. the first four columns are called what?\n",
    "#   b. the species column is called what?\n",
    "\n",
    "'''\n",
    "array([[5.1, 3.5, 1.4, 0.2, 'Iris-setosa'],\n",
    "       [4.9, 3.0, 1.4, 0.2, 'Iris-setosa'],\n",
    "       [4.7, 3.2, 1.3, 0.2, 'Iris-setosa'],\n",
    "       ... ...\n",
    "       [6.2, 3.4, 5.4, 2.3, 'Iris-virginica'],\n",
    "       [5.9, 3.0, 5.1, 1.8, 'Iris-virginica']], dtype=object)\n",
    "'''\n",
    "\n",
    "iris_data\n",
    "\n"
   ]
  },
  {
   "cell_type": "code",
   "execution_count": 7,
   "metadata": {
    "collapsed": true
   },
   "outputs": [],
   "source": [
    "'''\n",
    "Part 2: Predictions\n",
    "\n",
    "Before we jump into making a general function,\n",
    "let's try to predict \n",
    "\n",
    "unknown = [ 6.3,  3.1 ,  5.1,  2.4] with 3 neighbors\n",
    "'''\n",
    "\n",
    "# define our variables\n",
    "unknown = [ 6.3,  3.1 ,  5.1,  2.4]\n",
    "k = 3"
   ]
  },
  {
   "cell_type": "code",
   "execution_count": 9,
   "metadata": {
    "collapsed": false
   },
   "outputs": [
    {
     "data": {
      "text/plain": [
       "[(4.4866468548349108, 'Iris-setosa'),\n",
       " (4.5276925690687078, 'Iris-setosa'),\n",
       " (4.6743983570080969, 'Iris-setosa'),\n",
       " (4.5486261662176632, 'Iris-setosa'),\n",
       " (4.524378410345447, 'Iris-setosa'),\n",
       " (4.1243181254602561, 'Iris-setosa'),\n",
       " (4.591296113299598, 'Iris-setosa'),\n",
       " (4.4249293779675165, 'Iris-setosa'),\n",
       " (4.7095647357266461, 'Iris-setosa'),\n",
       " (4.495553358597804, 'Iris-setosa'),\n",
       " (4.3554563480765127, 'Iris-setosa'),\n",
       " (4.4079473681068375, 'Iris-setosa'),\n",
       " (4.608687448721164, 'Iris-setosa'),\n",
       " (5.0299105359837162, 'Iris-setosa'),\n",
       " (4.5945620030640564, 'Iris-setosa'),\n",
       " (4.3600458713183281, 'Iris-setosa'),\n",
       " (4.4598206241955518, 'Iris-setosa'),\n",
       " (4.4384682042344288, 'Iris-setosa'),\n",
       " (4.1012193308819755, 'Iris-setosa'),\n",
       " (4.3931765272977588, 'Iris-setosa'),\n",
       " (4.1593268686170832, 'Iris-setosa'),\n",
       " (4.3312815655415431, 'Iris-setosa'),\n",
       " (4.9789557138018408, 'Iris-setosa'),\n",
       " (4.080441152620633, 'Iris-setosa'),\n",
       " (4.1737273509418413, 'Iris-setosa'),\n",
       " (4.3347433603386483, 'Iris-setosa'),\n",
       " (4.246174749112428, 'Iris-setosa'),\n",
       " (4.3783558557979267, 'Iris-setosa'),\n",
       " (4.4530888156424631, 'Iris-setosa'),\n",
       " (4.4339598554790722, 'Iris-setosa'),\n",
       " (4.3977266854592036, 'Iris-setosa'),\n",
       " (4.2261093218230874, 'Iris-setosa'),\n",
       " (4.5232731511594562, 'Iris-setosa'),\n",
       " (4.5144213361182839, 'Iris-setosa'),\n",
       " (4.495553358597804, 'Iris-setosa'),\n",
       " (4.6636895265444069, 'Iris-setosa'),\n",
       " (4.4810713004816156, 'Iris-setosa'),\n",
       " (4.495553358597804, 'Iris-setosa'),\n",
       " (4.7853944456021598, 'Iris-setosa'),\n",
       " (4.3965895873961216, 'Iris-setosa'),\n",
       " (4.5497252664309302, 'Iris-setosa'),\n",
       " (4.7675989764240869, 'Iris-setosa'),\n",
       " (4.7853944456021598, 'Iris-setosa'),\n",
       " (4.1641325627314023, 'Iris-setosa'),\n",
       " (4.0211938525766202, 'Iris-setosa'),\n",
       " (4.512205669071391, 'Iris-setosa'),\n",
       " (4.361192497471305, 'Iris-setosa'),\n",
       " (4.6292547996410827, 'Iris-setosa'),\n",
       " (4.3772137256478576, 'Iris-setosa'),\n",
       " (4.5011109739707589, 'Iris-setosa'),\n",
       " (1.2884098726725126, 'Iris-versicolor'),\n",
       " (1.0908712114635712, 'Iris-versicolor'),\n",
       " (1.1000000000000001, 'Iris-versicolor'),\n",
       " (1.9235384061671343, 'Iris-versicolor'),\n",
       " (1.0908712114635715, 'Iris-versicolor'),\n",
       " (1.4212670403551892, 'Iris-versicolor'),\n",
       " (0.91651513899116754, 'Iris-versicolor'),\n",
       " (2.7658633371878656, 'Iris-versicolor'),\n",
       " (1.260952021291849, 'Iris-versicolor'),\n",
       " (1.9519221295943132, 'Iris-versicolor'),\n",
       " (2.7239676943752467, 'Iris-versicolor'),\n",
       " (1.3379088160259647, 'Iris-versicolor'),\n",
       " (2.017424100183201, 'Iris-versicolor'),\n",
       " (1.1135528725660042, 'Iris-versicolor'),\n",
       " (1.9974984355438175, 'Iris-versicolor'),\n",
       " (1.2845232578665127, 'Iris-versicolor'),\n",
       " (1.2922847983320085, 'Iris-versicolor'),\n",
       " (1.8357559750685819, 'Iris-versicolor'),\n",
       " (1.4106735979665881, 'Iris-versicolor'),\n",
       " (1.994993734326, 'Iris-versicolor'),\n",
       " (0.78740078740118069, 'Iris-versicolor'),\n",
       " (1.5968719422671309, 'Iris-versicolor'),\n",
       " (1.0999999999999999, 'Iris-versicolor'),\n",
       " (1.3152946437965904, 'Iris-versicolor'),\n",
       " (1.3784048752090219, 'Iris-versicolor'),\n",
       " (1.2609520212918488, 'Iris-versicolor'),\n",
       " (1.1958260743101399, 'Iris-versicolor'),\n",
       " (0.81853527718724506, 'Iris-versicolor'),\n",
       " (1.1401754250991376, 'Iris-versicolor'),\n",
       " (2.2649503305812244, 'Iris-versicolor'),\n",
       " (2.1236760581595298, 'Iris-versicolor'),\n",
       " (2.2472205054244228, 'Iris-versicolor'),\n",
       " (1.8138357147217052, 'Iris-versicolor'),\n",
       " (0.94339811320566014, 'Iris-versicolor'),\n",
       " (1.4106735979665879, 'Iris-versicolor'),\n",
       " (1.0862780491200212, 'Iris-versicolor'),\n",
       " (1.0630145812734648, 'Iris-versicolor'),\n",
       " (1.5297058540778352, 'Iris-versicolor'),\n",
       " (1.6462077633154328, 'Iris-versicolor'),\n",
       " (1.8493242008906927, 'Iris-versicolor'),\n",
       " (1.6792855623746661, 'Iris-versicolor'),\n",
       " (1.1401754250991381, 'Iris-versicolor'),\n",
       " (1.7748239349298847, 'Iris-versicolor'),\n",
       " (2.7440845468024486, 'Iris-versicolor'),\n",
       " (1.6340134638368189, 'Iris-versicolor'),\n",
       " (1.618641405623864, 'Iris-versicolor'),\n",
       " (1.5556349186104039, 'Iris-versicolor'),\n",
       " (1.3784048752090219, 'Iris-versicolor'),\n",
       " (2.8106938645110389, 'Iris-versicolor'),\n",
       " (1.6309506430300089, 'Iris-versicolor'),\n",
       " (0.92736184954957068, 'Iris-virginica'),\n",
       " (0.81240384046359604, 'Iris-virginica'),\n",
       " (1.1747340124470733, 'Iris-virginica'),\n",
       " (0.80622577482985491, 'Iris-virginica'),\n",
       " (0.761577310586391, 'Iris-virginica'),\n",
       " (2.0099751242241779, 'Iris-virginica'),\n",
       " (1.780449381476485, 'Iris-virginica'),\n",
       " (1.6852299546352718, 'Iris-virginica'),\n",
       " (1.1704699910719627, 'Iris-virginica'),\n",
       " (1.4387494569938162, 'Iris-virginica'),\n",
       " (0.45825756949558405, 'Iris-virginica'),\n",
       " (0.67823299831252692, 'Iris-virginica'),\n",
       " (0.71414284285428509, 'Iris-virginica'),\n",
       " (0.94339811320566014, 'Iris-virginica'),\n",
       " (0.58309518948453021, 'Iris-virginica'),\n",
       " (0.26457513110645947, 'Iris-virginica'),\n",
       " (0.75498344352707514, 'Iris-virginica'),\n",
       " (2.2472205054244236, 'Iris-virginica'),\n",
       " (2.336664289109585, 'Iris-virginica'),\n",
       " (1.3114877048603999, 'Iris-virginica'),\n",
       " (0.86023252670426342, 'Iris-virginica'),\n",
       " (0.88317608663278468, 'Iris-virginica'),\n",
       " (2.184032966784156, 'Iris-virginica'),\n",
       " (0.74833147735478789, 'Iris-virginica'),\n",
       " (0.80622577482985536, 'Iris-virginica'),\n",
       " (1.4106735979665888, 'Iris-virginica'),\n",
       " (0.74161984870956621, 'Iris-virginica'),\n",
       " (0.67082039324993659, 'Iris-virginica'),\n",
       " (0.66332495807108005, 'Iris-virginica'),\n",
       " (1.3964240043768943, 'Iris-virginica'),\n",
       " (1.5968719422671316, 'Iris-virginica'),\n",
       " (2.2135943621178664, 'Iris-virginica'),\n",
       " (0.62449979983983994, 'Iris-virginica'),\n",
       " (0.94868329805051377, 'Iris-virginica'),\n",
       " (1.2409673645990857, 'Iris-virginica'),\n",
       " (1.7262676501632073, 'Iris-virginica'),\n",
       " (0.58309518948452999, 'Iris-virginica'),\n",
       " (0.72801098892805205, 'Iris-virginica'),\n",
       " (0.74161984870956599, 'Iris-virginica'),\n",
       " (0.73484692283495401, 'Iris-virginica'),\n",
       " (0.64031242374328512, 'Iris-virginica'),\n",
       " (0.60827625302982247, 'Iris-virginica'),\n",
       " (0.81240384046359604, 'Iris-virginica'),\n",
       " (0.95393920141694621, 'Iris-virginica'),\n",
       " (0.75498344352707547, 'Iris-virginica'),\n",
       " (0.43588989435406783, 'Iris-virginica'),\n",
       " (0.78740078740118113, 'Iris-virginica'),\n",
       " (0.46904157598234308, 'Iris-virginica'),\n",
       " (0.44721359549995821, 'Iris-virginica'),\n",
       " (0.72801098892805138, 'Iris-virginica')]"
      ]
     },
     "execution_count": 9,
     "metadata": {},
     "output_type": "execute_result"
    }
   ],
   "source": [
    "# Make a a list \"distances\" consisting of tuples\n",
    "# Each tuple should be\n",
    "# (euc_distance(unknown, data_point), species)\n",
    "# for each data_point in iris_data\n",
    "distances = []\n",
    "'''\n",
    "== [(4.4866468548349108, 'setosa'),\n",
    " (4.5276925690687078, 'setosa'),\n",
    " (4.6743983570080969, 'setosa'),\n",
    " ...\n",
    " (0.44721359549995821, 'virginica'),\n",
    " (0.72801098892805138, 'virginica')]\n",
    "\n",
    "'''\n",
    "distances"
   ]
  },
  {
   "cell_type": "code",
   "execution_count": 10,
   "metadata": {
    "collapsed": true
   },
   "outputs": [],
   "source": [
    "# Grab the nearest k neighbors\n",
    "\n",
    "# Now we need to take the most frequently occuring flower\n",
    "# in those k neighbors\n",
    "# To do this, Make a function that takes in a list, and returns the most commonly\n",
    "# occuring object. If there is a tie, return either of them\n",
    "\n",
    "# given a list l, this code will spit back the mode\n",
    "from collections import Counter\n",
    "l = [1,2,3,4,3,2,2,5,8,2,2,2,5,9,2,2,5,5,3,2]\n",
    "def most_frequent(l):\n",
    "    return 2 # == 2\n",
    "\n"
   ]
  },
  {
   "cell_type": "code",
   "execution_count": 11,
   "metadata": {
    "collapsed": false
   },
   "outputs": [
    {
     "data": {
      "text/plain": [
       "[(0.26457513110645947, 'Iris-virginica'),\n",
       " (0.43588989435406783, 'Iris-virginica'),\n",
       " (0.44721359549995821, 'Iris-virginica')]"
      ]
     },
     "execution_count": 11,
     "metadata": {},
     "output_type": "execute_result"
    }
   ],
   "source": [
    "# Create a list called nearest with the K nearest neighbors\n",
    "nearest = []\n",
    "nearest"
   ]
  },
  {
   "cell_type": "code",
   "execution_count": 13,
   "metadata": {
    "collapsed": false
   },
   "outputs": [
    {
     "data": {
      "text/plain": [
       "'Iris-virginica'"
      ]
     },
     "execution_count": 13,
     "metadata": {},
     "output_type": "execute_result"
    }
   ],
   "source": [
    "# use it to find the most frequent occuring flower in nearest\n",
    "# note that the species is in the 1th index\n",
    "most_frequent([n[1] for n in nearest])"
   ]
  },
  {
   "cell_type": "code",
   "execution_count": 21,
   "metadata": {
    "collapsed": false
   },
   "outputs": [
    {
     "data": {
      "text/plain": [
       "'Iris-virginica'"
      ]
     },
     "execution_count": 21,
     "metadata": {},
     "output_type": "execute_result"
    }
   ],
   "source": [
    "'''\n",
    "Time to put it in a function so we \n",
    "can apply the prediction\n",
    "to each row in our data set!\n",
    "'''    \n",
    "# will default to 3 neighbors\n",
    "'''\n",
    "    Input:\n",
    "        unknown  == four attributes of an unknown flower\n",
    "        k        == the number of neighbors used\n",
    "    Output:\n",
    "        A prediction of the species of flower (str)\n",
    "'''\n",
    "def predict(unknown, k = 3):\n",
    "    pass\n",
    "\n",
    "\n",
    "predict([ 5.8,  2.7,  5.1,  1.9]) # == 'virginica'\n"
   ]
  },
  {
   "cell_type": "code",
   "execution_count": 23,
   "metadata": {
    "collapsed": false
   },
   "outputs": [
    {
     "data": {
      "text/plain": [
       "array(['Iris-setosa', 'Iris-setosa', 'Iris-setosa', 'Iris-setosa',\n",
       "       'Iris-setosa', 'Iris-setosa', 'Iris-setosa', 'Iris-setosa',\n",
       "       'Iris-setosa', 'Iris-setosa', 'Iris-setosa', 'Iris-setosa',\n",
       "       'Iris-setosa', 'Iris-setosa', 'Iris-setosa', 'Iris-setosa',\n",
       "       'Iris-setosa', 'Iris-setosa', 'Iris-setosa', 'Iris-setosa',\n",
       "       'Iris-setosa', 'Iris-setosa', 'Iris-setosa', 'Iris-setosa',\n",
       "       'Iris-setosa', 'Iris-setosa', 'Iris-setosa', 'Iris-setosa',\n",
       "       'Iris-setosa', 'Iris-setosa', 'Iris-setosa', 'Iris-setosa',\n",
       "       'Iris-setosa', 'Iris-setosa', 'Iris-setosa', 'Iris-setosa',\n",
       "       'Iris-setosa', 'Iris-setosa', 'Iris-setosa', 'Iris-setosa',\n",
       "       'Iris-setosa', 'Iris-setosa', 'Iris-setosa', 'Iris-setosa',\n",
       "       'Iris-setosa', 'Iris-setosa', 'Iris-setosa', 'Iris-setosa',\n",
       "       'Iris-setosa', 'Iris-setosa', 'Iris-versicolor', 'Iris-versicolor',\n",
       "       'Iris-versicolor', 'Iris-versicolor', 'Iris-versicolor',\n",
       "       'Iris-versicolor', 'Iris-versicolor', 'Iris-versicolor',\n",
       "       'Iris-versicolor', 'Iris-versicolor', 'Iris-versicolor',\n",
       "       'Iris-versicolor', 'Iris-versicolor', 'Iris-versicolor',\n",
       "       'Iris-versicolor', 'Iris-versicolor', 'Iris-versicolor',\n",
       "       'Iris-versicolor', 'Iris-versicolor', 'Iris-versicolor',\n",
       "       'Iris-virginica', 'Iris-versicolor', 'Iris-virginica',\n",
       "       'Iris-versicolor', 'Iris-versicolor', 'Iris-versicolor',\n",
       "       'Iris-versicolor', 'Iris-versicolor', 'Iris-versicolor',\n",
       "       'Iris-versicolor', 'Iris-versicolor', 'Iris-versicolor',\n",
       "       'Iris-versicolor', 'Iris-virginica', 'Iris-versicolor',\n",
       "       'Iris-versicolor', 'Iris-versicolor', 'Iris-versicolor',\n",
       "       'Iris-versicolor', 'Iris-versicolor', 'Iris-versicolor',\n",
       "       'Iris-versicolor', 'Iris-versicolor', 'Iris-versicolor',\n",
       "       'Iris-versicolor', 'Iris-versicolor', 'Iris-versicolor',\n",
       "       'Iris-versicolor', 'Iris-versicolor', 'Iris-versicolor',\n",
       "       'Iris-virginica', 'Iris-virginica', 'Iris-virginica',\n",
       "       'Iris-virginica', 'Iris-virginica', 'Iris-virginica',\n",
       "       'Iris-versicolor', 'Iris-virginica', 'Iris-virginica',\n",
       "       'Iris-virginica', 'Iris-virginica', 'Iris-virginica',\n",
       "       'Iris-virginica', 'Iris-virginica', 'Iris-virginica',\n",
       "       'Iris-virginica', 'Iris-virginica', 'Iris-virginica',\n",
       "       'Iris-virginica', 'Iris-versicolor', 'Iris-virginica',\n",
       "       'Iris-virginica', 'Iris-virginica', 'Iris-virginica',\n",
       "       'Iris-virginica', 'Iris-virginica', 'Iris-virginica',\n",
       "       'Iris-virginica', 'Iris-virginica', 'Iris-virginica',\n",
       "       'Iris-virginica', 'Iris-virginica', 'Iris-virginica',\n",
       "       'Iris-versicolor', 'Iris-virginica', 'Iris-virginica',\n",
       "       'Iris-virginica', 'Iris-virginica', 'Iris-virginica',\n",
       "       'Iris-virginica', 'Iris-virginica', 'Iris-virginica',\n",
       "       'Iris-virginica', 'Iris-virginica', 'Iris-virginica',\n",
       "       'Iris-virginica', 'Iris-virginica', 'Iris-virginica',\n",
       "       'Iris-virginica', 'Iris-virginica'], \n",
       "      dtype='|S15')"
      ]
     },
     "execution_count": 23,
     "metadata": {},
     "output_type": "execute_result"
    }
   ],
   "source": [
    "'''\n",
    "Putting it all together\n",
    "'''\n",
    "\n",
    "# predict each row\n",
    "# Note I use row[-1] because the last element of each row \n",
    "# is the actual species\n",
    "predictions = np.array([predict(row[:4]) for row in iris_data])\n",
    "predictions"
   ]
  },
  {
   "cell_type": "code",
   "execution_count": 24,
   "metadata": {
    "collapsed": false
   },
   "outputs": [
    {
     "data": {
      "text/plain": [
       "0.95999999999999996"
      ]
     },
     "execution_count": 24,
     "metadata": {},
     "output_type": "execute_result"
    }
   ],
   "source": [
    "# this is the last column of the iris_data\n",
    "actual = np.array([row[-1] for row in iris_data])\n",
    "\n",
    "# accuracy of the model\n",
    "np.mean(predictions == actual)"
   ]
  },
  {
   "cell_type": "code",
   "execution_count": 25,
   "metadata": {
    "collapsed": false
   },
   "outputs": [
    {
     "data": {
      "text/plain": [
       "0.96666666666666667"
      ]
     },
     "execution_count": 25,
     "metadata": {},
     "output_type": "execute_result"
    }
   ],
   "source": [
    "# now with k == 5\n",
    "predictions = np.array([predict(row[:4], k = 5) for row in iris_data])\n",
    "\n",
    "\n",
    "# this is the last column of the iris_data\n",
    "actual = np.array([row[-1] for row in iris_data])\n",
    "\n",
    "# accuracy of the model\n",
    "np.mean(predictions == actual)"
   ]
  },
  {
   "cell_type": "code",
   "execution_count": 26,
   "metadata": {
    "collapsed": false
   },
   "outputs": [
    {
     "data": {
      "text/plain": [
       "0.97999999999999998"
      ]
     },
     "execution_count": 26,
     "metadata": {},
     "output_type": "execute_result"
    }
   ],
   "source": [
    "# now with k == 2\n",
    "predictions = np.array([predict(row[:4], k = 2) for row in iris_data])\n",
    "\n",
    "\n",
    "# this is the last column of the iris_data\n",
    "actual = np.array([row[-1] for row in iris_data])\n",
    "\n",
    "# accuracy of the model\n",
    "np.mean(predictions == actual)"
   ]
  },
  {
   "cell_type": "code",
   "execution_count": 27,
   "metadata": {
    "collapsed": false
   },
   "outputs": [
    {
     "data": {
      "text/plain": [
       "1.0"
      ]
     },
     "execution_count": 27,
     "metadata": {},
     "output_type": "execute_result"
    }
   ],
   "source": [
    "# now with k == 1\n",
    "predictions = np.array([predict(row[:4], k = 1) for row in iris_data])\n",
    "\n",
    "\n",
    "# this is the last column of the iris_data\n",
    "actual = np.array([row[-1] for row in iris_data])\n",
    "\n",
    "# accuracy of the model\n",
    "np.mean(predictions == actual)\n",
    "\n",
    "WHAAATTTTTT"
   ]
  },
  {
   "cell_type": "code",
   "execution_count": null,
   "metadata": {
    "collapsed": true
   },
   "outputs": [],
   "source": []
  }
 ],
 "metadata": {
  "kernelspec": {
   "display_name": "Python 2",
   "language": "python",
   "name": "python2"
  },
  "language_info": {
   "codemirror_mode": {
    "name": "ipython",
    "version": 2
   },
   "file_extension": ".py",
   "mimetype": "text/x-python",
   "name": "python",
   "nbconvert_exporter": "python",
   "pygments_lexer": "ipython2",
   "version": "2.7.10"
  }
 },
 "nbformat": 4,
 "nbformat_minor": 0
}
