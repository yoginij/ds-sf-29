{
 "cells": [
  {
   "cell_type": "markdown",
   "metadata": {},
   "source": [
    "Well-articulated problem statement with \"specific aim\" and hypothesis, based on your lightning talk"
   ]
  },
  {
   "cell_type": "markdown",
   "metadata": {},
   "source": [
    "Well-articulated problem statement with \"specific aim\" and hypothesis, based on your lightning talk\n",
    "An outline of any potential methods and models\n",
    "Detailed explanation of extant data available (ie: build a data dictionary or link to pre-built data dictionaries)\n",
    "Describe any outstanding questions, assumptions, risks, caveats\n",
    "Demonstrate domain knowledge, including specific features or relevant benchmarks from similar projects\n",
    "Define your goals and criteria, in order to explain what success looks like(success metrics)\n"
   ]
  },
  {
   "cell_type": "code",
   "execution_count": 134,
   "metadata": {
    "collapsed": false
   },
   "outputs": [
    {
     "data": {
      "text/plain": [
       "['Date Of Stop',\n",
       " 'Time Of Stop',\n",
       " 'Agency',\n",
       " 'SubAgency',\n",
       " 'Description',\n",
       " 'Location',\n",
       " 'Latitude',\n",
       " 'Longitude',\n",
       " 'Accident',\n",
       " 'Belts',\n",
       " 'Personal Injury',\n",
       " 'Property Damage',\n",
       " 'Fatal',\n",
       " 'Commercial License',\n",
       " 'HAZMAT',\n",
       " 'Commercial Vehicle',\n",
       " 'Alcohol',\n",
       " 'Work Zone',\n",
       " 'State',\n",
       " 'VehicleType',\n",
       " 'Year',\n",
       " 'Make',\n",
       " 'Model',\n",
       " 'Color',\n",
       " 'Violation Type',\n",
       " 'Charge',\n",
       " 'Article',\n",
       " 'Contributed To Accident',\n",
       " 'Race',\n",
       " 'Gender',\n",
       " 'Driver City',\n",
       " 'Driver State',\n",
       " 'DL State',\n",
       " 'Arrest Type',\n",
       " 'Geolocation']"
      ]
     },
     "execution_count": 134,
     "metadata": {},
     "output_type": "execute_result"
    }
   ],
   "source": [
    "%matplotlib inline\n",
    "import pandas as pd\n",
    "import sklearn.linear_model as lm\n",
    "import matplotlib.pyplot as plt\n",
    "import seaborn as sns\n",
    "\n",
    "df = pd.read_csv('/Users/yogini/Downloads/Traffic_Violations.csv')\n",
    "#df.head()\n",
    "df['Date Of Stop'].max()\n",
    "df.columns.values.tolist()"
   ]
  },
  {
   "cell_type": "code",
   "execution_count": 124,
   "metadata": {
    "collapsed": false
   },
   "outputs": [],
   "source": [
    "#df['Article']\n",
    "#df.Belts.replace(['No', 'Yes'], [0, 1], inplace=True)\n",
    "#df.Accident.replace(['No', 'Yes'], [0, 1], inplace=True)\n",
    "#df['Contributed To Accident'].replace(['No', 'Yes'], [0, 1], inplace=True)\n",
    "#df['Property Damage'].replace(['No', 'Yes',''], [0, 1,0], inplace=True)\n",
    "#df['HAZMAT'].replace(['No', 'Yes'], [0, 1], inplace=True)\n",
    "#df['Commercial Vehicle'].replace(['No', 'Yes'], [0, 1], inplace=True)\n",
    "#df['Alcohol'].replace(['No', 'Yes'], [0, 1], inplace=True)\n",
    "#df['Work Zone'].replace(['No', 'Yes'], [0, 1], inplace=True)\n",
    "#df['Personal Injury'].replace(['No', 'Yes',''], [0, 1,0], inplace=True)"
   ]
  },
  {
   "cell_type": "code",
   "execution_count": 182,
   "metadata": {
    "collapsed": false
   },
   "outputs": [
    {
     "data": {
      "text/html": [
       "<div>\n",
       "<table border=\"1\" class=\"dataframe\">\n",
       "  <thead>\n",
       "    <tr style=\"text-align: right;\">\n",
       "      <th>Property Damage</th>\n",
       "      <th>No</th>\n",
       "      <th>Yes</th>\n",
       "    </tr>\n",
       "    <tr>\n",
       "      <th>Belts</th>\n",
       "      <th></th>\n",
       "      <th></th>\n",
       "    </tr>\n",
       "  </thead>\n",
       "  <tbody>\n",
       "    <tr>\n",
       "      <th>No</th>\n",
       "      <td>150872</td>\n",
       "      <td>2954</td>\n",
       "    </tr>\n",
       "    <tr>\n",
       "      <th>Yes</th>\n",
       "      <td>5064</td>\n",
       "      <td>503</td>\n",
       "    </tr>\n",
       "  </tbody>\n",
       "</table>\n",
       "</div>"
      ],
      "text/plain": [
       "Property Damage      No   Yes\n",
       "Belts                        \n",
       "No               150872  2954\n",
       "Yes                5064   503"
      ]
     },
     "execution_count": 182,
     "metadata": {},
     "output_type": "execute_result"
    }
   ],
   "source": [
    "#df['Accident']\n",
    "pd.crosstab(df['Belts'],df['Property Damage'])\n",
    "#temp3 = pd.crosstab(df['Credit_History'], df['Loan_Status'])\n",
    "#t.plot(kind='bar', stacked=True, color=['red','blue'], grid=False)\n",
    "#df.Accident.replace(['No', 'Yes'], [0, 1], inplace=True)\n",
    "#d=data.groupby(['Accident'])\n",
    "#print d['Accident'].size()"
   ]
  },
  {
   "cell_type": "code",
   "execution_count": 183,
   "metadata": {
    "collapsed": false
   },
   "outputs": [
    {
     "data": {
      "text/plain": [
       "<matplotlib.axes._subplots.AxesSubplot at 0x11ee859d0>"
      ]
     },
     "execution_count": 183,
     "metadata": {},
     "output_type": "execute_result"
    },
    {
     "data": {
      "image/png": "[encoded data removed]",
      "text/plain": [
       "<matplotlib.figure.Figure at 0x11a40e150>"
      ]
     },
     "metadata": {},
     "output_type": "display_data"
    }
   ],
   "source": [
    "t=pd.crosstab(df['Personal Injury'],df['Property Damage'])\n",
    "#temp3 = pd.crosstab(df['Credit_History'], df['Loan_Status'])\n",
    "t.plot(kind='bar', stacked=True, color=['red','blue'], grid=False)"
   ]
  },
  {
   "cell_type": "code",
   "execution_count": 184,
   "metadata": {
    "collapsed": false
   },
   "outputs": [
    {
     "data": {
      "text/plain": [
       "<matplotlib.axes._subplots.AxesSubplot at 0x121b53990>"
      ]
     },
     "execution_count": 184,
     "metadata": {},
     "output_type": "execute_result"
    },
    {
     "data": {
      "image/png": "[encoded data removed]",
      "text/plain": [
       "<matplotlib.figure.Figure at 0x121b68990>"
      ]
     },
     "metadata": {},
     "output_type": "display_data"
    }
   ],
   "source": [
    "t=pd.crosstab(df['Fatal'],df['Property Damage'])\n",
    "#temp3 = pd.crosstab(df['Credit_History'], df['Loan_Status'])\n",
    "t.plot(kind='bar', stacked=True, color=['red','blue'], grid=False)"
   ]
  },
  {
   "cell_type": "code",
   "execution_count": 185,
   "metadata": {
    "collapsed": false
   },
   "outputs": [
    {
     "data": {
      "text/plain": [
       "<matplotlib.axes._subplots.AxesSubplot at 0x1227faf50>"
      ]
     },
     "execution_count": 185,
     "metadata": {},
     "output_type": "execute_result"
    },
    {
     "data": {
      "image/png": "[encoded data removed]",
      "text/plain": [
       "<matplotlib.figure.Figure at 0x12280bbd0>"
      ]
     },
     "metadata": {},
     "output_type": "display_data"
    }
   ],
   "source": [
    "t=pd.crosstab(df['Commercial Vehicle'],df['Property Damage'])\n",
    "t.plot(kind='bar', stacked=True, color=['red','blue'], grid=False)"
   ]
  },
  {
   "cell_type": "code",
   "execution_count": 186,
   "metadata": {
    "collapsed": false
   },
   "outputs": [
    {
     "data": {
      "text/plain": [
       "<matplotlib.axes._subplots.AxesSubplot at 0x121b53a90>"
      ]
     },
     "execution_count": 186,
     "metadata": {},
     "output_type": "execute_result"
    },
    {
     "data": {
      "image/png": "[encoded data removed]",
      "text/plain": [
       "<matplotlib.figure.Figure at 0x122d6ecd0>"
      ]
     },
     "metadata": {},
     "output_type": "display_data"
    }
   ],
   "source": [
    "t=pd.crosstab(df['HAZMAT'],df['Property Damage'])\n",
    "t.plot(kind='bar', stacked=True, color=['red','blue'], grid=False)"
   ]
  },
  {
   "cell_type": "code",
   "execution_count": 187,
   "metadata": {
    "collapsed": false
   },
   "outputs": [
    {
     "data": {
      "text/html": [
       "<div>\n",
       "<table border=\"1\" class=\"dataframe\">\n",
       "  <thead>\n",
       "    <tr style=\"text-align: right;\">\n",
       "      <th>Property Damage</th>\n",
       "      <th>No</th>\n",
       "      <th>Yes</th>\n",
       "    </tr>\n",
       "    <tr>\n",
       "      <th>Alcohol</th>\n",
       "      <th></th>\n",
       "      <th></th>\n",
       "    </tr>\n",
       "  </thead>\n",
       "  <tbody>\n",
       "    <tr>\n",
       "      <th>No</th>\n",
       "      <td>155698</td>\n",
       "      <td>3449</td>\n",
       "    </tr>\n",
       "    <tr>\n",
       "      <th>Yes</th>\n",
       "      <td>238</td>\n",
       "      <td>8</td>\n",
       "    </tr>\n",
       "  </tbody>\n",
       "</table>\n",
       "</div>"
      ],
      "text/plain": [
       "Property Damage      No   Yes\n",
       "Alcohol                      \n",
       "No               155698  3449\n",
       "Yes                 238     8"
      ]
     },
     "execution_count": 187,
     "metadata": {},
     "output_type": "execute_result"
    }
   ],
   "source": [
    "pd.crosstab(df['Alcohol'],df['Property Damage'])\n",
    "#t.plot(kind='bar', stacked=True, color=['red','blue'], grid=False)"
   ]
  },
  {
   "cell_type": "code",
   "execution_count": 188,
   "metadata": {
    "collapsed": false
   },
   "outputs": [
    {
     "data": {
      "text/html": [
       "<div>\n",
       "<table border=\"1\" class=\"dataframe\">\n",
       "  <thead>\n",
       "    <tr style=\"text-align: right;\">\n",
       "      <th>Property Damage</th>\n",
       "      <th>No</th>\n",
       "      <th>Yes</th>\n",
       "    </tr>\n",
       "    <tr>\n",
       "      <th>Work Zone</th>\n",
       "      <th></th>\n",
       "      <th></th>\n",
       "    </tr>\n",
       "  </thead>\n",
       "  <tbody>\n",
       "    <tr>\n",
       "      <th>No</th>\n",
       "      <td>155886</td>\n",
       "      <td>3457</td>\n",
       "    </tr>\n",
       "    <tr>\n",
       "      <th>Yes</th>\n",
       "      <td>50</td>\n",
       "      <td>0</td>\n",
       "    </tr>\n",
       "  </tbody>\n",
       "</table>\n",
       "</div>"
      ],
      "text/plain": [
       "Property Damage      No   Yes\n",
       "Work Zone                    \n",
       "No               155886  3457\n",
       "Yes                  50     0"
      ]
     },
     "execution_count": 188,
     "metadata": {},
     "output_type": "execute_result"
    }
   ],
   "source": [
    "pd.crosstab(df['Work Zone'],df['Property Damage'])\n",
    "#t.plot(kind='bar', stacked=True, color=['red','blue'], grid=False)"
   ]
  },
  {
   "cell_type": "code",
   "execution_count": 189,
   "metadata": {
    "collapsed": false
   },
   "outputs": [
    {
     "data": {
      "text/html": [
       "<div>\n",
       "<table border=\"1\" class=\"dataframe\">\n",
       "  <thead>\n",
       "    <tr style=\"text-align: right;\">\n",
       "      <th>Property Damage</th>\n",
       "      <th>No</th>\n",
       "      <th>Yes</th>\n",
       "    </tr>\n",
       "    <tr>\n",
       "      <th>VehicleType</th>\n",
       "      <th></th>\n",
       "      <th></th>\n",
       "    </tr>\n",
       "  </thead>\n",
       "  <tbody>\n",
       "    <tr>\n",
       "      <th>01 - Motorcycle</th>\n",
       "      <td>1642</td>\n",
       "      <td>30</td>\n",
       "    </tr>\n",
       "    <tr>\n",
       "      <th>02 - Automobile</th>\n",
       "      <td>138431</td>\n",
       "      <td>3055</td>\n",
       "    </tr>\n",
       "    <tr>\n",
       "      <th>03 - Station Wagon</th>\n",
       "      <td>2108</td>\n",
       "      <td>28</td>\n",
       "    </tr>\n",
       "    <tr>\n",
       "      <th>04 - Limousine</th>\n",
       "      <td>84</td>\n",
       "      <td>2</td>\n",
       "    </tr>\n",
       "    <tr>\n",
       "      <th>05 - Light Duty Truck</th>\n",
       "      <td>8234</td>\n",
       "      <td>198</td>\n",
       "    </tr>\n",
       "    <tr>\n",
       "      <th>06 - Heavy Duty Truck</th>\n",
       "      <td>1169</td>\n",
       "      <td>43</td>\n",
       "    </tr>\n",
       "    <tr>\n",
       "      <th>07 - Truck/Road Tractor</th>\n",
       "      <td>97</td>\n",
       "      <td>4</td>\n",
       "    </tr>\n",
       "    <tr>\n",
       "      <th>08 - Recreational Vehicle</th>\n",
       "      <td>254</td>\n",
       "      <td>3</td>\n",
       "    </tr>\n",
       "    <tr>\n",
       "      <th>09 - Farm Vehicle</th>\n",
       "      <td>7</td>\n",
       "      <td>0</td>\n",
       "    </tr>\n",
       "    <tr>\n",
       "      <th>10 - Transit Bus</th>\n",
       "      <td>43</td>\n",
       "      <td>9</td>\n",
       "    </tr>\n",
       "    <tr>\n",
       "      <th>11 - Cross Country Bus</th>\n",
       "      <td>4</td>\n",
       "      <td>0</td>\n",
       "    </tr>\n",
       "    <tr>\n",
       "      <th>12 - School Bus</th>\n",
       "      <td>19</td>\n",
       "      <td>4</td>\n",
       "    </tr>\n",
       "    <tr>\n",
       "      <th>13 - Ambulance(Emerg)</th>\n",
       "      <td>8</td>\n",
       "      <td>0</td>\n",
       "    </tr>\n",
       "    <tr>\n",
       "      <th>14 - Ambulance(Non-Emerg)</th>\n",
       "      <td>1</td>\n",
       "      <td>0</td>\n",
       "    </tr>\n",
       "    <tr>\n",
       "      <th>16 - Fire(Non-Emerg)</th>\n",
       "      <td>1</td>\n",
       "      <td>0</td>\n",
       "    </tr>\n",
       "    <tr>\n",
       "      <th>18 - Police(Non-Emerg)</th>\n",
       "      <td>3</td>\n",
       "      <td>0</td>\n",
       "    </tr>\n",
       "    <tr>\n",
       "      <th>19 - Moped</th>\n",
       "      <td>159</td>\n",
       "      <td>8</td>\n",
       "    </tr>\n",
       "    <tr>\n",
       "      <th>20 - Commercial Rig</th>\n",
       "      <td>90</td>\n",
       "      <td>0</td>\n",
       "    </tr>\n",
       "    <tr>\n",
       "      <th>21 - Tandem Trailer</th>\n",
       "      <td>3</td>\n",
       "      <td>0</td>\n",
       "    </tr>\n",
       "    <tr>\n",
       "      <th>22 - Mobile Home</th>\n",
       "      <td>1</td>\n",
       "      <td>0</td>\n",
       "    </tr>\n",
       "    <tr>\n",
       "      <th>23 - Travel/Home Trailer</th>\n",
       "      <td>3</td>\n",
       "      <td>0</td>\n",
       "    </tr>\n",
       "    <tr>\n",
       "      <th>24 - Camper</th>\n",
       "      <td>2</td>\n",
       "      <td>0</td>\n",
       "    </tr>\n",
       "    <tr>\n",
       "      <th>25 - Utility Trailer</th>\n",
       "      <td>228</td>\n",
       "      <td>0</td>\n",
       "    </tr>\n",
       "    <tr>\n",
       "      <th>26 - Boat Trailer</th>\n",
       "      <td>6</td>\n",
       "      <td>1</td>\n",
       "    </tr>\n",
       "    <tr>\n",
       "      <th>27 - Farm Equipment</th>\n",
       "      <td>20</td>\n",
       "      <td>0</td>\n",
       "    </tr>\n",
       "    <tr>\n",
       "      <th>28 - Other</th>\n",
       "      <td>2268</td>\n",
       "      <td>67</td>\n",
       "    </tr>\n",
       "    <tr>\n",
       "      <th>29 - Unknown</th>\n",
       "      <td>1051</td>\n",
       "      <td>5</td>\n",
       "    </tr>\n",
       "  </tbody>\n",
       "</table>\n",
       "</div>"
      ],
      "text/plain": [
       "Property Damage                No   Yes\n",
       "VehicleType                            \n",
       "01 - Motorcycle              1642    30\n",
       "02 - Automobile            138431  3055\n",
       "03 - Station Wagon           2108    28\n",
       "04 - Limousine                 84     2\n",
       "05 - Light Duty Truck        8234   198\n",
       "06 - Heavy Duty Truck        1169    43\n",
       "07 - Truck/Road Tractor        97     4\n",
       "08 - Recreational Vehicle     254     3\n",
       "09 - Farm Vehicle               7     0\n",
       "10 - Transit Bus               43     9\n",
       "11 - Cross Country Bus          4     0\n",
       "12 - School Bus                19     4\n",
       "13 - Ambulance(Emerg)           8     0\n",
       "14 - Ambulance(Non-Emerg)       1     0\n",
       "16 - Fire(Non-Emerg)            1     0\n",
       "18 - Police(Non-Emerg)          3     0\n",
       "19 - Moped                    159     8\n",
       "20 - Commercial Rig            90     0\n",
       "21 - Tandem Trailer             3     0\n",
       "22 - Mobile Home                1     0\n",
       "23 - Travel/Home Trailer        3     0\n",
       "24 - Camper                     2     0\n",
       "25 - Utility Trailer          228     0\n",
       "26 - Boat Trailer               6     1\n",
       "27 - Farm Equipment            20     0\n",
       "28 - Other                   2268    67\n",
       "29 - Unknown                 1051     5"
      ]
     },
     "execution_count": 189,
     "metadata": {},
     "output_type": "execute_result"
    }
   ],
   "source": [
    "pd.crosstab(df['VehicleType'],df['Property Damage'])\n",
    "#t.plot(kind='bar', stacked=True, color=['red','blue'], grid=False)"
   ]
  },
  {
   "cell_type": "code",
   "execution_count": 190,
   "metadata": {
    "collapsed": false
   },
   "outputs": [
    {
     "data": {
      "text/html": [
       "<div>\n",
       "<table border=\"1\" class=\"dataframe\">\n",
       "  <thead>\n",
       "    <tr style=\"text-align: right;\">\n",
       "      <th>Property Damage</th>\n",
       "      <th>No</th>\n",
       "      <th>Yes</th>\n",
       "    </tr>\n",
       "    <tr>\n",
       "      <th>Race</th>\n",
       "      <th></th>\n",
       "      <th></th>\n",
       "    </tr>\n",
       "  </thead>\n",
       "  <tbody>\n",
       "    <tr>\n",
       "      <th>ASIAN</th>\n",
       "      <td>8989</td>\n",
       "      <td>209</td>\n",
       "    </tr>\n",
       "    <tr>\n",
       "      <th>BLACK</th>\n",
       "      <td>50482</td>\n",
       "      <td>946</td>\n",
       "    </tr>\n",
       "    <tr>\n",
       "      <th>HISPANIC</th>\n",
       "      <td>36422</td>\n",
       "      <td>1047</td>\n",
       "    </tr>\n",
       "    <tr>\n",
       "      <th>NATIVE AMERICAN</th>\n",
       "      <td>321</td>\n",
       "      <td>14</td>\n",
       "    </tr>\n",
       "    <tr>\n",
       "      <th>OTHER</th>\n",
       "      <td>8662</td>\n",
       "      <td>181</td>\n",
       "    </tr>\n",
       "    <tr>\n",
       "      <th>WHITE</th>\n",
       "      <td>51060</td>\n",
       "      <td>1060</td>\n",
       "    </tr>\n",
       "  </tbody>\n",
       "</table>\n",
       "</div>"
      ],
      "text/plain": [
       "Property Damage     No   Yes\n",
       "Race                        \n",
       "ASIAN             8989   209\n",
       "BLACK            50482   946\n",
       "HISPANIC         36422  1047\n",
       "NATIVE AMERICAN    321    14\n",
       "OTHER             8662   181\n",
       "WHITE            51060  1060"
      ]
     },
     "execution_count": 190,
     "metadata": {},
     "output_type": "execute_result"
    }
   ],
   "source": [
    "pd.crosstab(df['Race'],df['Property Damage'])\n",
    "#t.plot(kind='bar', stacked=True, color=['red','blue'], grid=False)"
   ]
  },
  {
   "cell_type": "code",
   "execution_count": 191,
   "metadata": {
    "collapsed": false
   },
   "outputs": [
    {
     "data": {
      "text/html": [
       "<div>\n",
       "<table border=\"1\" class=\"dataframe\">\n",
       "  <thead>\n",
       "    <tr style=\"text-align: right;\">\n",
       "      <th>Property Damage</th>\n",
       "      <th>No</th>\n",
       "      <th>Yes</th>\n",
       "    </tr>\n",
       "    <tr>\n",
       "      <th>Gender</th>\n",
       "      <th></th>\n",
       "      <th></th>\n",
       "    </tr>\n",
       "  </thead>\n",
       "  <tbody>\n",
       "    <tr>\n",
       "      <th>F</th>\n",
       "      <td>49848</td>\n",
       "      <td>989</td>\n",
       "    </tr>\n",
       "    <tr>\n",
       "      <th>M</th>\n",
       "      <td>105978</td>\n",
       "      <td>2468</td>\n",
       "    </tr>\n",
       "    <tr>\n",
       "      <th>U</th>\n",
       "      <td>110</td>\n",
       "      <td>0</td>\n",
       "    </tr>\n",
       "  </tbody>\n",
       "</table>\n",
       "</div>"
      ],
      "text/plain": [
       "Property Damage      No   Yes\n",
       "Gender                       \n",
       "F                 49848   989\n",
       "M                105978  2468\n",
       "U                   110     0"
      ]
     },
     "execution_count": 191,
     "metadata": {},
     "output_type": "execute_result"
    }
   ],
   "source": [
    "pd.crosstab(df['Gender'],df['Property Damage'])\n",
    "#t.plot(kind='bar', stacked=True, color=['red','blue'], grid=False)"
   ]
  },
  {
   "cell_type": "code",
   "execution_count": 192,
   "metadata": {
    "collapsed": false
   },
   "outputs": [
    {
     "data": {
      "text/html": [
       "<div>\n",
       "<table border=\"1\" class=\"dataframe\">\n",
       "  <thead>\n",
       "    <tr style=\"text-align: right;\">\n",
       "      <th>Violation Type</th>\n",
       "      <th>Citation</th>\n",
       "      <th>ESERO</th>\n",
       "      <th>Warning</th>\n",
       "    </tr>\n",
       "    <tr>\n",
       "      <th>Personal Injury</th>\n",
       "      <th></th>\n",
       "      <th></th>\n",
       "      <th></th>\n",
       "    </tr>\n",
       "  </thead>\n",
       "  <tbody>\n",
       "    <tr>\n",
       "      <th>No</th>\n",
       "      <td>72244</td>\n",
       "      <td>7733</td>\n",
       "      <td>77374</td>\n",
       "    </tr>\n",
       "    <tr>\n",
       "      <th>Yes</th>\n",
       "      <td>1907</td>\n",
       "      <td>1</td>\n",
       "      <td>134</td>\n",
       "    </tr>\n",
       "  </tbody>\n",
       "</table>\n",
       "</div>"
      ],
      "text/plain": [
       "Violation Type   Citation  ESERO  Warning\n",
       "Personal Injury                          \n",
       "No                  72244   7733    77374\n",
       "Yes                  1907      1      134"
      ]
     },
     "execution_count": 192,
     "metadata": {},
     "output_type": "execute_result"
    }
   ],
   "source": [
    "#d=data.groupby(['is_news'])\n",
    "#print d['label'].mean()\n",
    "pd.crosstab(df['Personal Injury'],df['Violation Type'],rownames=['Personal Injury'],colnames=['Violation Type'])\n",
    "#crosstab(a, [b, c], rownames=['a'], colnames=['b', 'c'])\n",
    "#data['label'].mean()"
   ]
  },
  {
   "cell_type": "code",
   "execution_count": 201,
   "metadata": {
    "collapsed": false
   },
   "outputs": [
    {
     "name": "stdout",
     "output_type": "stream",
     "text": [
      "Accident\n",
      "0    159393\n",
      "dtype: int64\n"
     ]
    }
   ],
   "source": [
    "d=df.groupby(['Accident'])\n",
    "print d['Accident'].size()"
   ]
  },
  {
   "cell_type": "code",
   "execution_count": 193,
   "metadata": {
    "collapsed": false
   },
   "outputs": [
    {
     "data": {
      "text/html": [
       "<div>\n",
       "<table border=\"1\" class=\"dataframe\">\n",
       "  <thead>\n",
       "    <tr style=\"text-align: right;\">\n",
       "      <th>Violation Type</th>\n",
       "      <th>Citation</th>\n",
       "      <th>ESERO</th>\n",
       "      <th>Warning</th>\n",
       "    </tr>\n",
       "    <tr>\n",
       "      <th>Property Damage</th>\n",
       "      <th></th>\n",
       "      <th></th>\n",
       "      <th></th>\n",
       "    </tr>\n",
       "  </thead>\n",
       "  <tbody>\n",
       "    <tr>\n",
       "      <th>No</th>\n",
       "      <td>70965</td>\n",
       "      <td>7733</td>\n",
       "      <td>77238</td>\n",
       "    </tr>\n",
       "    <tr>\n",
       "      <th>Yes</th>\n",
       "      <td>3186</td>\n",
       "      <td>1</td>\n",
       "      <td>270</td>\n",
       "    </tr>\n",
       "  </tbody>\n",
       "</table>\n",
       "</div>"
      ],
      "text/plain": [
       "Violation Type   Citation  ESERO  Warning\n",
       "Property Damage                          \n",
       "No                  70965   7733    77238\n",
       "Yes                  3186      1      270"
      ]
     },
     "execution_count": 193,
     "metadata": {},
     "output_type": "execute_result"
    }
   ],
   "source": [
    "pd.crosstab(df['Property Damage'],df['Violation Type'],rownames=['Property Damage'],colnames=['Violation Type'])\n",
    "#t.plot(kind='bar', stacked=True, color=['red','blue'], grid=False)"
   ]
  },
  {
   "cell_type": "code",
   "execution_count": 194,
   "metadata": {
    "collapsed": false
   },
   "outputs": [
    {
     "data": {
      "text/html": [
       "<div>\n",
       "<table border=\"1\" class=\"dataframe\">\n",
       "  <thead>\n",
       "    <tr style=\"text-align: right;\">\n",
       "      <th>Violation Type</th>\n",
       "      <th>Citation</th>\n",
       "      <th>ESERO</th>\n",
       "      <th>Warning</th>\n",
       "    </tr>\n",
       "    <tr>\n",
       "      <th>Property Damage</th>\n",
       "      <th></th>\n",
       "      <th></th>\n",
       "      <th></th>\n",
       "    </tr>\n",
       "  </thead>\n",
       "  <tbody>\n",
       "    <tr>\n",
       "      <th>No</th>\n",
       "      <td>70965</td>\n",
       "      <td>7733</td>\n",
       "      <td>77238</td>\n",
       "    </tr>\n",
       "    <tr>\n",
       "      <th>Yes</th>\n",
       "      <td>3186</td>\n",
       "      <td>1</td>\n",
       "      <td>270</td>\n",
       "    </tr>\n",
       "  </tbody>\n",
       "</table>\n",
       "</div>"
      ],
      "text/plain": [
       "Violation Type   Citation  ESERO  Warning\n",
       "Property Damage                          \n",
       "No                  70965   7733    77238\n",
       "Yes                  3186      1      270"
      ]
     },
     "execution_count": 194,
     "metadata": {},
     "output_type": "execute_result"
    }
   ],
   "source": [
    "pd.crosstab(df['Property Damage'],df['Violation Type'],rownames=['Property Damage'],colnames=['Violation Type'])"
   ]
  },
  {
   "cell_type": "code",
   "execution_count": 195,
   "metadata": {
    "collapsed": false
   },
   "outputs": [
    {
     "data": {
      "text/plain": [
       "<matplotlib.axes._subplots.AxesSubplot at 0x12311e450>"
      ]
     },
     "execution_count": 195,
     "metadata": {},
     "output_type": "execute_result"
    },
    {
     "data": {
      "image/png": "[encoded data removed]",
      "text/plain": [
       "<matplotlib.figure.Figure at 0x12318d8d0>"
      ]
     },
     "metadata": {},
     "output_type": "display_data"
    }
   ],
   "source": [
    "#pd.crosstab(df['Personal Injury'],df['Alcohol'],rownames=['Personal Injury'],colnames=['Alcohol'])\n",
    "t=pd.crosstab(df['Alcohol'],df['Personal Injury'],rownames=['Alcohol'],colnames=['Personal Injury'])\n",
    "t.plot(kind='bar', stacked=True, color=['red','blue'], grid=False)"
   ]
  },
  {
   "cell_type": "code",
   "execution_count": 196,
   "metadata": {
    "collapsed": false
   },
   "outputs": [
    {
     "data": {
      "text/plain": [
       "Belts\n",
       "0    153826\n",
       "1      5567\n",
       "dtype: int64"
      ]
     },
     "execution_count": 196,
     "metadata": {},
     "output_type": "execute_result"
    }
   ],
   "source": [
    "#df.columns.values.tolist()\n",
    "#df.plot(kind='scatter',x='Personal Injury', y='Belts');\n",
    "#fig, axs = plt.subplots(1, 3, sharey=True)\n",
    "#d1=df.dropna()\n",
    "#d1.plot(kind='scatter', x='Alcohol', y='Violation Type')\n",
    "#d1.head()\n",
    "#d1[['Belts']] = d1[['Belts']].astype(int)\n",
    "#df.groupby(['Belts']).size()\n",
    "#d1['Belts']= (df['Belts'] == 'NO').astype(int)\n",
    "df.Belts.replace(['No', 'Yes'], [0, 1], inplace=True)\n",
    "#print df\n",
    "#df[['COL2', 'COL4']] = (df[['COL2', 'COL4']] == 'TRUE').astype(int)\n",
    "df.groupby(['Belts']).size()\n",
    "#print df\n",
    "#print d1.describe()\n",
    "#d=d1.groupby(['Belts'])\n",
    "#data.plot(kind='scatter', x='Radio', y='Sales', ax=axs[1])\n",
    "#data.plot(kind='scatter', x='Newspaper', y='Sales', ax=axs[2])"
   ]
  },
  {
   "cell_type": "code",
   "execution_count": 197,
   "metadata": {
    "collapsed": false
   },
   "outputs": [
    {
     "data": {
      "text/html": [
       "<div>\n",
       "<table border=\"1\" class=\"dataframe\">\n",
       "  <thead>\n",
       "    <tr style=\"text-align: right;\">\n",
       "      <th></th>\n",
       "      <th>Date Of Stop</th>\n",
       "      <th>Time Of Stop</th>\n",
       "      <th>Agency</th>\n",
       "      <th>SubAgency</th>\n",
       "      <th>Description</th>\n",
       "      <th>Location</th>\n",
       "      <th>Latitude</th>\n",
       "      <th>Longitude</th>\n",
       "      <th>Accident</th>\n",
       "      <th>Belts</th>\n",
       "      <th>...</th>\n",
       "      <th>Charge</th>\n",
       "      <th>Article</th>\n",
       "      <th>Contributed To Accident</th>\n",
       "      <th>Race</th>\n",
       "      <th>Gender</th>\n",
       "      <th>Driver City</th>\n",
       "      <th>Driver State</th>\n",
       "      <th>DL State</th>\n",
       "      <th>Arrest Type</th>\n",
       "      <th>Geolocation</th>\n",
       "    </tr>\n",
       "  </thead>\n",
       "  <tbody>\n",
       "    <tr>\n",
       "      <th>0</th>\n",
       "      <td>11/23/2016</td>\n",
       "      <td>10:56:00</td>\n",
       "      <td>MCP</td>\n",
       "      <td>2nd district, Bethesda</td>\n",
       "      <td>DRIVING MOTOR VEHICLE ON HIGHWAY WITHOUT REQUI...</td>\n",
       "      <td>355 @ 410</td>\n",
       "      <td>38.984470</td>\n",
       "      <td>-77.094138</td>\n",
       "      <td>0</td>\n",
       "      <td>0</td>\n",
       "      <td>...</td>\n",
       "      <td>16-101(a)</td>\n",
       "      <td>Transportation Article</td>\n",
       "      <td>No</td>\n",
       "      <td>WHITE</td>\n",
       "      <td>M</td>\n",
       "      <td>WASHINGTON</td>\n",
       "      <td>DC</td>\n",
       "      <td>DC</td>\n",
       "      <td>A - Marked Patrol</td>\n",
       "      <td>(38.98447, -77.0941383333333)</td>\n",
       "    </tr>\n",
       "    <tr>\n",
       "      <th>1</th>\n",
       "      <td>11/23/2016</td>\n",
       "      <td>13:36:00</td>\n",
       "      <td>MCP</td>\n",
       "      <td>5th district, Germantown</td>\n",
       "      <td>DRIVER WHEN TURNING LEFT FAIL TO YIELD RIGHT O...</td>\n",
       "      <td>FREDERICK RD/SHAKESPEARE BLVD</td>\n",
       "      <td>39.198538</td>\n",
       "      <td>-77.244758</td>\n",
       "      <td>0</td>\n",
       "      <td>0</td>\n",
       "      <td>...</td>\n",
       "      <td>21-402(a)</td>\n",
       "      <td>Transportation Article</td>\n",
       "      <td>Yes</td>\n",
       "      <td>OTHER</td>\n",
       "      <td>F</td>\n",
       "      <td>FREDERICK</td>\n",
       "      <td>MD</td>\n",
       "      <td>MD</td>\n",
       "      <td>A - Marked Patrol</td>\n",
       "      <td>(39.1985383333333, -77.2447583333333)</td>\n",
       "    </tr>\n",
       "    <tr>\n",
       "      <th>2</th>\n",
       "      <td>11/23/2016</td>\n",
       "      <td>14:16:00</td>\n",
       "      <td>MCP</td>\n",
       "      <td>3rd district, Silver Spring</td>\n",
       "      <td>DRIVING VEHICLE ON HIGHWAY WITH SUSPENDED REGI...</td>\n",
       "      <td>S/B 29 @ BLACKBURN RD</td>\n",
       "      <td>39.104683</td>\n",
       "      <td>-76.933665</td>\n",
       "      <td>0</td>\n",
       "      <td>0</td>\n",
       "      <td>...</td>\n",
       "      <td>13-401(h)</td>\n",
       "      <td>Transportation Article</td>\n",
       "      <td>No</td>\n",
       "      <td>WHITE</td>\n",
       "      <td>F</td>\n",
       "      <td>COLUMBIA</td>\n",
       "      <td>MD</td>\n",
       "      <td>MD</td>\n",
       "      <td>A - Marked Patrol</td>\n",
       "      <td>(39.1046833333333, -76.933665)</td>\n",
       "    </tr>\n",
       "    <tr>\n",
       "      <th>3</th>\n",
       "      <td>11/23/2016</td>\n",
       "      <td>16:45:00</td>\n",
       "      <td>MCP</td>\n",
       "      <td>5th district, Germantown</td>\n",
       "      <td>FRAUD IN USE OF MVA ID CARD</td>\n",
       "      <td>RIVER RD &amp; FALLS RD</td>\n",
       "      <td>NaN</td>\n",
       "      <td>NaN</td>\n",
       "      <td>0</td>\n",
       "      <td>0</td>\n",
       "      <td>...</td>\n",
       "      <td>12-301(e)</td>\n",
       "      <td>Transportation Article</td>\n",
       "      <td>No</td>\n",
       "      <td>BLACK</td>\n",
       "      <td>M</td>\n",
       "      <td>BELTSVILLE</td>\n",
       "      <td>MD</td>\n",
       "      <td>MD</td>\n",
       "      <td>B - Unmarked Patrol</td>\n",
       "      <td>NaN</td>\n",
       "    </tr>\n",
       "    <tr>\n",
       "      <th>4</th>\n",
       "      <td>11/23/2016</td>\n",
       "      <td>16:45:00</td>\n",
       "      <td>MCP</td>\n",
       "      <td>5th district, Germantown</td>\n",
       "      <td>POSSESSING MORE THAN ONE DRIVER'S LICENSE AT A...</td>\n",
       "      <td>RIVER RD &amp; FALLS RD</td>\n",
       "      <td>NaN</td>\n",
       "      <td>NaN</td>\n",
       "      <td>0</td>\n",
       "      <td>0</td>\n",
       "      <td>...</td>\n",
       "      <td>16-111.1(f)</td>\n",
       "      <td>Transportation Article</td>\n",
       "      <td>No</td>\n",
       "      <td>BLACK</td>\n",
       "      <td>M</td>\n",
       "      <td>BELTSVILLE</td>\n",
       "      <td>MD</td>\n",
       "      <td>MD</td>\n",
       "      <td>B - Unmarked Patrol</td>\n",
       "      <td>NaN</td>\n",
       "    </tr>\n",
       "  </tbody>\n",
       "</table>\n",
       "<p>5 rows × 35 columns</p>\n",
       "</div>"
      ],
      "text/plain": [
       "  Date Of Stop Time Of Stop Agency                    SubAgency  \\\n",
       "0   11/23/2016     10:56:00    MCP       2nd district, Bethesda   \n",
       "1   11/23/2016     13:36:00    MCP     5th district, Germantown   \n",
       "2   11/23/2016     14:16:00    MCP  3rd district, Silver Spring   \n",
       "3   11/23/2016     16:45:00    MCP     5th district, Germantown   \n",
       "4   11/23/2016     16:45:00    MCP     5th district, Germantown   \n",
       "\n",
       "                                         Description  \\\n",
       "0  DRIVING MOTOR VEHICLE ON HIGHWAY WITHOUT REQUI...   \n",
       "1  DRIVER WHEN TURNING LEFT FAIL TO YIELD RIGHT O...   \n",
       "2  DRIVING VEHICLE ON HIGHWAY WITH SUSPENDED REGI...   \n",
       "3                        FRAUD IN USE OF MVA ID CARD   \n",
       "4  POSSESSING MORE THAN ONE DRIVER'S LICENSE AT A...   \n",
       "\n",
       "                        Location   Latitude  Longitude  Accident  Belts  \\\n",
       "0                      355 @ 410  38.984470 -77.094138         0      0   \n",
       "1  FREDERICK RD/SHAKESPEARE BLVD  39.198538 -77.244758         0      0   \n",
       "2          S/B 29 @ BLACKBURN RD  39.104683 -76.933665         0      0   \n",
       "3            RIVER RD & FALLS RD        NaN        NaN         0      0   \n",
       "4            RIVER RD & FALLS RD        NaN        NaN         0      0   \n",
       "\n",
       "                   ...                         Charge                 Article  \\\n",
       "0                  ...                      16-101(a)  Transportation Article   \n",
       "1                  ...                      21-402(a)  Transportation Article   \n",
       "2                  ...                      13-401(h)  Transportation Article   \n",
       "3                  ...                      12-301(e)  Transportation Article   \n",
       "4                  ...                    16-111.1(f)  Transportation Article   \n",
       "\n",
       "  Contributed To Accident   Race Gender Driver City Driver State DL State  \\\n",
       "0                      No  WHITE      M  WASHINGTON           DC       DC   \n",
       "1                     Yes  OTHER      F   FREDERICK           MD       MD   \n",
       "2                      No  WHITE      F    COLUMBIA           MD       MD   \n",
       "3                      No  BLACK      M  BELTSVILLE           MD       MD   \n",
       "4                      No  BLACK      M  BELTSVILLE           MD       MD   \n",
       "\n",
       "           Arrest Type                            Geolocation  \n",
       "0    A - Marked Patrol          (38.98447, -77.0941383333333)  \n",
       "1    A - Marked Patrol  (39.1985383333333, -77.2447583333333)  \n",
       "2    A - Marked Patrol         (39.1046833333333, -76.933665)  \n",
       "3  B - Unmarked Patrol                                    NaN  \n",
       "4  B - Unmarked Patrol                                    NaN  \n",
       "\n",
       "[5 rows x 35 columns]"
      ]
     },
     "execution_count": 197,
     "metadata": {},
     "output_type": "execute_result"
    }
   ],
   "source": [
    "df.head()\n",
    "#df.Belts.replace(['No', 'Yes'], [0, 1], inplace=True)\n",
    "#df.Accident.replace(['No', 'Yes'], [0, 1], inplace=True)\n",
    "#df.Contributed To Accident.replace(['No', 'Yes'], [0, 1], inplace=True)"
   ]
  },
  {
   "cell_type": "code",
   "execution_count": 198,
   "metadata": {
    "collapsed": false
   },
   "outputs": [],
   "source": [
    "#n= d1.groupby(['Belts'])\n",
    "#print n\n",
    "#df.plot(kind='scatter',x='Personal Injury', y='Belts')"
   ]
  },
  {
   "cell_type": "code",
   "execution_count": 199,
   "metadata": {
    "collapsed": true
   },
   "outputs": [],
   "source": [
    "df.plot.scatter?"
   ]
  },
  {
   "cell_type": "code",
   "execution_count": null,
   "metadata": {
    "collapsed": true
   },
   "outputs": [],
   "source": []
  }
 ],
 "metadata": {
  "anaconda-cloud": {},
  "kernelspec": {
   "display_name": "Python [default]",
   "language": "python",
   "name": "python2"
  },
  "language_info": {
   "codemirror_mode": {
    "name": "ipython",
    "version": 2
   },
   "file_extension": ".py",
   "mimetype": "text/x-python",
   "name": "python",
   "nbconvert_exporter": "python",
   "pygments_lexer": "ipython2",
   "version": "2.7.12"
  }
 },
 "nbformat": 4,
 "nbformat_minor": 0
}
