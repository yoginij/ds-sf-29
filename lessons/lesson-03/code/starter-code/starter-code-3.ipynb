{
 "cells": [
  {
   "cell_type": "markdown",
   "metadata": {},
   "source": [
    "# Lesson 3 Codealong\n",
    "Instructor: Amy Roberts, PhD"
   ]
  },
  {
   "cell_type": "code",
   "execution_count": 1,
   "metadata": {
    "collapsed": true
   },
   "outputs": [],
   "source": [
    "#General imports\n",
    "from sklearn import datasets\n",
    "from sklearn import metrics\n",
    "import pandas as pd\n",
    "import numpy as np\n",
    "\n",
    "import matplotlib.pyplot as plt\n",
    "%matplotlib inline"
   ]
  },
  {
   "cell_type": "markdown",
   "metadata": {},
   "source": [
    "### Part 1. Basic Stats\n",
    "\t\n",
    "    Methods available include: \n",
    "\t\t.min() - Compute minimum value\n",
    "\t\t.max() - Compute maximum value\n",
    "\t\t.mean() - Compute mean value\n",
    "\t\t.median() - Compute median value\n",
    "        .mode() - Compute mode value(s)\n",
    "\t\t.count() - Count the number of observations"
   ]
  },
  {
   "cell_type": "markdown",
   "metadata": {},
   "source": [
    "#### Read in the examples"
   ]
  },
  {
   "cell_type": "code",
   "execution_count": 2,
   "metadata": {
    "collapsed": false
   },
   "outputs": [
    {
     "name": "stdout",
     "output_type": "stream",
     "text": [
      "   example1  example2  example3\n",
      "0        18        75        55\n",
      "1        24        87        47\n",
      "2        17        49        38\n",
      "3        21        68        66\n",
      "4        24        75        56\n",
      "5        16        84        64\n",
      "6        29        98        44\n",
      "7        18        92        39\n"
     ]
    }
   ],
   "source": [
    "df = pd.DataFrame({'example1' : [18, 24, 17, 21, 24, 16, 29, 18], 'example2' : [75, 87, 49, 68, 75, 84, 98, 92], 'example3' : [55, 47, 38, 66, 56, 64, 44, 39] })\n",
    "print df\n"
   ]
  },
  {
   "cell_type": "markdown",
   "metadata": {},
   "source": [
    "#### Instructor example: Calculate the mean for each coloumn"
   ]
  },
  {
   "cell_type": "code",
   "execution_count": 3,
   "metadata": {
    "collapsed": false
   },
   "outputs": [
    {
     "data": {
      "text/plain": [
       "example1    20.875\n",
       "example2    78.500\n",
       "example3    51.125\n",
       "dtype: float64"
      ]
     },
     "execution_count": 3,
     "metadata": {},
     "output_type": "execute_result"
    }
   ],
   "source": [
    "df.mean()"
   ]
  },
  {
   "cell_type": "markdown",
   "metadata": {},
   "source": [
    "#### Students: Calculate median, mode, max, min for example\n",
    "\n",
    "Note: All answers should match your hand calculations"
   ]
  },
  {
   "cell_type": "code",
   "execution_count": 4,
   "metadata": {
    "collapsed": false
   },
   "outputs": [
    {
     "data": {
      "text/plain": [
       "example1    29\n",
       "example2    98\n",
       "example3    66\n",
       "dtype: int64"
      ]
     },
     "execution_count": 4,
     "metadata": {},
     "output_type": "execute_result"
    }
   ],
   "source": [
    "df.max()"
   ]
  },
  {
   "cell_type": "code",
   "execution_count": 5,
   "metadata": {
    "collapsed": false
   },
   "outputs": [
    {
     "data": {
      "text/plain": [
       "example1    16\n",
       "example2    49\n",
       "example3    38\n",
       "dtype: int64"
      ]
     },
     "execution_count": 5,
     "metadata": {},
     "output_type": "execute_result"
    }
   ],
   "source": [
    "df.min()"
   ]
  },
  {
   "cell_type": "code",
   "execution_count": 6,
   "metadata": {
    "collapsed": false
   },
   "outputs": [
    {
     "data": {
      "text/plain": [
       "example1    19.5\n",
       "example2    79.5\n",
       "example3    51.0\n",
       "dtype: float64"
      ]
     },
     "execution_count": 6,
     "metadata": {},
     "output_type": "execute_result"
    }
   ],
   "source": [
    "df.median()"
   ]
  },
  {
   "cell_type": "code",
   "execution_count": 7,
   "metadata": {
    "collapsed": false
   },
   "outputs": [
    {
     "data": {
      "text/html": [
       "<div>\n",
       "<table border=\"1\" class=\"dataframe\">\n",
       "  <thead>\n",
       "    <tr style=\"text-align: right;\">\n",
       "      <th></th>\n",
       "      <th>example1</th>\n",
       "      <th>example2</th>\n",
       "      <th>example3</th>\n",
       "    </tr>\n",
       "  </thead>\n",
       "  <tbody>\n",
       "    <tr>\n",
       "      <th>0</th>\n",
       "      <td>18</td>\n",
       "      <td>75.0</td>\n",
       "      <td>NaN</td>\n",
       "    </tr>\n",
       "    <tr>\n",
       "      <th>1</th>\n",
       "      <td>24</td>\n",
       "      <td>NaN</td>\n",
       "      <td>NaN</td>\n",
       "    </tr>\n",
       "  </tbody>\n",
       "</table>\n",
       "</div>"
      ],
      "text/plain": [
       "   example1  example2  example3\n",
       "0        18      75.0       NaN\n",
       "1        24       NaN       NaN"
      ]
     },
     "execution_count": 7,
     "metadata": {},
     "output_type": "execute_result"
    }
   ],
   "source": [
    "df.mode()"
   ]
  },
  {
   "cell_type": "markdown",
   "metadata": {},
   "source": [
    "### Part 2. Box Plot"
   ]
  },
  {
   "cell_type": "markdown",
   "metadata": {},
   "source": [
    "#### Instructor: Interquartile range "
   ]
  },
  {
   "cell_type": "code",
   "execution_count": 9,
   "metadata": {
    "collapsed": false
   },
   "outputs": [
    {
     "name": "stdout",
     "output_type": "stream",
     "text": [
      "50% Quartile:\n",
      "example1    19.5\n",
      "example2    79.5\n",
      "example3    51.0\n",
      "dtype: float64\n",
      "Median (red line of the box)\n",
      "example1    19.5\n",
      "example2    79.5\n",
      "example3    51.0\n",
      "dtype: float64\n"
     ]
    }
   ],
   "source": [
    "print \"50% Quartile:\"\n",
    "print df.quantile(.50) \n",
    "print \"Median (red line of the box)\"\n",
    "print df.median()"
   ]
  },
  {
   "cell_type": "code",
   "execution_count": 10,
   "metadata": {
    "collapsed": false
   },
   "outputs": [
    {
     "name": "stdout",
     "output_type": "stream",
     "text": [
      "25% (bottome of the box)\n",
      "example1    17.75\n",
      "example2    73.25\n",
      "example3    42.75\n",
      "dtype: float64\n",
      "75% (top of the box)\n",
      "example1    24.00\n",
      "example2    88.25\n",
      "example3    58.00\n",
      "dtype: float64\n"
     ]
    }
   ],
   "source": [
    "print\"25% (bottome of the box)\"\n",
    "print df.quantile(0.25)\n",
    "print\"75% (top of the box)\"\n",
    "print df.quantile(0.75)"
   ]
  },
  {
   "cell_type": "code",
   "execution_count": 11,
   "metadata": {
    "collapsed": false
   },
   "outputs": [
    {
     "data": {
      "text/plain": [
       "<matplotlib.axes._subplots.AxesSubplot at 0x118b8f150>"
      ]
     },
     "execution_count": 11,
     "metadata": {},
     "output_type": "execute_result"
    },
    {
     "data": {
      "image/png": "[encoded data removed]",
      "text/plain": [
       "<matplotlib.figure.Figure at 0x118b07450>"
      ]
     },
     "metadata": {},
     "output_type": "display_data"
    }
   ],
   "source": [
    "df['example1'].plot(kind='box')"
   ]
  },
  {
   "cell_type": "markdown",
   "metadata": {},
   "source": [
    "#### Student: Create plots for examples 2 and 3 and check the quartiles"
   ]
  },
  {
   "cell_type": "code",
   "execution_count": 14,
   "metadata": {
    "collapsed": false
   },
   "outputs": [
    {
     "data": {
      "text/plain": [
       "<matplotlib.axes._subplots.AxesSubplot at 0x11552bed0>"
      ]
     },
     "execution_count": 14,
     "metadata": {},
     "output_type": "execute_result"
    },
    {
     "data": {
      "image/png": "[encoded data removed]",
      "text/plain": [
       "<matplotlib.figure.Figure at 0x115e269d0>"
      ]
     },
     "metadata": {},
     "output_type": "display_data"
    }
   ],
   "source": [
    "df['example2'].plot(kind='box')"
   ]
  },
  {
   "cell_type": "markdown",
   "metadata": {},
   "source": [
    "#### What does the cross in example 2 represent?"
   ]
  },
  {
   "cell_type": "markdown",
   "metadata": {},
   "source": [
    "Answer: "
   ]
  },
  {
   "cell_type": "markdown",
   "metadata": {},
   "source": [
    "### Part 3. Standard Deviation and Variance"
   ]
  },
  {
   "cell_type": "markdown",
   "metadata": {},
   "source": [
    "**Variance:** The variance is how much the predictions for a given point vary between different realizations of the model.\n",
    "\n",
    "**Standard Deviation:** The square root of the variance"
   ]
  },
  {
   "cell_type": "markdown",
   "metadata": {},
   "source": [
    "<img(src='../../assets/images/biasVsVarianceImage.png', style=\"width: 30%; height: 30%\")>"
   ]
  },
  {
   "cell_type": "markdown",
   "metadata": {},
   "source": [
    "#### In Pandas\n",
    "\tMethods include: \n",
    "\t\t.std() - Compute Standard Deviation\n",
    "\t\t.var() - Compute variance"
   ]
  },
  {
   "cell_type": "markdown",
   "metadata": {},
   "source": [
    "#### Let's calculate variance by hand first. \n",
    "<img(src='../../assets/images/samplevarstd.png', style=\"width: 50%; height: 50%\")>"
   ]
  },
  {
   "cell_type": "code",
   "execution_count": null,
   "metadata": {
    "collapsed": false
   },
   "outputs": [],
   "source": [
    "#example1\n",
    "mean = df[\"example1\"].mean()\n",
    "n= df[\"example1\"].count()\n",
    "\n",
    "print df[\"example1\"]\n",
    "print mean\n",
    "print n\n"
   ]
  },
  {
   "cell_type": "code",
   "execution_count": null,
   "metadata": {
    "collapsed": false
   },
   "outputs": [],
   "source": [
    "# written out by hand for instructional purposes \n",
    "#if there is time, have the students refactor this to create a function to calculate variance for any dataset\n",
    "#find the squared distance from the mean\n",
    "\n",
    "obs0 = (18 - mean)**2\n",
    "obs1 = (24 - mean)**2\n",
    "obs2 = (17 - mean)**2\n",
    "obs3 = (21 - mean)**2\n",
    "obs4 = (24 - mean)**2\n",
    "obs5 = (16 - mean)**2\n",
    "obs6 = (29 - mean)**2\n",
    "obs7 = (18 - mean)**2\n",
    "\n",
    "print obs0, obs1, obs2, obs3, obs4, obs5, obs6, obs7\n",
    "\n",
    "#sum each observation's squared distance from the mean \n",
    "numerator = obs0 + obs1 + obs2 + obs3 + obs4 + obs5 + obs6 +obs7\n",
    "denominator = n - 1\n",
    "variance = numerator/denominator\n",
    "print numerator \n",
    "print denominator\n",
    "print variance\n",
    "\n"
   ]
  },
  {
   "cell_type": "code",
   "execution_count": null,
   "metadata": {
    "collapsed": false
   },
   "outputs": [],
   "source": [
    "# in pandas\n",
    "print \"Variance\"\n",
    "print df[\"example1\"].var()"
   ]
  },
  {
   "cell_type": "markdown",
   "metadata": {},
   "source": [
    "#### Students: Calculate the standard deviation by hand for each sample\n",
    "\n",
    "Recall that the standard deviation is the square root of the variance. "
   ]
  },
  {
   "cell_type": "code",
   "execution_count": 22,
   "metadata": {
    "collapsed": false
   },
   "outputs": [
    {
     "ename": "SyntaxError",
     "evalue": "invalid syntax (<ipython-input-22-2de6bc93b866>, line 5)",
     "output_type": "error",
     "traceback": [
      "\u001b[0;36m  File \u001b[0;32m\"<ipython-input-22-2de6bc93b866>\"\u001b[0;36m, line \u001b[0;32m5\u001b[0m\n\u001b[0;31m    example2_sd.apply(lamda row: row[A]-row[B])\u001b[0m\n\u001b[0m                              ^\u001b[0m\n\u001b[0;31mSyntaxError\u001b[0m\u001b[0;31m:\u001b[0m invalid syntax\n"
     ]
    }
   ],
   "source": [
    "example2_sd=df[\"example2\"].copy()\n",
    "example2_sd\n",
    "mean_e2=example2_sd.mean()\n",
    "example2_sd\n",
    "example2_sd.apply(lamda row: row[A]-row[B])\n",
    "#d.apply(lambda row: min([row['A'], row['B']])-row['C'], axis=1)"
   ]
  },
  {
   "cell_type": "code",
   "execution_count": null,
   "metadata": {
    "collapsed": false
   },
   "outputs": [],
   "source": [
    "#calculate standard deviation by hand\n"
   ]
  },
  {
   "cell_type": "code",
   "execution_count": null,
   "metadata": {
    "collapsed": false
   },
   "outputs": [],
   "source": [
    "#now do it with pandas!\n"
   ]
  },
  {
   "cell_type": "markdown",
   "metadata": {},
   "source": [
    "#### Short Cut!"
   ]
  },
  {
   "cell_type": "code",
   "execution_count": null,
   "metadata": {
    "collapsed": false
   },
   "outputs": [],
   "source": [
    "df.describe()"
   ]
  },
  {
   "cell_type": "markdown",
   "metadata": {},
   "source": [
    "#### Student: Check understanding \n",
    "Which value in the above table is the median? "
   ]
  },
  {
   "cell_type": "markdown",
   "metadata": {},
   "source": [
    "Answer: "
   ]
  },
  {
   "cell_type": "markdown",
   "metadata": {},
   "source": [
    "### Part 4: Correlation"
   ]
  },
  {
   "cell_type": "code",
   "execution_count": null,
   "metadata": {
    "collapsed": false
   },
   "outputs": [],
   "source": [
    "df.corr()"
   ]
  }
 ],
 "metadata": {
  "kernelspec": {
   "display_name": "Python 2",
   "language": "python",
   "name": "python2"
  },
  "language_info": {
   "codemirror_mode": {
    "name": "ipython",
    "version": 2
   },
   "file_extension": ".py",
   "mimetype": "text/x-python",
   "name": "python",
   "nbconvert_exporter": "python",
   "pygments_lexer": "ipython2",
   "version": "2.7.11"
  }
 },
 "nbformat": 4,
 "nbformat_minor": 0
}
